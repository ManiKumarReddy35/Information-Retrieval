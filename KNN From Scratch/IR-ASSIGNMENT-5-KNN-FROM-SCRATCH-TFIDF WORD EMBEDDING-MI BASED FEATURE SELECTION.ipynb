{
 "cells": [
  {
   "cell_type": "markdown",
   "metadata": {},
   "source": [
    "## KNN FROM SCRATCH USING TFIDF WORD EMBEDDING & MI BASED FEAT' SELECTION"
   ]
  },
  {
   "cell_type": "markdown",
   "metadata": {},
   "source": [
    "### IMPORTING REQUIRED MODULES"
   ]
  },
  {
   "cell_type": "code",
   "execution_count": 12,
   "metadata": {},
   "outputs": [],
   "source": [
    "import re\n",
    "from nltk import word_tokenize\n",
    "import glob  \n",
    "from nltk.corpus import stopwords\n",
    "import time\n",
    "from nltk.stem import WordNetLemmatizer \n",
    "lemmatizer = WordNetLemmatizer() \n",
    "import os\n",
    "import sys \n",
    "from tqdm import tqdm\n",
    "import pickle\n",
    "from collections import Counter\n",
    "import operator\n",
    "import math\n",
    "import json\n",
    "import numpy as np\n",
    "import pandas as  pd\n",
    "from prettytable import PrettyTable\n",
    "import math\n",
    "import warnings\n",
    "warnings.filterwarnings('ignore')\n",
    "import matplotlib.pyplot as plt\n",
    "import seaborn as sns\n",
    "from sklearn.model_selection import train_test_split\n",
    "from scipy.spatial import distance\n",
    "from statistics import mode\n",
    "from sklearn.metrics import confusion_matrix\n",
    "import itertools\n",
    "import copy\n",
    "from IPython.display import display"
   ]
  },
  {
   "cell_type": "markdown",
   "metadata": {},
   "source": [
    "### DATA PREPROCESSING FUNCTION"
   ]
  },
  {
   "cell_type": "code",
   "execution_count": 13,
   "metadata": {},
   "outputs": [],
   "source": [
    "def preprocess(data):\n",
    "    stopword=\"\"\n",
    "    cleantext = \" \"\n",
    "    stopword = set(stopwords.words('english'))\n",
    "    for i in word_tokenize(data):\n",
    "        i=i.lower()\n",
    "        if i not in stopword and len(i)>2 and not(any(l.isdigit() for l in i)):\n",
    "            pattern1 = '[!.?$\\[\\]/\\}#=<>\"\\*:,|_~;()^\\']'\n",
    "            pattern2 = '[\\n\\n]+'\n",
    "            pattern3 = '[\\ \\ ]+'\n",
    "            wout_sc = re.sub(pattern1,'',i) #removing special characters\n",
    "            wout_el = re.sub(pattern2,'\\n',wout_sc) # removing empty lines (which are greater than 2)\n",
    "            wout_mspaces = re.sub(pattern3,' ',wout_el) # removing multiple spaces\n",
    "            cleaned_text = wout_mspaces.strip()\n",
    "            cleaned_text=lemmatizer.lemmatize(cleaned_text)\n",
    "            cleantext = cleantext+cleaned_text+\" \"\n",
    "    return cleantext.strip()"
   ]
  },
  {
   "cell_type": "markdown",
   "metadata": {},
   "source": [
    "### READING THE NAMES OF THE FILES"
   ]
  },
  {
   "cell_type": "code",
   "execution_count": 14,
   "metadata": {},
   "outputs": [],
   "source": [
    "def read_names(path):\n",
    "    i=0\n",
    "    df = pd.DataFrame(columns=['Doc_Name'])\n",
    "    folders = glob.glob(path)\n",
    "    for f in tqdm(folders,leave=True,position=0):\n",
    "        head,tail = os.path.split(f)\n",
    "        if(tail==\"comp.graphics\"or tail==\"sci.med\"or tail==\"talk.politics.misc\"or tail==\"rec.sport.hockey\"or tail==\"sci.space\"):\n",
    "            for file in glob.glob(f+\"\\*\"):\n",
    "                head1,tail1 = os.path.split(file)\n",
    "                df.loc[i] = tail+\"_\"+tail1\n",
    "                i=i+1\n",
    "    return df"
   ]
  },
  {
   "cell_type": "markdown",
   "metadata": {},
   "source": [
    "### PERFORMING TRAIN-TEST SPLIT"
   ]
  },
  {
   "cell_type": "code",
   "execution_count": 15,
   "metadata": {},
   "outputs": [],
   "source": [
    "def split(ratio,data_frame):\n",
    "    data_frame_temp = data_frame.copy()\n",
    "    train_files,test_files = train_test_split(data_frame_temp,train_size=ratio,random_state=0)\n",
    "    return train_files,test_files"
   ]
  },
  {
   "cell_type": "markdown",
   "metadata": {},
   "source": [
    "### READING THE DATA & BUILDING TFs and DFs FOR TRAINING SET\n",
    "### CORPUS CONSIDERED :: \"20 news groups\" \n",
    "### FOLDERS CONSIDERED: \n",
    "### 1. comp.graphics \n",
    "### 2. sci.med \n",
    "### 3.talk.politics.misc \n",
    "### 4.rec.sport.hockey \n",
    "### 5.sci.space"
   ]
  },
  {
   "cell_type": "code",
   "execution_count": 25,
   "metadata": {},
   "outputs": [],
   "source": [
    "def readfiles(path,ratio,test_files):\n",
    "    folders = glob.glob(path)\n",
    "    preproc_data_dict={} ## key : file-name, value: pre-processed data\n",
    "    train_files_class_wise={}\n",
    "    test_preproc_dict={}\n",
    "    train_files_doc_wise={}\n",
    "    tfs_doc_wise={}\n",
    "    df_dict_doc_wise={}\n",
    "    for f in tqdm(folders,leave=True,position=0):\n",
    "        head,tail = os.path.split(f)\n",
    "        if(tail==\"comp.graphics\"or tail==\"sci.med\"or tail==\"talk.politics.misc\"or tail==\"rec.sport.hockey\"or tail==\"sci.space\"):\n",
    "            for file in glob.glob(f+\"\\*\"):\n",
    "                flag=0\n",
    "                head1,tail1 = os.path.split(file)\n",
    "                with open(file) as newlinetest:   ## identifying the first new line in the data.. to remove meta-data\n",
    "                    indi = newlinetest.readlines()\n",
    "                for newline in range(len(indi)):\n",
    "                    if(indi[newline]!=\"\\n\"):\n",
    "                        continue\n",
    "                    break\n",
    "                filedata=[]\n",
    "                try:\n",
    "                    with open(file,\"r\") as data:  ## READING THE DATA ignoring the meta-data\n",
    "                        filedata.append(data.readlines()[newline+1:])\n",
    "                        for l in range(len(filedata)):\n",
    "                            inter_data = ' '.join(filedata[l])\n",
    "                    preproc_data = preprocess(inter_data)\n",
    "                    if(tail+\"_\"+tail1 not in list(test_files['Doc_Name'])): ## reading only the training data\n",
    "                        train_files_doc_wise[tail+\"_\"+tail1] = preproc_data\n",
    "                        if tail not in train_files_class_wise:\n",
    "                            train_files_class_wise[tail]=1\n",
    "                        else:\n",
    "                            train_files_class_wise[tail]+=1\n",
    "                        if tail not in preproc_data_dict: ## merging the data of all documents belonging to a single class..\n",
    "                            preproc_data_dict[tail] = preproc_data\n",
    "                        else:\n",
    "                            preproc_data_dict[tail] = preproc_data_dict[tail]+\" \"+preproc_data\n",
    "                    else:\n",
    "                        test_preproc_dict[tail+\"_\"+tail1] = preproc_data\n",
    "                    \n",
    "                except e:\n",
    "                    print(\"EXCEPTION OCCURED..\")\n",
    "    print(\"TOTAL TRAINING FILES READ::\",len(train_files_doc_wise.keys()))\n",
    "    print(\"\\n====> GENERATING TFs DOC WISE...\\n\")\n",
    "    for d in tqdm(train_files_doc_wise,leave=True,position=0): ## computing term-frequencies doc-wise....\n",
    "        tf_dict={}\n",
    "        for w in train_files_doc_wise[d].split():\n",
    "            if w not in tf_dict:\n",
    "                tf_dict[w]=1\n",
    "            else:\n",
    "                tf_dict[w]+=1\n",
    "        tfs_doc_wise[d] = tf_dict\n",
    "    \n",
    "    print(\"\\n====> GENERATING IDFs DOC WISE...\\n\")\n",
    "    #data=\" \"  \n",
    "    #for d in train_files_doc_wise: ## computing inverse document frequencies doc-wise...\n",
    "    #    data = data+\" \"+train_files_doc_wise[d] ## computing inverse document frequencies...\n",
    "    #unique_words = list(set(data.split()))\n",
    "    #for w in tqdm(unique_words,leave=True,position=0):\n",
    "    #    df_dict_doc_wise[w]=0\n",
    "    #    for key in train_files_doc_wise:\n",
    "    #        if w in train_files_doc_wise[key]:\n",
    "    #            df_dict_doc_wise[w]+=1\n",
    "    #    df_dict_doc_wise[w] = math.log10(len(train_files_doc_wise.keys())/df_dict_doc_wise[w])\n",
    "    tfidfs_doc_wise = copy.deepcopy(tfs_doc_wise)\n",
    "    \n",
    "    if(ratio==0.50):\n",
    "        pickle_in = open(\"df_docwise_knn_tfidf_5050\",\"rb\")\n",
    "        df_dict_doc_wise = pickle.load(pickle_in)\n",
    "        print(\"DOC WISE IDF VALUES CORRESPONDING TO 50:50 SPLIT LOADED...!!!\")\n",
    "    if(ratio==0.70):\n",
    "        pickle_in = open(\"df_docwise_knn_tfidf_7030\",\"rb\")\n",
    "        df_dict_doc_wise = pickle.load(pickle_in)\n",
    "        print(\"DOC WISE IDF VALUES CORRESPONDING TO 70:30 SPLIT LOADED...!!!\")\n",
    "    if(ratio==0.80):\n",
    "        pickle_in = open(\"df_docwise_knn_tfidf_8020\",\"rb\")\n",
    "        df_dict_doc_wise = pickle.load(pickle_in)\n",
    "        print(\"DOC WISE IDF VALUES CORRESPONDING TO 80:20 SPLIT LOADED...!!!\")\n",
    "    \n",
    "    print(\"\\n====> GENERATING TF-IDFS DOC WISE...\\n\")\n",
    "    for i in tqdm(tfidfs_doc_wise,leave=True,position=0):\n",
    "        for j in tfidfs_doc_wise[i]:\n",
    "            tfidfs_doc_wise[i][j] = (1+math.log10(tfidfs_doc_wise[i][j]))*df_dict_doc_wise[j]\n",
    "    print(\"LENGTH OF VOCABULARY::\",len(df_dict_doc_wise))        \n",
    "    ###LOADING THE DATAFRAMES OF MUTUAL INFORMATION TABLE FOR A PARTICULAR SPLIT...\n",
    "    if(ratio==0.50):\n",
    "        pickle_in = open(\"mi_table_5050\",\"rb\")\n",
    "        df = pickle.load(pickle_in)\n",
    "        print(\"MI TABLE CORRESPONDING TO 50:50 SPLIT LOADED...!!!\")\n",
    "    if(ratio==0.70):\n",
    "        pickle_in = open(\"mi_table_7030\",\"rb\")\n",
    "        df = pickle.load(pickle_in)\n",
    "        print(\"MI TABLE CORRESPONDING TO 70:30 SPLIT LOADED...!!!\")\n",
    "    if(ratio==0.80):\n",
    "        pickle_in = open(\"mi_table_8020\",\"rb\")\n",
    "        df = pickle.load(pickle_in)\n",
    "        print(\"MI TABLE CORRESPONDING TO 80:20 SPLIT LOADED...!!!\")\n",
    "    return df,test_preproc_dict,tfidfs_doc_wise,train_files_class_wise,df_dict_doc_wise"
   ]
  },
  {
   "cell_type": "markdown",
   "metadata": {},
   "source": [
    "### GENERATING TRAIN AND TEST VECTORS"
   ]
  },
  {
   "cell_type": "code",
   "execution_count": 26,
   "metadata": {},
   "outputs": [],
   "source": [
    "def gen_vectors(mis_cls_and_term_wise,tfidfs_doc_wise,test_preproc_dict,df_dict_doc_wise):\n",
    "    top_features=set()\n",
    "    test_temp={}\n",
    "    test_vectors_tfidfs={}\n",
    "    train_vectors={}\n",
    "    test_vectors={}\n",
    "    for i in mis_cls_and_term_wise: ## combining top features of all classes...\n",
    "        top_features = top_features | set(list(mis_cls_and_term_wise[i].keys()))\n",
    "        \n",
    "    print(\"\\n====> GENERATING TRAINING VECTORS & PEFORMING FEATURE SELECTION...\")\n",
    "    for i in tqdm(tfidfs_doc_wise,leave=True,position=0): ## generating training vectors...\n",
    "        vector=[]\n",
    "        for j in top_features:\n",
    "            if j in tfidfs_doc_wise[i]:\n",
    "                vector.append(tfidfs_doc_wise[i][j])\n",
    "            else:\n",
    "                vector.append(0)\n",
    "        train_vectors[i]=vector\n",
    "    \n",
    "    print(\"\\n====> GENERATING TEST VECTORS AND PERFORMING FEATURE SELECTION...\")\n",
    "    for i in tqdm(test_preproc_dict,leave=True,position=0): ## generating test vectors\n",
    "        test_vectors_temp={}\n",
    "        for j in test_preproc_dict[i].split():\n",
    "            if j in top_features:\n",
    "                if j not in test_vectors_temp:\n",
    "                    test_vectors_temp[j]=1\n",
    "                else:\n",
    "                    test_vectors_temp[j]+=1\n",
    "        test_vectors_tfidfs[i]=test_vectors_temp\n",
    "    #print(\"test_vectors_tfidfs::\",test_vectors_tfidfs)\n",
    "    for i in test_vectors_tfidfs: ## generating tfidfs for test vector...\n",
    "        for j in test_vectors_tfidfs[i]:\n",
    "            test_vectors_tfidfs[i][j] = (1+math.log10(test_vectors_tfidfs[i][j]))*df_dict_doc_wise[j]\n",
    "    \n",
    "    for i in test_preproc_dict: ## generating training vectors...\n",
    "        vector=[]\n",
    "        for j in top_features:\n",
    "            try:\n",
    "                vector.append(test_vectors_tfidfs[i][j])\n",
    "            except:\n",
    "                vector.append(0)\n",
    "        test_vectors[i]=vector\n",
    "    return train_vectors,test_vectors"
   ]
  },
  {
   "cell_type": "markdown",
   "metadata": {},
   "source": [
    "## CODE EXECUTION STARTS HERE..."
   ]
  },
  {
   "cell_type": "code",
   "execution_count": 29,
   "metadata": {
    "scrolled": false
   },
   "outputs": [
    {
     "name": "stdout",
     "output_type": "stream",
     "text": [
      "\n",
      "====> READING NAMES OF THE FILES...\n",
      "\n"
     ]
    },
    {
     "name": "stderr",
     "output_type": "stream",
     "text": [
      "100%|██████████████████████████████████████████████████████████████████████████████████| 20/20 [00:12<00:00,  1.59it/s]\n"
     ]
    },
    {
     "name": "stdout",
     "output_type": "stream",
     "text": [
      "ENTER THE PERCENTAGE OF TRAINING DATA TO BE CONSIDERED TO TRAIN THE MODEL(ENTER 0.50 IF 50%)::0.50\n",
      "COUNT OF TRAINING FILES CONSIDERED:: 2500\n",
      "COUNT OF TEST FILES CONSIDERED:: 2500\n",
      "\n",
      "====> READING DOCUMENTS AND GENERATING VOCABULARY...\n",
      "\n"
     ]
    },
    {
     "name": "stderr",
     "output_type": "stream",
     "text": [
      "100%|██████████████████████████████████████████████████████████████████████████████████| 20/20 [00:55<00:00,  2.78s/it]\n"
     ]
    },
    {
     "name": "stdout",
     "output_type": "stream",
     "text": [
      "TOTAL TRAINING FILES READ:: 2500\n",
      "\n",
      "====> GENERATING TFs DOC WISE...\n",
      "\n"
     ]
    },
    {
     "name": "stderr",
     "output_type": "stream",
     "text": [
      "100%|███████████████████████████████████████████████████████████████████████████| 2500/2500 [00:00<00:00, 11571.43it/s]\n"
     ]
    },
    {
     "name": "stdout",
     "output_type": "stream",
     "text": [
      "\n",
      "====> GENERATING IDFs DOC WISE...\n",
      "\n",
      "DOC WISE IDF VALUES CORRESPONDING TO 50:50 SPLIT LOADED...!!!\n",
      "\n",
      "====> GENERATING TF-IDFS DOC WISE...\n",
      "\n"
     ]
    },
    {
     "name": "stderr",
     "output_type": "stream",
     "text": [
      "100%|████████████████████████████████████████████████████████████████████████████| 2500/2500 [00:00<00:00, 6081.16it/s]\n"
     ]
    },
    {
     "name": "stdout",
     "output_type": "stream",
     "text": [
      "LENGTH OF VOCABULARY:: 34414\n",
      "MI TABLE CORRESPONDING TO 50:50 SPLIT LOADED...!!!\n",
      "\n",
      "====> COMPUTING MUTUAL INFORMATIONS...\n",
      "\n"
     ]
    },
    {
     "name": "stderr",
     "output_type": "stream",
     "text": [
      "100%|████████████████████████████████████████████████████████████████████████████████████| 5/5 [00:38<00:00,  7.69s/it]\n"
     ]
    },
    {
     "name": "stdout",
     "output_type": "stream",
     "text": [
      "ENTER THE COUNT OF FEATURES TO BE SELECTED PER CLASS(FEATURE SELECTION) < LENGTH OF VOCAB::300\n",
      "\n",
      "====> GENERATING TRAINING VECTORS & PEFORMING FEATURE SELECTION...\n"
     ]
    },
    {
     "name": "stderr",
     "output_type": "stream",
     "text": [
      "100%|████████████████████████████████████████████████████████████████████████████| 2500/2500 [00:00<00:00, 2634.67it/s]\n"
     ]
    },
    {
     "name": "stdout",
     "output_type": "stream",
     "text": [
      "\n",
      "====> GENERATING TEST VECTORS AND PERFORMING FEATURE SELECTION...\n"
     ]
    },
    {
     "name": "stderr",
     "output_type": "stream",
     "text": [
      "100%|███████████████████████████████████████████████████████████████████████████| 2500/2500 [00:00<00:00, 13692.49it/s]\n"
     ]
    },
    {
     "name": "stdout",
     "output_type": "stream",
     "text": [
      "\n",
      "====> GENERATING PREDICTIONS...\n",
      "\n"
     ]
    },
    {
     "name": "stderr",
     "output_type": "stream",
     "text": [
      "100%|████████████████████████████████████████████████████████████████████████████| 2500/2500 [1:47:53<00:00,  1.46s/it]\n"
     ]
    },
    {
     "name": "stdout",
     "output_type": "stream",
     "text": [
      "ACCURACY WITH K=1:: 91.84\n",
      "ACCURACY WITH K=3:: 91.92\n",
      "ACCURACY WITH K=5:: 92.88\n",
      "CONFUSION MATRIX ON TEST DATA WITH K=1:: \n"
     ]
    },
    {
     "data": {
      "text/html": [
       "<div>\n",
       "<style scoped>\n",
       "    .dataframe tbody tr th:only-of-type {\n",
       "        vertical-align: middle;\n",
       "    }\n",
       "\n",
       "    .dataframe tbody tr th {\n",
       "        vertical-align: top;\n",
       "    }\n",
       "\n",
       "    .dataframe thead th {\n",
       "        text-align: right;\n",
       "    }\n",
       "</style>\n",
       "<table border=\"1\" class=\"dataframe\">\n",
       "  <thead>\n",
       "    <tr style=\"text-align: right;\">\n",
       "      <th></th>\n",
       "      <th>comp.graphics</th>\n",
       "      <th>rec.sport.hockey</th>\n",
       "      <th>sci.med</th>\n",
       "      <th>sci.space</th>\n",
       "      <th>talk.politics.misc</th>\n",
       "    </tr>\n",
       "    <tr>\n",
       "      <th>True labels</th>\n",
       "      <th></th>\n",
       "      <th></th>\n",
       "      <th></th>\n",
       "      <th></th>\n",
       "      <th></th>\n",
       "    </tr>\n",
       "  </thead>\n",
       "  <tbody>\n",
       "    <tr>\n",
       "      <th>comp.graphics</th>\n",
       "      <td>458</td>\n",
       "      <td>3</td>\n",
       "      <td>21</td>\n",
       "      <td>21</td>\n",
       "      <td>8</td>\n",
       "    </tr>\n",
       "    <tr>\n",
       "      <th>rec.sport.hockey</th>\n",
       "      <td>6</td>\n",
       "      <td>483</td>\n",
       "      <td>4</td>\n",
       "      <td>4</td>\n",
       "      <td>3</td>\n",
       "    </tr>\n",
       "    <tr>\n",
       "      <th>sci.med</th>\n",
       "      <td>27</td>\n",
       "      <td>6</td>\n",
       "      <td>451</td>\n",
       "      <td>5</td>\n",
       "      <td>6</td>\n",
       "    </tr>\n",
       "    <tr>\n",
       "      <th>sci.space</th>\n",
       "      <td>25</td>\n",
       "      <td>5</td>\n",
       "      <td>18</td>\n",
       "      <td>431</td>\n",
       "      <td>8</td>\n",
       "    </tr>\n",
       "    <tr>\n",
       "      <th>talk.politics.misc</th>\n",
       "      <td>9</td>\n",
       "      <td>1</td>\n",
       "      <td>18</td>\n",
       "      <td>6</td>\n",
       "      <td>473</td>\n",
       "    </tr>\n",
       "  </tbody>\n",
       "</table>\n",
       "</div>"
      ],
      "text/plain": [
       "                    comp.graphics  rec.sport.hockey  sci.med  sci.space  \\\n",
       "True labels                                                               \n",
       "comp.graphics                 458                 3       21         21   \n",
       "rec.sport.hockey                6               483        4          4   \n",
       "sci.med                        27                 6      451          5   \n",
       "sci.space                      25                 5       18        431   \n",
       "talk.politics.misc              9                 1       18          6   \n",
       "\n",
       "                    talk.politics.misc  \n",
       "True labels                             \n",
       "comp.graphics                        8  \n",
       "rec.sport.hockey                     3  \n",
       "sci.med                              6  \n",
       "sci.space                            8  \n",
       "talk.politics.misc                 473  "
      ]
     },
     "metadata": {},
     "output_type": "display_data"
    },
    {
     "name": "stdout",
     "output_type": "stream",
     "text": [
      "CONFUSION MATRIX ON TEST DATA WITH K=3:: \n"
     ]
    },
    {
     "data": {
      "text/html": [
       "<div>\n",
       "<style scoped>\n",
       "    .dataframe tbody tr th:only-of-type {\n",
       "        vertical-align: middle;\n",
       "    }\n",
       "\n",
       "    .dataframe tbody tr th {\n",
       "        vertical-align: top;\n",
       "    }\n",
       "\n",
       "    .dataframe thead th {\n",
       "        text-align: right;\n",
       "    }\n",
       "</style>\n",
       "<table border=\"1\" class=\"dataframe\">\n",
       "  <thead>\n",
       "    <tr style=\"text-align: right;\">\n",
       "      <th></th>\n",
       "      <th>comp.graphics</th>\n",
       "      <th>rec.sport.hockey</th>\n",
       "      <th>sci.med</th>\n",
       "      <th>sci.space</th>\n",
       "      <th>talk.politics.misc</th>\n",
       "    </tr>\n",
       "    <tr>\n",
       "      <th>True labels</th>\n",
       "      <th></th>\n",
       "      <th></th>\n",
       "      <th></th>\n",
       "      <th></th>\n",
       "      <th></th>\n",
       "    </tr>\n",
       "  </thead>\n",
       "  <tbody>\n",
       "    <tr>\n",
       "      <th>comp.graphics</th>\n",
       "      <td>455</td>\n",
       "      <td>3</td>\n",
       "      <td>15</td>\n",
       "      <td>32</td>\n",
       "      <td>6</td>\n",
       "    </tr>\n",
       "    <tr>\n",
       "      <th>rec.sport.hockey</th>\n",
       "      <td>2</td>\n",
       "      <td>485</td>\n",
       "      <td>1</td>\n",
       "      <td>11</td>\n",
       "      <td>1</td>\n",
       "    </tr>\n",
       "    <tr>\n",
       "      <th>sci.med</th>\n",
       "      <td>24</td>\n",
       "      <td>3</td>\n",
       "      <td>438</td>\n",
       "      <td>22</td>\n",
       "      <td>8</td>\n",
       "    </tr>\n",
       "    <tr>\n",
       "      <th>sci.space</th>\n",
       "      <td>21</td>\n",
       "      <td>4</td>\n",
       "      <td>10</td>\n",
       "      <td>444</td>\n",
       "      <td>8</td>\n",
       "    </tr>\n",
       "    <tr>\n",
       "      <th>talk.politics.misc</th>\n",
       "      <td>7</td>\n",
       "      <td>3</td>\n",
       "      <td>7</td>\n",
       "      <td>14</td>\n",
       "      <td>476</td>\n",
       "    </tr>\n",
       "  </tbody>\n",
       "</table>\n",
       "</div>"
      ],
      "text/plain": [
       "                    comp.graphics  rec.sport.hockey  sci.med  sci.space  \\\n",
       "True labels                                                               \n",
       "comp.graphics                 455                 3       15         32   \n",
       "rec.sport.hockey                2               485        1         11   \n",
       "sci.med                        24                 3      438         22   \n",
       "sci.space                      21                 4       10        444   \n",
       "talk.politics.misc              7                 3        7         14   \n",
       "\n",
       "                    talk.politics.misc  \n",
       "True labels                             \n",
       "comp.graphics                        6  \n",
       "rec.sport.hockey                     1  \n",
       "sci.med                              8  \n",
       "sci.space                            8  \n",
       "talk.politics.misc                 476  "
      ]
     },
     "metadata": {},
     "output_type": "display_data"
    },
    {
     "name": "stdout",
     "output_type": "stream",
     "text": [
      "CONFUSION MATRIX ON TEST DATA WITH K=5:: \n"
     ]
    },
    {
     "data": {
      "text/html": [
       "<div>\n",
       "<style scoped>\n",
       "    .dataframe tbody tr th:only-of-type {\n",
       "        vertical-align: middle;\n",
       "    }\n",
       "\n",
       "    .dataframe tbody tr th {\n",
       "        vertical-align: top;\n",
       "    }\n",
       "\n",
       "    .dataframe thead th {\n",
       "        text-align: right;\n",
       "    }\n",
       "</style>\n",
       "<table border=\"1\" class=\"dataframe\">\n",
       "  <thead>\n",
       "    <tr style=\"text-align: right;\">\n",
       "      <th></th>\n",
       "      <th>comp.graphics</th>\n",
       "      <th>rec.sport.hockey</th>\n",
       "      <th>sci.med</th>\n",
       "      <th>sci.space</th>\n",
       "      <th>talk.politics.misc</th>\n",
       "    </tr>\n",
       "    <tr>\n",
       "      <th>True labels</th>\n",
       "      <th></th>\n",
       "      <th></th>\n",
       "      <th></th>\n",
       "      <th></th>\n",
       "      <th></th>\n",
       "    </tr>\n",
       "  </thead>\n",
       "  <tbody>\n",
       "    <tr>\n",
       "      <th>comp.graphics</th>\n",
       "      <td>464</td>\n",
       "      <td>3</td>\n",
       "      <td>10</td>\n",
       "      <td>27</td>\n",
       "      <td>7</td>\n",
       "    </tr>\n",
       "    <tr>\n",
       "      <th>rec.sport.hockey</th>\n",
       "      <td>3</td>\n",
       "      <td>489</td>\n",
       "      <td>3</td>\n",
       "      <td>4</td>\n",
       "      <td>1</td>\n",
       "    </tr>\n",
       "    <tr>\n",
       "      <th>sci.med</th>\n",
       "      <td>19</td>\n",
       "      <td>3</td>\n",
       "      <td>448</td>\n",
       "      <td>18</td>\n",
       "      <td>7</td>\n",
       "    </tr>\n",
       "    <tr>\n",
       "      <th>sci.space</th>\n",
       "      <td>18</td>\n",
       "      <td>5</td>\n",
       "      <td>9</td>\n",
       "      <td>446</td>\n",
       "      <td>9</td>\n",
       "    </tr>\n",
       "    <tr>\n",
       "      <th>talk.politics.misc</th>\n",
       "      <td>4</td>\n",
       "      <td>7</td>\n",
       "      <td>8</td>\n",
       "      <td>13</td>\n",
       "      <td>475</td>\n",
       "    </tr>\n",
       "  </tbody>\n",
       "</table>\n",
       "</div>"
      ],
      "text/plain": [
       "                    comp.graphics  rec.sport.hockey  sci.med  sci.space  \\\n",
       "True labels                                                               \n",
       "comp.graphics                 464                 3       10         27   \n",
       "rec.sport.hockey                3               489        3          4   \n",
       "sci.med                        19                 3      448         18   \n",
       "sci.space                      18                 5        9        446   \n",
       "talk.politics.misc              4                 7        8         13   \n",
       "\n",
       "                    talk.politics.misc  \n",
       "True labels                             \n",
       "comp.graphics                        7  \n",
       "rec.sport.hockey                     1  \n",
       "sci.med                              7  \n",
       "sci.space                            9  \n",
       "talk.politics.misc                 475  "
      ]
     },
     "metadata": {},
     "output_type": "display_data"
    },
    {
     "name": "stdout",
     "output_type": "stream",
     "text": [
      "DO YOU WANT TO RE-RUN WITH OTHER PARAMETERS(Y/N)::y\n",
      "\n",
      "====> READING NAMES OF THE FILES...\n",
      "\n"
     ]
    },
    {
     "name": "stderr",
     "output_type": "stream",
     "text": [
      "100%|██████████████████████████████████████████████████████████████████████████████████| 20/20 [00:05<00:00,  3.59it/s]\n"
     ]
    },
    {
     "name": "stdout",
     "output_type": "stream",
     "text": [
      "ENTER THE PERCENTAGE OF TRAINING DATA TO BE CONSIDERED TO TRAIN THE MODEL(ENTER 0.50 IF 50%)::0.70\n",
      "COUNT OF TRAINING FILES CONSIDERED:: 3500\n",
      "COUNT OF TEST FILES CONSIDERED:: 1500\n",
      "\n",
      "====> READING DOCUMENTS AND GENERATING VOCABULARY...\n",
      "\n"
     ]
    },
    {
     "name": "stderr",
     "output_type": "stream",
     "text": [
      "100%|██████████████████████████████████████████████████████████████████████████████████| 20/20 [00:26<00:00,  1.31s/it]\n"
     ]
    },
    {
     "name": "stdout",
     "output_type": "stream",
     "text": [
      "TOTAL TRAINING FILES READ:: 3500\n",
      "\n",
      "====> GENERATING TFs DOC WISE...\n",
      "\n"
     ]
    },
    {
     "name": "stderr",
     "output_type": "stream",
     "text": [
      "100%|███████████████████████████████████████████████████████████████████████████| 3500/3500 [00:00<00:00, 14747.18it/s]\n"
     ]
    },
    {
     "name": "stdout",
     "output_type": "stream",
     "text": [
      "\n",
      "====> GENERATING IDFs DOC WISE...\n",
      "\n",
      "DOC WISE IDF VALUES CORRESPONDING TO 70:30 SPLIT LOADED...!!!\n",
      "\n",
      "====> GENERATING TF-IDFS DOC WISE...\n",
      "\n"
     ]
    },
    {
     "name": "stderr",
     "output_type": "stream",
     "text": [
      "100%|███████████████████████████████████████████████████████████████████████████| 3500/3500 [00:00<00:00, 17316.42it/s]\n"
     ]
    },
    {
     "name": "stdout",
     "output_type": "stream",
     "text": [
      "LENGTH OF VOCABULARY:: 40658\n",
      "MI TABLE CORRESPONDING TO 70:30 SPLIT LOADED...!!!\n",
      "\n",
      "====> COMPUTING MUTUAL INFORMATIONS...\n",
      "\n"
     ]
    },
    {
     "name": "stderr",
     "output_type": "stream",
     "text": [
      "100%|████████████████████████████████████████████████████████████████████████████████████| 5/5 [00:22<00:00,  4.62s/it]\n"
     ]
    },
    {
     "name": "stdout",
     "output_type": "stream",
     "text": [
      "ENTER THE COUNT OF FEATURES TO BE SELECTED PER CLASS(FEATURE SELECTION) < LENGTH OF VOCAB::300\n",
      "\n",
      "====> GENERATING TRAINING VECTORS & PEFORMING FEATURE SELECTION...\n"
     ]
    },
    {
     "name": "stderr",
     "output_type": "stream",
     "text": [
      "100%|████████████████████████████████████████████████████████████████████████████| 3500/3500 [00:00<00:00, 4967.45it/s]\n"
     ]
    },
    {
     "name": "stdout",
     "output_type": "stream",
     "text": [
      "\n",
      "====> GENERATING TEST VECTORS AND PERFORMING FEATURE SELECTION...\n"
     ]
    },
    {
     "name": "stderr",
     "output_type": "stream",
     "text": [
      "100%|███████████████████████████████████████████████████████████████████████████| 1500/1500 [00:00<00:00, 32670.16it/s]\n"
     ]
    },
    {
     "name": "stdout",
     "output_type": "stream",
     "text": [
      "\n",
      "====> GENERATING PREDICTIONS...\n",
      "\n"
     ]
    },
    {
     "name": "stderr",
     "output_type": "stream",
     "text": [
      "100%|██████████████████████████████████████████████████████████████████████████████| 1500/1500 [55:29<00:00,  2.07s/it]\n"
     ]
    },
    {
     "name": "stdout",
     "output_type": "stream",
     "text": [
      "ACCURACY WITH K=1:: 92.53333333333333\n",
      "ACCURACY WITH K=3:: 93.06666666666666\n",
      "ACCURACY WITH K=5:: 93.2\n",
      "CONFUSION MATRIX ON TEST DATA WITH K=1:: \n"
     ]
    },
    {
     "data": {
      "text/html": [
       "<div>\n",
       "<style scoped>\n",
       "    .dataframe tbody tr th:only-of-type {\n",
       "        vertical-align: middle;\n",
       "    }\n",
       "\n",
       "    .dataframe tbody tr th {\n",
       "        vertical-align: top;\n",
       "    }\n",
       "\n",
       "    .dataframe thead th {\n",
       "        text-align: right;\n",
       "    }\n",
       "</style>\n",
       "<table border=\"1\" class=\"dataframe\">\n",
       "  <thead>\n",
       "    <tr style=\"text-align: right;\">\n",
       "      <th></th>\n",
       "      <th>comp.graphics</th>\n",
       "      <th>rec.sport.hockey</th>\n",
       "      <th>sci.med</th>\n",
       "      <th>sci.space</th>\n",
       "      <th>talk.politics.misc</th>\n",
       "    </tr>\n",
       "    <tr>\n",
       "      <th>True labels</th>\n",
       "      <th></th>\n",
       "      <th></th>\n",
       "      <th></th>\n",
       "      <th></th>\n",
       "      <th></th>\n",
       "    </tr>\n",
       "  </thead>\n",
       "  <tbody>\n",
       "    <tr>\n",
       "      <th>comp.graphics</th>\n",
       "      <td>258</td>\n",
       "      <td>0</td>\n",
       "      <td>12</td>\n",
       "      <td>13</td>\n",
       "      <td>1</td>\n",
       "    </tr>\n",
       "    <tr>\n",
       "      <th>rec.sport.hockey</th>\n",
       "      <td>4</td>\n",
       "      <td>287</td>\n",
       "      <td>4</td>\n",
       "      <td>0</td>\n",
       "      <td>4</td>\n",
       "    </tr>\n",
       "    <tr>\n",
       "      <th>sci.med</th>\n",
       "      <td>14</td>\n",
       "      <td>0</td>\n",
       "      <td>274</td>\n",
       "      <td>3</td>\n",
       "      <td>5</td>\n",
       "    </tr>\n",
       "    <tr>\n",
       "      <th>sci.space</th>\n",
       "      <td>10</td>\n",
       "      <td>2</td>\n",
       "      <td>9</td>\n",
       "      <td>272</td>\n",
       "      <td>4</td>\n",
       "    </tr>\n",
       "    <tr>\n",
       "      <th>talk.politics.misc</th>\n",
       "      <td>11</td>\n",
       "      <td>0</td>\n",
       "      <td>10</td>\n",
       "      <td>6</td>\n",
       "      <td>297</td>\n",
       "    </tr>\n",
       "  </tbody>\n",
       "</table>\n",
       "</div>"
      ],
      "text/plain": [
       "                    comp.graphics  rec.sport.hockey  sci.med  sci.space  \\\n",
       "True labels                                                               \n",
       "comp.graphics                 258                 0       12         13   \n",
       "rec.sport.hockey                4               287        4          0   \n",
       "sci.med                        14                 0      274          3   \n",
       "sci.space                      10                 2        9        272   \n",
       "talk.politics.misc             11                 0       10          6   \n",
       "\n",
       "                    talk.politics.misc  \n",
       "True labels                             \n",
       "comp.graphics                        1  \n",
       "rec.sport.hockey                     4  \n",
       "sci.med                              5  \n",
       "sci.space                            4  \n",
       "talk.politics.misc                 297  "
      ]
     },
     "metadata": {},
     "output_type": "display_data"
    },
    {
     "name": "stdout",
     "output_type": "stream",
     "text": [
      "CONFUSION MATRIX ON TEST DATA WITH K=3:: \n"
     ]
    },
    {
     "data": {
      "text/html": [
       "<div>\n",
       "<style scoped>\n",
       "    .dataframe tbody tr th:only-of-type {\n",
       "        vertical-align: middle;\n",
       "    }\n",
       "\n",
       "    .dataframe tbody tr th {\n",
       "        vertical-align: top;\n",
       "    }\n",
       "\n",
       "    .dataframe thead th {\n",
       "        text-align: right;\n",
       "    }\n",
       "</style>\n",
       "<table border=\"1\" class=\"dataframe\">\n",
       "  <thead>\n",
       "    <tr style=\"text-align: right;\">\n",
       "      <th></th>\n",
       "      <th>comp.graphics</th>\n",
       "      <th>rec.sport.hockey</th>\n",
       "      <th>sci.med</th>\n",
       "      <th>sci.space</th>\n",
       "      <th>talk.politics.misc</th>\n",
       "    </tr>\n",
       "    <tr>\n",
       "      <th>True labels</th>\n",
       "      <th></th>\n",
       "      <th></th>\n",
       "      <th></th>\n",
       "      <th></th>\n",
       "      <th></th>\n",
       "    </tr>\n",
       "  </thead>\n",
       "  <tbody>\n",
       "    <tr>\n",
       "      <th>comp.graphics</th>\n",
       "      <td>270</td>\n",
       "      <td>0</td>\n",
       "      <td>5</td>\n",
       "      <td>6</td>\n",
       "      <td>3</td>\n",
       "    </tr>\n",
       "    <tr>\n",
       "      <th>rec.sport.hockey</th>\n",
       "      <td>8</td>\n",
       "      <td>288</td>\n",
       "      <td>1</td>\n",
       "      <td>1</td>\n",
       "      <td>1</td>\n",
       "    </tr>\n",
       "    <tr>\n",
       "      <th>sci.med</th>\n",
       "      <td>17</td>\n",
       "      <td>2</td>\n",
       "      <td>275</td>\n",
       "      <td>1</td>\n",
       "      <td>1</td>\n",
       "    </tr>\n",
       "    <tr>\n",
       "      <th>sci.space</th>\n",
       "      <td>19</td>\n",
       "      <td>2</td>\n",
       "      <td>4</td>\n",
       "      <td>266</td>\n",
       "      <td>6</td>\n",
       "    </tr>\n",
       "    <tr>\n",
       "      <th>talk.politics.misc</th>\n",
       "      <td>15</td>\n",
       "      <td>2</td>\n",
       "      <td>6</td>\n",
       "      <td>4</td>\n",
       "      <td>297</td>\n",
       "    </tr>\n",
       "  </tbody>\n",
       "</table>\n",
       "</div>"
      ],
      "text/plain": [
       "                    comp.graphics  rec.sport.hockey  sci.med  sci.space  \\\n",
       "True labels                                                               \n",
       "comp.graphics                 270                 0        5          6   \n",
       "rec.sport.hockey                8               288        1          1   \n",
       "sci.med                        17                 2      275          1   \n",
       "sci.space                      19                 2        4        266   \n",
       "talk.politics.misc             15                 2        6          4   \n",
       "\n",
       "                    talk.politics.misc  \n",
       "True labels                             \n",
       "comp.graphics                        3  \n",
       "rec.sport.hockey                     1  \n",
       "sci.med                              1  \n",
       "sci.space                            6  \n",
       "talk.politics.misc                 297  "
      ]
     },
     "metadata": {},
     "output_type": "display_data"
    },
    {
     "name": "stdout",
     "output_type": "stream",
     "text": [
      "CONFUSION MATRIX ON TEST DATA WITH K=5:: \n"
     ]
    },
    {
     "data": {
      "text/html": [
       "<div>\n",
       "<style scoped>\n",
       "    .dataframe tbody tr th:only-of-type {\n",
       "        vertical-align: middle;\n",
       "    }\n",
       "\n",
       "    .dataframe tbody tr th {\n",
       "        vertical-align: top;\n",
       "    }\n",
       "\n",
       "    .dataframe thead th {\n",
       "        text-align: right;\n",
       "    }\n",
       "</style>\n",
       "<table border=\"1\" class=\"dataframe\">\n",
       "  <thead>\n",
       "    <tr style=\"text-align: right;\">\n",
       "      <th></th>\n",
       "      <th>comp.graphics</th>\n",
       "      <th>rec.sport.hockey</th>\n",
       "      <th>sci.med</th>\n",
       "      <th>sci.space</th>\n",
       "      <th>talk.politics.misc</th>\n",
       "    </tr>\n",
       "    <tr>\n",
       "      <th>True labels</th>\n",
       "      <th></th>\n",
       "      <th></th>\n",
       "      <th></th>\n",
       "      <th></th>\n",
       "      <th></th>\n",
       "    </tr>\n",
       "  </thead>\n",
       "  <tbody>\n",
       "    <tr>\n",
       "      <th>comp.graphics</th>\n",
       "      <td>269</td>\n",
       "      <td>1</td>\n",
       "      <td>8</td>\n",
       "      <td>4</td>\n",
       "      <td>2</td>\n",
       "    </tr>\n",
       "    <tr>\n",
       "      <th>rec.sport.hockey</th>\n",
       "      <td>3</td>\n",
       "      <td>291</td>\n",
       "      <td>2</td>\n",
       "      <td>1</td>\n",
       "      <td>2</td>\n",
       "    </tr>\n",
       "    <tr>\n",
       "      <th>sci.med</th>\n",
       "      <td>19</td>\n",
       "      <td>2</td>\n",
       "      <td>273</td>\n",
       "      <td>1</td>\n",
       "      <td>1</td>\n",
       "    </tr>\n",
       "    <tr>\n",
       "      <th>sci.space</th>\n",
       "      <td>20</td>\n",
       "      <td>1</td>\n",
       "      <td>2</td>\n",
       "      <td>266</td>\n",
       "      <td>8</td>\n",
       "    </tr>\n",
       "    <tr>\n",
       "      <th>talk.politics.misc</th>\n",
       "      <td>12</td>\n",
       "      <td>2</td>\n",
       "      <td>7</td>\n",
       "      <td>4</td>\n",
       "      <td>299</td>\n",
       "    </tr>\n",
       "  </tbody>\n",
       "</table>\n",
       "</div>"
      ],
      "text/plain": [
       "                    comp.graphics  rec.sport.hockey  sci.med  sci.space  \\\n",
       "True labels                                                               \n",
       "comp.graphics                 269                 1        8          4   \n",
       "rec.sport.hockey                3               291        2          1   \n",
       "sci.med                        19                 2      273          1   \n",
       "sci.space                      20                 1        2        266   \n",
       "talk.politics.misc             12                 2        7          4   \n",
       "\n",
       "                    talk.politics.misc  \n",
       "True labels                             \n",
       "comp.graphics                        2  \n",
       "rec.sport.hockey                     2  \n",
       "sci.med                              1  \n",
       "sci.space                            8  \n",
       "talk.politics.misc                 299  "
      ]
     },
     "metadata": {},
     "output_type": "display_data"
    },
    {
     "name": "stdout",
     "output_type": "stream",
     "text": [
      "DO YOU WANT TO RE-RUN WITH OTHER PARAMETERS(Y/N)::y\n",
      "\n",
      "====> READING NAMES OF THE FILES...\n",
      "\n"
     ]
    },
    {
     "name": "stderr",
     "output_type": "stream",
     "text": [
      "100%|██████████████████████████████████████████████████████████████████████████████████| 20/20 [00:05<00:00,  3.50it/s]\n"
     ]
    },
    {
     "name": "stdout",
     "output_type": "stream",
     "text": [
      "ENTER THE PERCENTAGE OF TRAINING DATA TO BE CONSIDERED TO TRAIN THE MODEL(ENTER 0.50 IF 50%)::0.80\n",
      "COUNT OF TRAINING FILES CONSIDERED:: 4000\n",
      "COUNT OF TEST FILES CONSIDERED:: 1000\n",
      "\n",
      "====> READING DOCUMENTS AND GENERATING VOCABULARY...\n",
      "\n"
     ]
    },
    {
     "name": "stderr",
     "output_type": "stream",
     "text": [
      "100%|██████████████████████████████████████████████████████████████████████████████████| 20/20 [00:33<00:00,  1.67s/it]\n"
     ]
    },
    {
     "name": "stdout",
     "output_type": "stream",
     "text": [
      "TOTAL TRAINING FILES READ:: 4000\n",
      "\n",
      "====> GENERATING TFs DOC WISE...\n",
      "\n"
     ]
    },
    {
     "name": "stderr",
     "output_type": "stream",
     "text": [
      "100%|███████████████████████████████████████████████████████████████████████████| 4000/4000 [00:00<00:00, 27248.70it/s]\n"
     ]
    },
    {
     "name": "stdout",
     "output_type": "stream",
     "text": [
      "\n",
      "====> GENERATING IDFs DOC WISE...\n",
      "\n",
      "DOC WISE IDF VALUES CORRESPONDING TO 80:20 SPLIT LOADED...!!!\n",
      "\n",
      "====> GENERATING TF-IDFS DOC WISE...\n",
      "\n"
     ]
    },
    {
     "name": "stderr",
     "output_type": "stream",
     "text": [
      "100%|███████████████████████████████████████████████████████████████████████████| 4000/4000 [00:00<00:00, 21753.48it/s]\n"
     ]
    },
    {
     "name": "stdout",
     "output_type": "stream",
     "text": [
      "LENGTH OF VOCABULARY:: 43283\n",
      "MI TABLE CORRESPONDING TO 80:20 SPLIT LOADED...!!!\n",
      "\n",
      "====> COMPUTING MUTUAL INFORMATIONS...\n",
      "\n"
     ]
    },
    {
     "name": "stderr",
     "output_type": "stream",
     "text": [
      "100%|████████████████████████████████████████████████████████████████████████████████████| 5/5 [00:22<00:00,  4.50s/it]\n"
     ]
    },
    {
     "name": "stdout",
     "output_type": "stream",
     "text": [
      "ENTER THE COUNT OF FEATURES TO BE SELECTED PER CLASS(FEATURE SELECTION) < LENGTH OF VOCAB::300\n",
      "\n",
      "====> GENERATING TRAINING VECTORS & PEFORMING FEATURE SELECTION...\n"
     ]
    },
    {
     "name": "stderr",
     "output_type": "stream",
     "text": [
      "100%|████████████████████████████████████████████████████████████████████████████| 4000/4000 [00:00<00:00, 5802.67it/s]\n"
     ]
    },
    {
     "name": "stdout",
     "output_type": "stream",
     "text": [
      "\n",
      "====> GENERATING TEST VECTORS AND PERFORMING FEATURE SELECTION...\n"
     ]
    },
    {
     "name": "stderr",
     "output_type": "stream",
     "text": [
      "100%|███████████████████████████████████████████████████████████████████████████| 1000/1000 [00:00<00:00, 34574.80it/s]\n"
     ]
    },
    {
     "name": "stdout",
     "output_type": "stream",
     "text": [
      "\n",
      "====> GENERATING PREDICTIONS...\n",
      "\n"
     ]
    },
    {
     "name": "stderr",
     "output_type": "stream",
     "text": [
      "100%|██████████████████████████████████████████████████████████████████████████████| 1000/1000 [41:50<00:00,  2.37s/it]\n"
     ]
    },
    {
     "name": "stdout",
     "output_type": "stream",
     "text": [
      "ACCURACY WITH K=1:: 93.8\n",
      "ACCURACY WITH K=3:: 93.0\n",
      "ACCURACY WITH K=5:: 92.7\n",
      "CONFUSION MATRIX ON TEST DATA WITH K=1:: \n"
     ]
    },
    {
     "data": {
      "text/html": [
       "<div>\n",
       "<style scoped>\n",
       "    .dataframe tbody tr th:only-of-type {\n",
       "        vertical-align: middle;\n",
       "    }\n",
       "\n",
       "    .dataframe tbody tr th {\n",
       "        vertical-align: top;\n",
       "    }\n",
       "\n",
       "    .dataframe thead th {\n",
       "        text-align: right;\n",
       "    }\n",
       "</style>\n",
       "<table border=\"1\" class=\"dataframe\">\n",
       "  <thead>\n",
       "    <tr style=\"text-align: right;\">\n",
       "      <th></th>\n",
       "      <th>comp.graphics</th>\n",
       "      <th>rec.sport.hockey</th>\n",
       "      <th>sci.med</th>\n",
       "      <th>sci.space</th>\n",
       "      <th>talk.politics.misc</th>\n",
       "    </tr>\n",
       "    <tr>\n",
       "      <th>True labels</th>\n",
       "      <th></th>\n",
       "      <th></th>\n",
       "      <th></th>\n",
       "      <th></th>\n",
       "      <th></th>\n",
       "    </tr>\n",
       "  </thead>\n",
       "  <tbody>\n",
       "    <tr>\n",
       "      <th>comp.graphics</th>\n",
       "      <td>189</td>\n",
       "      <td>0</td>\n",
       "      <td>5</td>\n",
       "      <td>10</td>\n",
       "      <td>1</td>\n",
       "    </tr>\n",
       "    <tr>\n",
       "      <th>rec.sport.hockey</th>\n",
       "      <td>2</td>\n",
       "      <td>190</td>\n",
       "      <td>1</td>\n",
       "      <td>0</td>\n",
       "      <td>1</td>\n",
       "    </tr>\n",
       "    <tr>\n",
       "      <th>sci.med</th>\n",
       "      <td>10</td>\n",
       "      <td>1</td>\n",
       "      <td>185</td>\n",
       "      <td>2</td>\n",
       "      <td>1</td>\n",
       "    </tr>\n",
       "    <tr>\n",
       "      <th>sci.space</th>\n",
       "      <td>4</td>\n",
       "      <td>2</td>\n",
       "      <td>4</td>\n",
       "      <td>186</td>\n",
       "      <td>0</td>\n",
       "    </tr>\n",
       "    <tr>\n",
       "      <th>talk.politics.misc</th>\n",
       "      <td>7</td>\n",
       "      <td>1</td>\n",
       "      <td>6</td>\n",
       "      <td>4</td>\n",
       "      <td>188</td>\n",
       "    </tr>\n",
       "  </tbody>\n",
       "</table>\n",
       "</div>"
      ],
      "text/plain": [
       "                    comp.graphics  rec.sport.hockey  sci.med  sci.space  \\\n",
       "True labels                                                               \n",
       "comp.graphics                 189                 0        5         10   \n",
       "rec.sport.hockey                2               190        1          0   \n",
       "sci.med                        10                 1      185          2   \n",
       "sci.space                       4                 2        4        186   \n",
       "talk.politics.misc              7                 1        6          4   \n",
       "\n",
       "                    talk.politics.misc  \n",
       "True labels                             \n",
       "comp.graphics                        1  \n",
       "rec.sport.hockey                     1  \n",
       "sci.med                              1  \n",
       "sci.space                            0  \n",
       "talk.politics.misc                 188  "
      ]
     },
     "metadata": {},
     "output_type": "display_data"
    },
    {
     "name": "stdout",
     "output_type": "stream",
     "text": [
      "CONFUSION MATRIX ON TEST DATA WITH K=3:: \n"
     ]
    },
    {
     "data": {
      "text/html": [
       "<div>\n",
       "<style scoped>\n",
       "    .dataframe tbody tr th:only-of-type {\n",
       "        vertical-align: middle;\n",
       "    }\n",
       "\n",
       "    .dataframe tbody tr th {\n",
       "        vertical-align: top;\n",
       "    }\n",
       "\n",
       "    .dataframe thead th {\n",
       "        text-align: right;\n",
       "    }\n",
       "</style>\n",
       "<table border=\"1\" class=\"dataframe\">\n",
       "  <thead>\n",
       "    <tr style=\"text-align: right;\">\n",
       "      <th></th>\n",
       "      <th>comp.graphics</th>\n",
       "      <th>rec.sport.hockey</th>\n",
       "      <th>sci.med</th>\n",
       "      <th>sci.space</th>\n",
       "      <th>talk.politics.misc</th>\n",
       "    </tr>\n",
       "    <tr>\n",
       "      <th>True labels</th>\n",
       "      <th></th>\n",
       "      <th></th>\n",
       "      <th></th>\n",
       "      <th></th>\n",
       "      <th></th>\n",
       "    </tr>\n",
       "  </thead>\n",
       "  <tbody>\n",
       "    <tr>\n",
       "      <th>comp.graphics</th>\n",
       "      <td>190</td>\n",
       "      <td>7</td>\n",
       "      <td>4</td>\n",
       "      <td>3</td>\n",
       "      <td>1</td>\n",
       "    </tr>\n",
       "    <tr>\n",
       "      <th>rec.sport.hockey</th>\n",
       "      <td>1</td>\n",
       "      <td>191</td>\n",
       "      <td>2</td>\n",
       "      <td>0</td>\n",
       "      <td>0</td>\n",
       "    </tr>\n",
       "    <tr>\n",
       "      <th>sci.med</th>\n",
       "      <td>8</td>\n",
       "      <td>6</td>\n",
       "      <td>183</td>\n",
       "      <td>1</td>\n",
       "      <td>1</td>\n",
       "    </tr>\n",
       "    <tr>\n",
       "      <th>sci.space</th>\n",
       "      <td>10</td>\n",
       "      <td>5</td>\n",
       "      <td>2</td>\n",
       "      <td>178</td>\n",
       "      <td>1</td>\n",
       "    </tr>\n",
       "    <tr>\n",
       "      <th>talk.politics.misc</th>\n",
       "      <td>5</td>\n",
       "      <td>9</td>\n",
       "      <td>2</td>\n",
       "      <td>2</td>\n",
       "      <td>188</td>\n",
       "    </tr>\n",
       "  </tbody>\n",
       "</table>\n",
       "</div>"
      ],
      "text/plain": [
       "                    comp.graphics  rec.sport.hockey  sci.med  sci.space  \\\n",
       "True labels                                                               \n",
       "comp.graphics                 190                 7        4          3   \n",
       "rec.sport.hockey                1               191        2          0   \n",
       "sci.med                         8                 6      183          1   \n",
       "sci.space                      10                 5        2        178   \n",
       "talk.politics.misc              5                 9        2          2   \n",
       "\n",
       "                    talk.politics.misc  \n",
       "True labels                             \n",
       "comp.graphics                        1  \n",
       "rec.sport.hockey                     0  \n",
       "sci.med                              1  \n",
       "sci.space                            1  \n",
       "talk.politics.misc                 188  "
      ]
     },
     "metadata": {},
     "output_type": "display_data"
    },
    {
     "name": "stdout",
     "output_type": "stream",
     "text": [
      "CONFUSION MATRIX ON TEST DATA WITH K=5:: \n"
     ]
    },
    {
     "data": {
      "text/html": [
       "<div>\n",
       "<style scoped>\n",
       "    .dataframe tbody tr th:only-of-type {\n",
       "        vertical-align: middle;\n",
       "    }\n",
       "\n",
       "    .dataframe tbody tr th {\n",
       "        vertical-align: top;\n",
       "    }\n",
       "\n",
       "    .dataframe thead th {\n",
       "        text-align: right;\n",
       "    }\n",
       "</style>\n",
       "<table border=\"1\" class=\"dataframe\">\n",
       "  <thead>\n",
       "    <tr style=\"text-align: right;\">\n",
       "      <th></th>\n",
       "      <th>comp.graphics</th>\n",
       "      <th>rec.sport.hockey</th>\n",
       "      <th>sci.med</th>\n",
       "      <th>sci.space</th>\n",
       "      <th>talk.politics.misc</th>\n",
       "    </tr>\n",
       "    <tr>\n",
       "      <th>True labels</th>\n",
       "      <th></th>\n",
       "      <th></th>\n",
       "      <th></th>\n",
       "      <th></th>\n",
       "      <th></th>\n",
       "    </tr>\n",
       "  </thead>\n",
       "  <tbody>\n",
       "    <tr>\n",
       "      <th>comp.graphics</th>\n",
       "      <td>192</td>\n",
       "      <td>5</td>\n",
       "      <td>3</td>\n",
       "      <td>3</td>\n",
       "      <td>2</td>\n",
       "    </tr>\n",
       "    <tr>\n",
       "      <th>rec.sport.hockey</th>\n",
       "      <td>1</td>\n",
       "      <td>192</td>\n",
       "      <td>1</td>\n",
       "      <td>0</td>\n",
       "      <td>0</td>\n",
       "    </tr>\n",
       "    <tr>\n",
       "      <th>sci.med</th>\n",
       "      <td>11</td>\n",
       "      <td>8</td>\n",
       "      <td>178</td>\n",
       "      <td>1</td>\n",
       "      <td>1</td>\n",
       "    </tr>\n",
       "    <tr>\n",
       "      <th>sci.space</th>\n",
       "      <td>10</td>\n",
       "      <td>5</td>\n",
       "      <td>2</td>\n",
       "      <td>177</td>\n",
       "      <td>2</td>\n",
       "    </tr>\n",
       "    <tr>\n",
       "      <th>talk.politics.misc</th>\n",
       "      <td>7</td>\n",
       "      <td>7</td>\n",
       "      <td>2</td>\n",
       "      <td>2</td>\n",
       "      <td>188</td>\n",
       "    </tr>\n",
       "  </tbody>\n",
       "</table>\n",
       "</div>"
      ],
      "text/plain": [
       "                    comp.graphics  rec.sport.hockey  sci.med  sci.space  \\\n",
       "True labels                                                               \n",
       "comp.graphics                 192                 5        3          3   \n",
       "rec.sport.hockey                1               192        1          0   \n",
       "sci.med                        11                 8      178          1   \n",
       "sci.space                      10                 5        2        177   \n",
       "talk.politics.misc              7                 7        2          2   \n",
       "\n",
       "                    talk.politics.misc  \n",
       "True labels                             \n",
       "comp.graphics                        2  \n",
       "rec.sport.hockey                     0  \n",
       "sci.med                              1  \n",
       "sci.space                            2  \n",
       "talk.politics.misc                 188  "
      ]
     },
     "metadata": {},
     "output_type": "display_data"
    },
    {
     "name": "stdout",
     "output_type": "stream",
     "text": [
      "DO YOU WANT TO RE-RUN WITH OTHER PARAMETERS(Y/N)::n\n"
     ]
    }
   ],
   "source": [
    "path = \"C:\\\\Users\\\\Sai Kumar\\\\Desktop\\\\SEM-2\\\\IR\\\\20NEWS\\\\20_newsgroups\\\\*\"\n",
    "dec = \"y\"\n",
    "train_size=[]\n",
    "features=[]\n",
    "perf=[]\n",
    "while(dec==\"y\" or dec==\"Y\"):\n",
    "    print(\"\\n====> READING NAMES OF THE FILES...\\n\")\n",
    "    files_df = read_names(path)\n",
    "    ratio = float(input(\"ENTER THE PERCENTAGE OF TRAINING DATA TO BE CONSIDERED TO TRAIN THE MODEL(ENTER 0.50 IF 50%)::\"))\n",
    "    train_files,test_files = split(ratio,files_df)\n",
    "    print(\"COUNT OF TRAINING FILES CONSIDERED::\",len(train_files))\n",
    "    print(\"COUNT OF TEST FILES CONSIDERED::\",len(test_files))\n",
    "    print(\"\\n====> READING DOCUMENTS AND GENERATING VOCABULARY...\\n\")\n",
    "    mi_table,test_preproc_dict,tfidfs_doc_wise,train_files_class_wise,df_dict_doc_wise = readfiles(path,ratio,test_files)\n",
    "    ##returns testing files data,class wise data, MI table,count of training files(class wise)\n",
    "    train_files_class_wise = dict(sorted(train_files_class_wise.items(),key=operator.itemgetter(1),reverse=True))\n",
    "    classes = list(train_files_class_wise.keys())\n",
    "    classes.sort()\n",
    "    print(\"\\n====> COMPUTING MUTUAL INFORMATIONS...\\n\")\n",
    "    mis_cls_and_term_wise={}\n",
    "    col_count=0\n",
    "    for i in tqdm(classes,leave=True,position=0):\n",
    "        col_count+=1\n",
    "        temp_dict={}\n",
    "        for j in range(len(list(mi_table['↓ term ; class ->']))):\n",
    "            values = {\"N_00\":0,\"N_01\":0,\"N_10\":0,\"N_11\":0,\"N\":0}\n",
    "            term = mi_table.iloc[j,0]\n",
    "            values[\"N_11\"] = mi_table.iloc[j,col_count]\n",
    "            values[\"N_10\"] = mi_table.values[j:j+1,1:].sum(axis =1)-values[\"N_11\"]\n",
    "            values[\"N_01\"] = train_files_class_wise[i]-values[\"N_11\"]\n",
    "            values[\"N_00\"] = sum(train_files_class_wise.values())-train_files_class_wise[i]-values[\"N_10\"]\n",
    "                                                 ##total_docs - docs_of_current_iter_class - N_10\n",
    "            values[\"N\"] = values[\"N_11\"]+values[\"N_10\"]+values[\"N_01\"]+values[\"N_00\"] \n",
    "            try:\n",
    "                t1 = (values[\"N_11\"]/values[\"N\"])*math.log2(values[\"N\"]*values[\"N_11\"]/((values[\"N_11\"]+values[\"N_10\"])*(values[\"N_01\"]+values[\"N_11\"])))\n",
    "            except:\n",
    "                t1=0\n",
    "            try:\n",
    "                t2 = (values[\"N_01\"]/values[\"N\"])*math.log2(values[\"N\"]*values[\"N_01\"]/((values[\"N_00\"]+values[\"N_01\"])*(values[\"N_01\"]+values[\"N_11\"])))\n",
    "            except:\n",
    "                t2=0\n",
    "            try:\n",
    "                t3 = (values[\"N_10\"]/values[\"N\"])*math.log2(values[\"N\"]*values[\"N_10\"]/((values[\"N_11\"]+values[\"N_10\"])*(values[\"N_00\"]+values[\"N_10\"])))\n",
    "            except:\n",
    "                t3=0\n",
    "            try:\n",
    "                t4 = (values[\"N_00\"]/values[\"N\"])*math.log2(values[\"N\"]*values[\"N_00\"]/((values[\"N_00\"]+values[\"N_01\"])*(values[\"N_00\"]+values[\"N_10\"])))\n",
    "            except:\n",
    "                t4=0\n",
    "            mi = t1+t2+t3+t4\n",
    "            temp_dict[term] = mi[0]\n",
    "        mis_cls_and_term_wise[i] = temp_dict\n",
    "    feat_selection = int(input(\"ENTER THE COUNT OF FEATURES TO BE SELECTED PER CLASS(FEATURE SELECTION) < LENGTH OF VOCAB::\"))\n",
    "    for i in mis_cls_and_term_wise:\n",
    "            mis_cls_and_term_wise[i] = dict(sorted(mis_cls_and_term_wise[i].items(),key=operator.itemgetter(1),reverse=True))\n",
    "            mis_cls_and_term_wise[i] = dict(itertools.islice(mis_cls_and_term_wise[i].items(),feat_selection))\n",
    "    train_vectors,test_vectors = gen_vectors(mis_cls_and_term_wise,tfidfs_doc_wise,test_preproc_dict,df_dict_doc_wise)\n",
    "    \n",
    "    print(\"\\n====> GENERATING PREDICTIONS...\\n\")\n",
    "    ground_truth=[]\n",
    "    predictions_1=[]\n",
    "    predictions_3=[]\n",
    "    predictions_5=[]\n",
    "    for i in tqdm(test_vectors,leave=True,position=0):\n",
    "        ground_truth.append(i.split(\"_\")[0])\n",
    "        results={}\n",
    "        cou = 0\n",
    "        for j in train_vectors:\n",
    "            A_dot_B = np.array(train_vectors[j]) @ np.array(test_vectors[i]) \n",
    "            mod_A = np.sqrt(np.array(train_vectors[j]) @ np.array(train_vectors[j]))\n",
    "            mod_B = np.sqrt(np.array(test_vectors[i]) @ np.array(test_vectors[i]))\n",
    "            value = A_dot_B/(mod_A*mod_B)\n",
    "            if math.isnan(value):\n",
    "                results[j] = -99999999  #if any of the vector magnitude is 0,cosine-sim becomes 0/0 which is undefined so assigning \n",
    "                                        #some large negative value\n",
    "            else:\n",
    "                results[j] = value\n",
    "\n",
    "        results = dict(sorted(results.items(),key=operator.itemgetter(1),reverse=True))\n",
    "        predictions_1.append(list(results.keys())[0].split(\"_\")[0])\n",
    "        pred=[]\n",
    "        for r in list(results.keys())[0:3]:\n",
    "            pred.append(r.split(\"_\")[0])\n",
    "        try:\n",
    "            predictions_3.append(mode(pred))\n",
    "        except:\n",
    "            predictions_3.append(list(train_files_class_wise.keys())[0])##assigning majority class label if no uniq mode found..\n",
    "        pred=[]\n",
    "        for r in list(results.keys())[0:5]:\n",
    "            pred.append(r.split(\"_\")[0])\n",
    "        try:\n",
    "            predictions_5.append(mode(pred))\n",
    "        except:\n",
    "            predictions_5.append(list(train_files_class_wise.keys())[0])\n",
    "    acc=[0,0,0]\n",
    "    for i in range(len(ground_truth)):\n",
    "        if(ground_truth[i]==predictions_1[i]):\n",
    "            acc[0]+=1\n",
    "        if(ground_truth[i]==predictions_3[i]):\n",
    "            acc[1]+=1\n",
    "        if(ground_truth[i]==predictions_5[i]):\n",
    "            acc[2]+=1\n",
    "    print(\"ACCURACY WITH K=1::\",acc[0]*100/len(predictions_1))\n",
    "    print(\"ACCURACY WITH K=3::\",acc[1]*100/len(predictions_1))\n",
    "    print(\"ACCURACY WITH K=5::\",acc[2]*100/len(predictions_1))\n",
    "    print(\"CONFUSION MATRIX ON TEST DATA WITH K=1:: \")\n",
    "    #ref:https://stackoverflow.com/questions/50325786/sci-kit-learn-how-to-print-labels-for-confusion-matrix\n",
    "    conf_df = pd.DataFrame(confusion_matrix(ground_truth,predictions_1),columns=classes,index=classes)\n",
    "    conf_df.index.name = 'True labels'\n",
    "    display(conf_df)\n",
    "    print(\"CONFUSION MATRIX ON TEST DATA WITH K=3:: \")\n",
    "    conf_df = pd.DataFrame(confusion_matrix(ground_truth,predictions_3),columns=classes,index=classes)\n",
    "    conf_df.index.name = 'True labels'\n",
    "    display(conf_df)\n",
    "    print(\"CONFUSION MATRIX ON TEST DATA WITH K=5:: \")\n",
    "    conf_df = pd.DataFrame(confusion_matrix(ground_truth,predictions_5),columns=classes,index=classes)\n",
    "    conf_df.index.name = 'True labels'\n",
    "    display(conf_df)\n",
    "    dec = input(\"DO YOU WANT TO RE-RUN WITH OTHER PARAMETERS(Y/N)::\")"
   ]
  },
  {
   "cell_type": "markdown",
   "metadata": {},
   "source": [
    "### RESULTS"
   ]
  },
  {
   "cell_type": "code",
   "execution_count": 30,
   "metadata": {},
   "outputs": [
    {
     "name": "stdout",
     "output_type": "stream",
     "text": [
      "+-------------------------------+-------------+-------------------------------------------+----------------+----------+\n",
      "| % OF TRAINING DATA CONSIDERED | K (in K-NN) | COUNT OF FEATURES(MI BASED)SELECTED/CLASS | TOTAL FEATURES | ACCURACY |\n",
      "+-------------------------------+-------------+-------------------------------------------+----------------+----------+\n",
      "|              50 %             |      1      |                    300                    |      1500      | 91.84 %  |\n",
      "|              50 %             |      3      |                    300                    |      1500      | 91.92 %  |\n",
      "|              50 %             |      5      |                    300                    |      1500      | 92.88 %  |\n",
      "|              70 %             |      1      |                    300                    |      1500      | 92.53 %  |\n",
      "|              70 %             |      3      |                    300                    |      1500      | 93.06 %  |\n",
      "|              70 %             |      5      |                    300                    |      1500      |  93.2 %  |\n",
      "|              80 %             |      1      |                    300                    |      1500      |  93.8 %  |\n",
      "|              80 %             |      3      |                    300                    |      1500      |  93.0 %  |\n",
      "|              80 %             |      5      |                    300                    |      1500      |  92.7 %  |\n",
      "+-------------------------------+-------------+-------------------------------------------+----------------+----------+\n"
     ]
    }
   ],
   "source": [
    "res = PrettyTable()\n",
    "res.field_names = [\"% OF TRAINING DATA CONSIDERED\",\"K (in K-NN)\",\"COUNT OF FEATURES(MI BASED)SELECTED/CLASS\",\"TOTAL FEATURES\",\"ACCURACY\"]\n",
    "res.add_row([\"50 %\",\"1\",\"300\",\"1500\",\"91.84 %\"])\n",
    "res.add_row([\"50 %\",\"3\",\"300\",\"1500\",\"91.92 %\"])\n",
    "res.add_row([\"50 %\",\"5\",\"300\",\"1500\",\"92.88 %\"])\n",
    "res.add_row([\"70 %\",\"1\",\"300\",\"1500\",\"92.53 %\"])\n",
    "res.add_row([\"70 %\",\"3\",\"300\",\"1500\",\"93.06 %\"])\n",
    "res.add_row([\"70 %\",\"5\",\"300\",\"1500\",\"93.2 %\"])\n",
    "res.add_row([\"80 %\",\"1\",\"300\",\"1500\",\"93.8 %\"])\n",
    "res.add_row([\"80 %\",\"3\",\"300\",\"1500\",\"93.0 %\"])\n",
    "res.add_row([\"80 %\",\"5\",\"300\",\"1500\",\"92.7 %\"])\n",
    "print(res)"
   ]
  },
  {
   "cell_type": "code",
   "execution_count": 31,
   "metadata": {},
   "outputs": [
    {
     "data": {
      "image/png": "[encoded data removed]",
      "text/plain": [
       "<Figure size 432x288 with 1 Axes>"
      ]
     },
     "metadata": {
      "needs_background": "light"
     },
     "output_type": "display_data"
    }
   ],
   "source": [
    "## K VS ACCURACY FOR 50:50\n",
    "k=[1,3,5]\n",
    "acc = [91.84,91.92,92.88]\n",
    "plt.plot(k,acc)\n",
    "plt.ylim(90,93)\n",
    "plt.title(\"K (in KNN) VS ACCURACY WHEN 50% OF DATA CONSIDERED FOR TRAINING\")\n",
    "plt.show()"
   ]
  },
  {
   "cell_type": "code",
   "execution_count": 32,
   "metadata": {},
   "outputs": [
    {
     "data": {
      "image/png": "[encoded data removed]",
      "text/plain": [
       "<Figure size 432x288 with 1 Axes>"
      ]
     },
     "metadata": {
      "needs_background": "light"
     },
     "output_type": "display_data"
    }
   ],
   "source": [
    "## K VS ACCURACY 70:30\n",
    "k=[1,3,5]\n",
    "acc = [92.53,93.06,93.2]\n",
    "plt.plot(k,acc)\n",
    "plt.ylim(90,94)\n",
    "plt.title(\"K (in KNN) VS ACCURACY WHEN 70% OF DATA CONSIDERED FOR TRAINING\")\n",
    "plt.show()"
   ]
  },
  {
   "cell_type": "code",
   "execution_count": 38,
   "metadata": {},
   "outputs": [
    {
     "data": {
      "image/png": "[encoded data removed]",
      "text/plain": [
       "<Figure size 432x288 with 1 Axes>"
      ]
     },
     "metadata": {
      "needs_background": "light"
     },
     "output_type": "display_data"
    }
   ],
   "source": [
    "## K VS ACCURACY 80:20\n",
    "k=[1,3,5]\n",
    "acc = [93.8,93.0,92.7]\n",
    "plt.plot(k,acc)\n",
    "plt.ylim(87,97)\n",
    "plt.title(\"K (in KNN) VS ACCURACY WHEN 80% OF DATA CONSIDERED FOR TRAINING\")\n",
    "plt.show()"
   ]
  }
 ],
 "metadata": {
  "kernelspec": {
   "display_name": "Python 3",
   "language": "python",
   "name": "python3"
  },
  "language_info": {
   "codemirror_mode": {
    "name": "ipython",
    "version": 3
   },
   "file_extension": ".py",
   "mimetype": "text/x-python",
   "name": "python",
   "nbconvert_exporter": "python",
   "pygments_lexer": "ipython3",
   "version": "3.7.1"
  }
 },
 "nbformat": 4,
 "nbformat_minor": 2
}
