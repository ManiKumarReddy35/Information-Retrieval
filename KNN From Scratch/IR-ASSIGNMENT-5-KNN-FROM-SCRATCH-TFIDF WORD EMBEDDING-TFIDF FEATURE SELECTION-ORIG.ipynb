{
 "cells": [
  {
   "cell_type": "markdown",
   "metadata": {},
   "source": [
    "## KNN FROM SCRATCH USING TFIDF WORD EMBEDDING & TFIDF FEATURE SELECTION"
   ]
  },
  {
   "cell_type": "markdown",
   "metadata": {},
   "source": [
    "### IMPORTING REQUIRED MODULES"
   ]
  },
  {
   "cell_type": "code",
   "execution_count": 1,
   "metadata": {},
   "outputs": [],
   "source": [
    "import re\n",
    "from nltk import word_tokenize\n",
    "import glob  \n",
    "from nltk.corpus import stopwords\n",
    "import time\n",
    "from nltk.stem import WordNetLemmatizer \n",
    "lemmatizer = WordNetLemmatizer() \n",
    "import os\n",
    "import sys \n",
    "from tqdm import tqdm\n",
    "import pickle\n",
    "from collections import Counter\n",
    "import operator\n",
    "import math\n",
    "import json\n",
    "import numpy as np\n",
    "import pandas as  pd\n",
    "from prettytable import PrettyTable\n",
    "import math\n",
    "import warnings\n",
    "warnings.filterwarnings('ignore')\n",
    "import matplotlib.pyplot as plt\n",
    "import seaborn as sns\n",
    "from sklearn.model_selection import train_test_split\n",
    "from scipy.spatial import distance\n",
    "from statistics import mode\n",
    "from sklearn.metrics import confusion_matrix\n",
    "import itertools\n",
    "import copy\n",
    "from itertools import islice\n",
    "from IPython.display import display"
   ]
  },
  {
   "cell_type": "markdown",
   "metadata": {},
   "source": [
    "### DATA-PREPROCESSING FUNCTION"
   ]
  },
  {
   "cell_type": "code",
   "execution_count": 2,
   "metadata": {},
   "outputs": [],
   "source": [
    "def preprocess(data):\n",
    "    stopword=\"\"\n",
    "    cleantext = \" \"\n",
    "    stopword = set(stopwords.words('english'))\n",
    "    for i in word_tokenize(data):\n",
    "        i=i.lower()\n",
    "        if i not in stopword and len(i)>2 and not(any(l.isdigit() for l in i)):\n",
    "            pattern1 = '[!.?$\\[\\]/\\}#=<>\"\\*:,|_~;()^\\']'\n",
    "            pattern2 = '[\\n\\n]+'\n",
    "            pattern3 = '[\\ \\ ]+'\n",
    "            wout_sc = re.sub(pattern1,'',i) #removing special characters\n",
    "            wout_el = re.sub(pattern2,'\\n',wout_sc) # removing empty lines (which are greater than 2)\n",
    "            wout_mspaces = re.sub(pattern3,' ',wout_el) # removing multiple spaces\n",
    "            cleaned_text = wout_mspaces.strip()\n",
    "            cleaned_text=lemmatizer.lemmatize(cleaned_text)\n",
    "            cleantext = cleantext+cleaned_text+\" \"\n",
    "    return cleantext.strip()"
   ]
  },
  {
   "cell_type": "markdown",
   "metadata": {},
   "source": [
    "### READING THE NAMES OF ALL THE FILES ATTACHED WITH CORRESPONDING CLASS NAME"
   ]
  },
  {
   "cell_type": "code",
   "execution_count": 3,
   "metadata": {},
   "outputs": [],
   "source": [
    "def read_names(path):\n",
    "    i=0\n",
    "    df = pd.DataFrame(columns=['Doc_Name'])\n",
    "    folders = glob.glob(path)\n",
    "    for f in tqdm(folders,leave=True,position=0):\n",
    "        head,tail = os.path.split(f)\n",
    "        if(tail==\"comp.graphics\"or tail==\"sci.med\"or tail==\"talk.politics.misc\"or tail==\"rec.sport.hockey\"or tail==\"sci.space\"):\n",
    "            for file in glob.glob(f+\"\\*\"):\n",
    "                head1,tail1 = os.path.split(file)\n",
    "                df.loc[i] = tail+\"_\"+tail1\n",
    "                i=i+1\n",
    "    return df"
   ]
  },
  {
   "cell_type": "markdown",
   "metadata": {},
   "source": [
    "### PERFORMING TRAIN-TEST SPLIT FOR FILE NAMES "
   ]
  },
  {
   "cell_type": "code",
   "execution_count": 4,
   "metadata": {},
   "outputs": [],
   "source": [
    "def split(ratio,data_frame):\n",
    "    data_frame_temp = data_frame.copy()\n",
    "    train_files,test_files = train_test_split(data_frame_temp,train_size=ratio,random_state=0)\n",
    "    return train_files,test_files"
   ]
  },
  {
   "cell_type": "markdown",
   "metadata": {},
   "source": [
    "### READING THE DATA & BUILDING TFs and DFs FOR TRAINING SET\n",
    "### CORPUS CONSIDERED :: \"20 news groups\" \n",
    "### FOLDERS CONSIDERED: \n",
    "### 1. comp.graphics \n",
    "### 2. sci.med \n",
    "### 3.talk.politics.misc \n",
    "### 4.rec.sport.hockey \n",
    "### 5.sci.space"
   ]
  },
  {
   "cell_type": "code",
   "execution_count": 5,
   "metadata": {},
   "outputs": [],
   "source": [
    "def readfiles(path,ratio,test_files):\n",
    "    folders = glob.glob(path)\n",
    "    preproc_data_dict={} ## key : file-name, value: pre-processed data\n",
    "    tfs_class_wise={}\n",
    "    df_dict={}\n",
    "    train_files_class_wise={}\n",
    "    test_preproc_dict={}\n",
    "    train_files_doc_wise={}\n",
    "    tfs_doc_wise={}\n",
    "    df_dict_doc_wise={}\n",
    "    for f in tqdm(folders,leave=True,position=0):\n",
    "        head,tail = os.path.split(f)\n",
    "        if(tail==\"comp.graphics\"or tail==\"sci.med\"or tail==\"talk.politics.misc\"or tail==\"rec.sport.hockey\"or tail==\"sci.space\"):\n",
    "            for file in glob.glob(f+\"\\*\"):\n",
    "                flag=0\n",
    "                head1,tail1 = os.path.split(file)\n",
    "                with open(file) as newlinetest:   ## identifying the first new line in the data.. to remove meta-data\n",
    "                    indi = newlinetest.readlines()\n",
    "                for newline in range(len(indi)):\n",
    "                    if(indi[newline]!=\"\\n\"):\n",
    "                        continue\n",
    "                    break\n",
    "                filedata=[]\n",
    "                try:\n",
    "                    with open(file,\"r\") as data:  ## READING THE DATA ignoring the meta-data\n",
    "                        filedata.append(data.readlines()[newline+1:])\n",
    "                        for l in range(len(filedata)):\n",
    "                            inter_data = ' '.join(filedata[l])\n",
    "                    preproc_data = preprocess(inter_data)\n",
    "                    if(tail+\"_\"+tail1 not in list(test_files['Doc_Name'])): ## reading only the training data\n",
    "                        train_files_doc_wise[tail+\"_\"+tail1] = preproc_data\n",
    "                        if tail not in train_files_class_wise:\n",
    "                            train_files_class_wise[tail]=1\n",
    "                        else:\n",
    "                            train_files_class_wise[tail]+=1\n",
    "                        if tail not in preproc_data_dict: ## merging the data of all documents belonging to a single class..\n",
    "                            preproc_data_dict[tail] = preproc_data\n",
    "                        else:\n",
    "                            preproc_data_dict[tail] = preproc_data_dict[tail]+\" \"+preproc_data\n",
    "                    else:\n",
    "                        test_preproc_dict[tail+\"_\"+tail1] = preproc_data\n",
    "                    \n",
    "                except e:\n",
    "                    print(\"EXCEPTION OCCURED..\")\n",
    "                \n",
    "                    \n",
    "    print(\"TOTAL TRAINING FILES READ::\",len(train_files_doc_wise.keys()))\n",
    "    \n",
    "    print(\"\\n====> GENERATING TFs DOC WISE...\\n\")\n",
    "    for d in tqdm(train_files_doc_wise,leave=True,position=0): ## computing term-frequencies doc-wise....\n",
    "        tf_dict={}\n",
    "        for w in train_files_doc_wise[d].split():\n",
    "            if w not in tf_dict:\n",
    "                tf_dict[w]=1\n",
    "            else:\n",
    "                tf_dict[w]+=1\n",
    "        tfs_doc_wise[d] = tf_dict\n",
    "    \n",
    "    print(\"\\n====> GENERATING IDFs DOC WISE...\\n\")\n",
    "    \n",
    "    #data=\" \"  \n",
    "    #for d in train_files_doc_wise: ## computing inverse document frequencies doc-wise...\n",
    "    #    data = data+\" \"+train_files_doc_wise[d] ## computing inverse document frequencies...\n",
    "    #unique_words = list(set(data.split()))\n",
    "    #for w in tqdm(unique_words,leave=True,position=0):\n",
    "    #    df_dict_doc_wise[w]=0\n",
    "    #    for key in train_files_doc_wise:\n",
    "    #        if w in train_files_doc_wise[key].split():\n",
    "    #            df_dict_doc_wise[w]+=1\n",
    "    #    df_dict_doc_wise[w] = math.log10(len(train_files_doc_wise.keys())/df_dict_doc_wise[w])\n",
    "    \n",
    "    if(ratio==0.50):\n",
    "        pickle_in = open(\"df_docwise_knn_tfidf_5050\",\"rb\")\n",
    "        df_dict_doc_wise = pickle.load(pickle_in)\n",
    "        print(\"DOC WISE IDF VALUES CORRESPONDING TO 50:50 SPLIT LOADED...!!!\")\n",
    "    if(ratio==0.70):\n",
    "        pickle_in = open(\"df_docwise_knn_tfidf_7030\",\"rb\")\n",
    "        df_dict_doc_wise = pickle.load(pickle_in)\n",
    "        print(\"DOC WISE IDF VALUES CORRESPONDING TO 70:30 SPLIT LOADED...!!!\")\n",
    "    if(ratio==0.80):\n",
    "        pickle_in = open(\"df_docwise_knn_tfidf_8020\",\"rb\")\n",
    "        df_dict_doc_wise = pickle.load(pickle_in)\n",
    "        print(\"DOC WISE IDF VALUES CORRESPONDING TO 80:20 SPLIT LOADED...!!!\")\n",
    "    \n",
    "    tfidfs_doc_wise = copy.deepcopy(tfs_doc_wise)\n",
    "    \n",
    "    print(\"\\n====> GENERATING TF-IDFS DOC WISE...\\n\")\n",
    "    for i in tqdm(tfidfs_doc_wise,leave=True,position=0):\n",
    "        for j in tfidfs_doc_wise[i]:\n",
    "            tfidfs_doc_wise[i][j] = (1+math.log10(tfidfs_doc_wise[i][j]))*df_dict_doc_wise[j]\n",
    "    \n",
    "    print(\"\\n====> GENERATING/LOADING IDFs CLASS WISE...\\n\")\n",
    "    if(ratio==0.50):\n",
    "        pickle_in = open(\"df_nb_tfidf_5050\",\"rb\")\n",
    "        df_dict = pickle.load(pickle_in)\n",
    "        print(\"CLASS WISE IDF VALUES CORRESPONDING TO 50:50 SPLIT LOADED...!!!\")\n",
    "    if(ratio==0.70):\n",
    "        pickle_in = open(\"df_nb_tfidf_7030\",\"rb\")\n",
    "        df_dict = pickle.load(pickle_in)\n",
    "        print(\"CLASS WISE IDF VALUES CORRESPONDING TO 70:30 SPLIT LOADED...!!!\")\n",
    "    if(ratio==0.80):\n",
    "        pickle_in = open(\"df_nb_tfidf_8020\",\"rb\")\n",
    "        df_dict = pickle.load(pickle_in)\n",
    "        print(\"CLASS WISE IDF VALUES CORRESPONDING TO 80:20 SPLIT LOADED...!!!\")\n",
    "        \n",
    "    #data=\" \"\n",
    "    #for d in preproc_data_dict:\n",
    "    #    data = data+\" \"+preproc_data_dict[d] ## computing inverse document frequencies class-wise...\n",
    "    #unique_words = list(set(data.split()))\n",
    "    #for w in tqdm(unique_words,leave=True,position=0):\n",
    "    #    df_dict[w]=0\n",
    "    #    for key in preproc_data_dict:\n",
    "    #        if w in preproc_data_dict[key].split():\n",
    "    #            df_dict[w]+=1\n",
    "    #    df_dict[w] = math.log10(len(preproc_data_dict.keys())/df_dict[w]) ##preproc_data_dict.keys() ==> total number of classes\n",
    "    print(\"LENGTH OF VOCABULARY::\",len(df_dict))\n",
    "    \n",
    "    print(\"\\n====> GENERATING TFs CLASS WISE...\\n\")\n",
    "    for d in tqdm(preproc_data_dict,leave=True,position=0): ## computing term-frequencies....\n",
    "        tf_dict={}\n",
    "        for w in preproc_data_dict[d].split():\n",
    "            if w not in tf_dict:\n",
    "                tf_dict[w]=1\n",
    "            else:\n",
    "                tf_dict[w]+=1\n",
    "        tfs_class_wise[d] = tf_dict\n",
    "    tfidfs_class_wise = copy.deepcopy(tfs_class_wise)\n",
    "    \n",
    "    print(\"\\n====> GENERATING TF-IDFS...\\n\")\n",
    "    for i in tqdm(tfidfs_class_wise,leave=True,position=0):\n",
    "        for j in tfidfs_class_wise[i]:\n",
    "            tfidfs_class_wise[i][j] = (1+math.log10(tfidfs_class_wise[i][j]))*df_dict[j]\n",
    "    return tfidfs_class_wise,tfs_class_wise,test_preproc_dict,tfidfs_doc_wise,df_dict_doc_wise,train_files_class_wise"
   ]
  },
  {
   "cell_type": "markdown",
   "metadata": {},
   "source": [
    "### PICKLING DOC WISE IDF VALUES"
   ]
  },
  {
   "cell_type": "code",
   "execution_count": 6,
   "metadata": {},
   "outputs": [
    {
     "name": "stdout",
     "output_type": "stream",
     "text": [
      "PICKLED DOC WISE IDFs corresponding to 50-50 split\n"
     ]
    }
   ],
   "source": [
    "#pickle_out = open(\"df_docwise_knn_tfidf_5050\",\"wb\")\n",
    "#pickle.dump(df_dict_doc_wise, pickle_out)\n",
    "print(\"PICKLED DOC WISE IDFs corresponding to 50-50 split\")"
   ]
  },
  {
   "cell_type": "code",
   "execution_count": 7,
   "metadata": {},
   "outputs": [
    {
     "name": "stdout",
     "output_type": "stream",
     "text": [
      "PICKLED DOC WISE IDFs corresponding to 70-30 split\n"
     ]
    }
   ],
   "source": [
    "#pickle_out = open(\"df_docwise_knn_tfidf_7030\",\"wb\")\n",
    "#pickle.dump(df_dict_doc_wise, pickle_out)\n",
    "print(\"PICKLED DOC WISE IDFs corresponding to 70-30 split\")"
   ]
  },
  {
   "cell_type": "code",
   "execution_count": 8,
   "metadata": {},
   "outputs": [
    {
     "name": "stdout",
     "output_type": "stream",
     "text": [
      "PICKLED DOC WISE IDFs corresponding to 80-20 split\n"
     ]
    }
   ],
   "source": [
    "#pickle_out = open(\"df_docwise_knn_tfidf_8020\",\"wb\")\n",
    "#pickle.dump(df_dict_doc_wise, pickle_out)\n",
    "print(\"PICKLED DOC WISE IDFs corresponding to 80-20 split\")"
   ]
  },
  {
   "cell_type": "markdown",
   "metadata": {},
   "source": [
    "### GENERATING VECTORS FOR TRAINING AND TEST DOCUMENTS"
   ]
  },
  {
   "cell_type": "code",
   "execution_count": 9,
   "metadata": {},
   "outputs": [],
   "source": [
    "def gen_vectors(tfidfs_class_wise,tfidfs_doc_wise,test_preproc_dict,df_dict_doc_wise):\n",
    "    top_features=set()\n",
    "    test_temp={}\n",
    "    test_vectors_tfidfs={}\n",
    "    train_vectors={}\n",
    "    test_vectors={}\n",
    "    for i in tfidfs_class_wise: ## combining top features of all classes...\n",
    "        top_features = top_features | set(list(tfidfs_class_wise[i].keys()))\n",
    "        \n",
    "    print(\"\\n====> GENERATING TRAINING VECTORS & PEFORMING FEATURE SELECTION...\")\n",
    "    for i in tqdm(tfidfs_doc_wise,leave=True,position=0): ## generating training vectors...\n",
    "        vector=[]\n",
    "        for j in top_features:\n",
    "            if j in tfidfs_doc_wise[i]:\n",
    "                vector.append(tfidfs_doc_wise[i][j])\n",
    "            else:\n",
    "                vector.append(0)\n",
    "        train_vectors[i]=vector\n",
    "    \n",
    "    print(\"\\n====> GENERATING TEST VECTORS AND PERFORMING FEATURE SELECTION...\")\n",
    "    for i in tqdm(test_preproc_dict,leave=True,position=0): ## generating test vectors\n",
    "        test_vectors_temp={}\n",
    "        for j in test_preproc_dict[i].split():\n",
    "            if j in top_features:\n",
    "                if j not in test_vectors_temp:\n",
    "                    test_vectors_temp[j]=1\n",
    "                else:\n",
    "                    test_vectors_temp[j]+=1\n",
    "        test_vectors_tfidfs[i]=test_vectors_temp\n",
    "    #print(\"test_vectors_tfidfs::\",test_vectors_tfidfs)\n",
    "    for i in test_vectors_tfidfs: ## generating tfidfs for test vector...\n",
    "        for j in test_vectors_tfidfs[i]:\n",
    "            test_vectors_tfidfs[i][j] = (1+math.log10(test_vectors_tfidfs[i][j]))*df_dict_doc_wise[j]\n",
    "    \n",
    "    for i in test_preproc_dict: ## generating training vectors...\n",
    "        vector=[]\n",
    "        for j in top_features:\n",
    "            try:\n",
    "                vector.append(test_vectors_tfidfs[i][j])\n",
    "            except:\n",
    "                vector.append(0)\n",
    "        test_vectors[i]=vector\n",
    "    return train_vectors,test_vectors"
   ]
  },
  {
   "cell_type": "markdown",
   "metadata": {},
   "source": [
    "## CODE EXECUTION STARTS HERE..."
   ]
  },
  {
   "cell_type": "code",
   "execution_count": 11,
   "metadata": {
    "scrolled": false
   },
   "outputs": [
    {
     "name": "stdout",
     "output_type": "stream",
     "text": [
      "\n",
      "====> READING NAMES OF THE FILES...\n",
      "\n"
     ]
    },
    {
     "name": "stderr",
     "output_type": "stream",
     "text": [
      "100%|██████████████████████████████████████████████████████████████████████████████████| 20/20 [00:09<00:00,  2.10it/s]\n"
     ]
    },
    {
     "name": "stdout",
     "output_type": "stream",
     "text": [
      "ENTER THE PERCENTAGE OF TRAINING DATA TO BE CONSIDERED TO TRAIN THE MODEL(ENTER 0.50 IF 50%)::0.50\n",
      "COUNT OF TRAINING FILES CONSIDERED:: 2500\n",
      "COUNT OF TEST FILES CONSIDERED:: 2500\n",
      "\n",
      "====> READING DOCUMENTS...\n",
      "\n"
     ]
    },
    {
     "name": "stderr",
     "output_type": "stream",
     "text": [
      "100%|██████████████████████████████████████████████████████████████████████████████████| 20/20 [00:42<00:00,  2.12s/it]\n"
     ]
    },
    {
     "name": "stdout",
     "output_type": "stream",
     "text": [
      "TOTAL TRAINING FILES READ:: 2500\n",
      "\n",
      "====> GENERATING TFs DOC WISE...\n",
      "\n"
     ]
    },
    {
     "name": "stderr",
     "output_type": "stream",
     "text": [
      "100%|████████████████████████████████████████████████████████████████████████████| 2500/2500 [00:00<00:00, 9750.11it/s]\n"
     ]
    },
    {
     "name": "stdout",
     "output_type": "stream",
     "text": [
      "\n",
      "====> GENERATING IDFs DOC WISE...\n",
      "\n",
      "DOC WISE IDF VALUES CORRESPONDING TO 50:50 SPLIT LOADED...!!!\n",
      "\n",
      "====> GENERATING TF-IDFS DOC WISE...\n",
      "\n"
     ]
    },
    {
     "name": "stderr",
     "output_type": "stream",
     "text": [
      "100%|████████████████████████████████████████████████████████████████████████████| 2500/2500 [00:00<00:00, 8931.69it/s]\n"
     ]
    },
    {
     "name": "stdout",
     "output_type": "stream",
     "text": [
      "\n",
      "====> GENERATING/LOADING IDFs CLASS WISE...\n",
      "\n",
      "CLASS WISE IDF VALUES CORRESPONDING TO 50:50 SPLIT LOADED...!!!\n",
      "LENGTH OF VOCABULARY:: 34414\n",
      "\n",
      "====> GENERATING TFs CLASS WISE...\n",
      "\n"
     ]
    },
    {
     "name": "stderr",
     "output_type": "stream",
     "text": [
      "100%|████████████████████████████████████████████████████████████████████████████████████| 5/5 [00:00<00:00, 22.14it/s]\n"
     ]
    },
    {
     "name": "stdout",
     "output_type": "stream",
     "text": [
      "\n",
      "====> GENERATING TF-IDFS...\n",
      "\n"
     ]
    },
    {
     "name": "stderr",
     "output_type": "stream",
     "text": [
      "100%|████████████████████████████████████████████████████████████████████████████████████| 5/5 [00:00<00:00, 72.66it/s]\n"
     ]
    },
    {
     "name": "stdout",
     "output_type": "stream",
     "text": [
      "ENTER THE COUNT OF FEATURES TO BE SELECTED FROM EACH CLASS::1000\n",
      "\n",
      "====> GENERATING TRAINING VECTORS & PEFORMING FEATURE SELECTION...\n"
     ]
    },
    {
     "name": "stderr",
     "output_type": "stream",
     "text": [
      "100%|████████████████████████████████████████████████████████████████████████████| 2500/2500 [00:01<00:00, 1445.35it/s]\n"
     ]
    },
    {
     "name": "stdout",
     "output_type": "stream",
     "text": [
      "\n",
      "====> GENERATING TEST VECTORS AND PERFORMING FEATURE SELECTION...\n"
     ]
    },
    {
     "name": "stderr",
     "output_type": "stream",
     "text": [
      "100%|███████████████████████████████████████████████████████████████████████████| 2500/2500 [00:00<00:00, 21981.25it/s]\n"
     ]
    },
    {
     "name": "stdout",
     "output_type": "stream",
     "text": [
      "\n",
      "====> GENERATING PREDICTIONS...\n",
      "\n"
     ]
    },
    {
     "name": "stderr",
     "output_type": "stream",
     "text": [
      "100%|████████████████████████████████████████████████████████████████████████████| 2500/2500 [5:16:06<00:00,  5.94s/it]\n"
     ]
    },
    {
     "name": "stdout",
     "output_type": "stream",
     "text": [
      "ACCURACY WITH K=1:: 91.04\n",
      "ACCURACY WITH K=3:: 91.4\n",
      "ACCURACY WITH K=5:: 91.24\n",
      "CONFUSION MATRIX ON TEST DATA WITH K=1:: \n"
     ]
    },
    {
     "data": {
      "text/html": [
       "<div>\n",
       "<style scoped>\n",
       "    .dataframe tbody tr th:only-of-type {\n",
       "        vertical-align: middle;\n",
       "    }\n",
       "\n",
       "    .dataframe tbody tr th {\n",
       "        vertical-align: top;\n",
       "    }\n",
       "\n",
       "    .dataframe thead th {\n",
       "        text-align: right;\n",
       "    }\n",
       "</style>\n",
       "<table border=\"1\" class=\"dataframe\">\n",
       "  <thead>\n",
       "    <tr style=\"text-align: right;\">\n",
       "      <th></th>\n",
       "      <th>sci.space</th>\n",
       "      <th>sci.med</th>\n",
       "      <th>rec.sport.hockey</th>\n",
       "      <th>talk.politics.misc</th>\n",
       "      <th>comp.graphics</th>\n",
       "    </tr>\n",
       "    <tr>\n",
       "      <th>True labels</th>\n",
       "      <th></th>\n",
       "      <th></th>\n",
       "      <th></th>\n",
       "      <th></th>\n",
       "      <th></th>\n",
       "    </tr>\n",
       "  </thead>\n",
       "  <tbody>\n",
       "    <tr>\n",
       "      <th>sci.space</th>\n",
       "      <td>478</td>\n",
       "      <td>7</td>\n",
       "      <td>6</td>\n",
       "      <td>14</td>\n",
       "      <td>6</td>\n",
       "    </tr>\n",
       "    <tr>\n",
       "      <th>sci.med</th>\n",
       "      <td>14</td>\n",
       "      <td>477</td>\n",
       "      <td>2</td>\n",
       "      <td>0</td>\n",
       "      <td>7</td>\n",
       "    </tr>\n",
       "    <tr>\n",
       "      <th>rec.sport.hockey</th>\n",
       "      <td>41</td>\n",
       "      <td>0</td>\n",
       "      <td>431</td>\n",
       "      <td>15</td>\n",
       "      <td>8</td>\n",
       "    </tr>\n",
       "    <tr>\n",
       "      <th>talk.politics.misc</th>\n",
       "      <td>48</td>\n",
       "      <td>2</td>\n",
       "      <td>6</td>\n",
       "      <td>427</td>\n",
       "      <td>4</td>\n",
       "    </tr>\n",
       "    <tr>\n",
       "      <th>comp.graphics</th>\n",
       "      <td>30</td>\n",
       "      <td>4</td>\n",
       "      <td>7</td>\n",
       "      <td>3</td>\n",
       "      <td>463</td>\n",
       "    </tr>\n",
       "  </tbody>\n",
       "</table>\n",
       "</div>"
      ],
      "text/plain": [
       "                    sci.space  sci.med  rec.sport.hockey  talk.politics.misc  \\\n",
       "True labels                                                                    \n",
       "sci.space                 478        7                 6                  14   \n",
       "sci.med                    14      477                 2                   0   \n",
       "rec.sport.hockey           41        0               431                  15   \n",
       "talk.politics.misc         48        2                 6                 427   \n",
       "comp.graphics              30        4                 7                   3   \n",
       "\n",
       "                    comp.graphics  \n",
       "True labels                        \n",
       "sci.space                       6  \n",
       "sci.med                         7  \n",
       "rec.sport.hockey                8  \n",
       "talk.politics.misc              4  \n",
       "comp.graphics                 463  "
      ]
     },
     "metadata": {},
     "output_type": "display_data"
    },
    {
     "name": "stdout",
     "output_type": "stream",
     "text": [
      "CONFUSION MATRIX ON TEST DATA WITH K=3:: \n"
     ]
    },
    {
     "data": {
      "text/html": [
       "<div>\n",
       "<style scoped>\n",
       "    .dataframe tbody tr th:only-of-type {\n",
       "        vertical-align: middle;\n",
       "    }\n",
       "\n",
       "    .dataframe tbody tr th {\n",
       "        vertical-align: top;\n",
       "    }\n",
       "\n",
       "    .dataframe thead th {\n",
       "        text-align: right;\n",
       "    }\n",
       "</style>\n",
       "<table border=\"1\" class=\"dataframe\">\n",
       "  <thead>\n",
       "    <tr style=\"text-align: right;\">\n",
       "      <th></th>\n",
       "      <th>sci.space</th>\n",
       "      <th>sci.med</th>\n",
       "      <th>rec.sport.hockey</th>\n",
       "      <th>talk.politics.misc</th>\n",
       "      <th>comp.graphics</th>\n",
       "    </tr>\n",
       "    <tr>\n",
       "      <th>True labels</th>\n",
       "      <th></th>\n",
       "      <th></th>\n",
       "      <th></th>\n",
       "      <th></th>\n",
       "      <th></th>\n",
       "    </tr>\n",
       "  </thead>\n",
       "  <tbody>\n",
       "    <tr>\n",
       "      <th>sci.space</th>\n",
       "      <td>478</td>\n",
       "      <td>7</td>\n",
       "      <td>4</td>\n",
       "      <td>14</td>\n",
       "      <td>8</td>\n",
       "    </tr>\n",
       "    <tr>\n",
       "      <th>sci.med</th>\n",
       "      <td>17</td>\n",
       "      <td>477</td>\n",
       "      <td>1</td>\n",
       "      <td>2</td>\n",
       "      <td>3</td>\n",
       "    </tr>\n",
       "    <tr>\n",
       "      <th>rec.sport.hockey</th>\n",
       "      <td>42</td>\n",
       "      <td>1</td>\n",
       "      <td>434</td>\n",
       "      <td>13</td>\n",
       "      <td>5</td>\n",
       "    </tr>\n",
       "    <tr>\n",
       "      <th>talk.politics.misc</th>\n",
       "      <td>40</td>\n",
       "      <td>2</td>\n",
       "      <td>4</td>\n",
       "      <td>436</td>\n",
       "      <td>5</td>\n",
       "    </tr>\n",
       "    <tr>\n",
       "      <th>comp.graphics</th>\n",
       "      <td>30</td>\n",
       "      <td>8</td>\n",
       "      <td>4</td>\n",
       "      <td>5</td>\n",
       "      <td>460</td>\n",
       "    </tr>\n",
       "  </tbody>\n",
       "</table>\n",
       "</div>"
      ],
      "text/plain": [
       "                    sci.space  sci.med  rec.sport.hockey  talk.politics.misc  \\\n",
       "True labels                                                                    \n",
       "sci.space                 478        7                 4                  14   \n",
       "sci.med                    17      477                 1                   2   \n",
       "rec.sport.hockey           42        1               434                  13   \n",
       "talk.politics.misc         40        2                 4                 436   \n",
       "comp.graphics              30        8                 4                   5   \n",
       "\n",
       "                    comp.graphics  \n",
       "True labels                        \n",
       "sci.space                       8  \n",
       "sci.med                         3  \n",
       "rec.sport.hockey                5  \n",
       "talk.politics.misc              5  \n",
       "comp.graphics                 460  "
      ]
     },
     "metadata": {},
     "output_type": "display_data"
    },
    {
     "name": "stdout",
     "output_type": "stream",
     "text": [
      "CONFUSION MATRIX ON TEST DATA WITH K=5:: \n"
     ]
    },
    {
     "data": {
      "text/html": [
       "<div>\n",
       "<style scoped>\n",
       "    .dataframe tbody tr th:only-of-type {\n",
       "        vertical-align: middle;\n",
       "    }\n",
       "\n",
       "    .dataframe tbody tr th {\n",
       "        vertical-align: top;\n",
       "    }\n",
       "\n",
       "    .dataframe thead th {\n",
       "        text-align: right;\n",
       "    }\n",
       "</style>\n",
       "<table border=\"1\" class=\"dataframe\">\n",
       "  <thead>\n",
       "    <tr style=\"text-align: right;\">\n",
       "      <th></th>\n",
       "      <th>sci.space</th>\n",
       "      <th>sci.med</th>\n",
       "      <th>rec.sport.hockey</th>\n",
       "      <th>talk.politics.misc</th>\n",
       "      <th>comp.graphics</th>\n",
       "    </tr>\n",
       "    <tr>\n",
       "      <th>True labels</th>\n",
       "      <th></th>\n",
       "      <th></th>\n",
       "      <th></th>\n",
       "      <th></th>\n",
       "      <th></th>\n",
       "    </tr>\n",
       "  </thead>\n",
       "  <tbody>\n",
       "    <tr>\n",
       "      <th>sci.space</th>\n",
       "      <td>487</td>\n",
       "      <td>7</td>\n",
       "      <td>5</td>\n",
       "      <td>8</td>\n",
       "      <td>4</td>\n",
       "    </tr>\n",
       "    <tr>\n",
       "      <th>sci.med</th>\n",
       "      <td>15</td>\n",
       "      <td>484</td>\n",
       "      <td>0</td>\n",
       "      <td>0</td>\n",
       "      <td>1</td>\n",
       "    </tr>\n",
       "    <tr>\n",
       "      <th>rec.sport.hockey</th>\n",
       "      <td>59</td>\n",
       "      <td>2</td>\n",
       "      <td>418</td>\n",
       "      <td>10</td>\n",
       "      <td>6</td>\n",
       "    </tr>\n",
       "    <tr>\n",
       "      <th>talk.politics.misc</th>\n",
       "      <td>47</td>\n",
       "      <td>2</td>\n",
       "      <td>2</td>\n",
       "      <td>432</td>\n",
       "      <td>4</td>\n",
       "    </tr>\n",
       "    <tr>\n",
       "      <th>comp.graphics</th>\n",
       "      <td>34</td>\n",
       "      <td>8</td>\n",
       "      <td>1</td>\n",
       "      <td>4</td>\n",
       "      <td>460</td>\n",
       "    </tr>\n",
       "  </tbody>\n",
       "</table>\n",
       "</div>"
      ],
      "text/plain": [
       "                    sci.space  sci.med  rec.sport.hockey  talk.politics.misc  \\\n",
       "True labels                                                                    \n",
       "sci.space                 487        7                 5                   8   \n",
       "sci.med                    15      484                 0                   0   \n",
       "rec.sport.hockey           59        2               418                  10   \n",
       "talk.politics.misc         47        2                 2                 432   \n",
       "comp.graphics              34        8                 1                   4   \n",
       "\n",
       "                    comp.graphics  \n",
       "True labels                        \n",
       "sci.space                       4  \n",
       "sci.med                         1  \n",
       "rec.sport.hockey                6  \n",
       "talk.politics.misc              4  \n",
       "comp.graphics                 460  "
      ]
     },
     "metadata": {},
     "output_type": "display_data"
    },
    {
     "name": "stdout",
     "output_type": "stream",
     "text": [
      "DO YOU WANT TO RE-RUN WITH OTHER PARAMETERS(Y/N)::n\n"
     ]
    }
   ],
   "source": [
    "path = \"C:\\\\Users\\\\Sai Kumar\\\\Desktop\\\\SEM-2\\\\IR\\\\20NEWS\\\\20_newsgroups\\\\*\"\n",
    "train_size=[]\n",
    "features=[]\n",
    "perf=[]\n",
    "dec = \"y\"\n",
    "while(dec == \"y\" or dec ==\"Y\"):\n",
    "    print(\"\\n====> READING NAMES OF THE FILES...\\n\")\n",
    "    files_df = read_names(path)\n",
    "    ratio = float(input(\"ENTER THE PERCENTAGE OF TRAINING DATA TO BE CONSIDERED TO TRAIN THE MODEL(ENTER 0.50 IF 50%)::\"))\n",
    "    train_files,test_files = split(ratio,files_df)\n",
    "    print(\"COUNT OF TRAINING FILES CONSIDERED::\",len(train_files))\n",
    "    print(\"COUNT OF TEST FILES CONSIDERED::\",len(test_files))\n",
    "    print(\"\\n====> READING DOCUMENTS...\\n\")\n",
    "    tfidfs_class_wise,tfs_class_wise,test_preproc_dict,tfidfs_doc_wise,df_dict_doc_wise,train_files_class_wise=readfiles(path,ratio,test_files)\n",
    "    train_files_class_wise = dict(sorted(train_files_class_wise.items(),key=operator.itemgetter(1),reverse=True))\n",
    "    feat_selection = int(input(\"ENTER THE COUNT OF FEATURES TO BE SELECTED FROM EACH CLASS::\"))\n",
    "    for i in tfidfs_class_wise:\n",
    "        tfidfs_class_wise[i] = dict(sorted(tfidfs_class_wise[i].items(),key=operator.itemgetter(1),reverse=True))\n",
    "        tfidfs_class_wise[i] = dict(itertools.islice(tfidfs_class_wise[i].items(),feat_selection))\n",
    "    train_vectors,test_vectors = gen_vectors(tfidfs_class_wise,tfidfs_doc_wise,test_preproc_dict,df_dict_doc_wise)\n",
    "    print(\"\\n====> GENERATING PREDICTIONS...\\n\")\n",
    "    ground_truth=[]\n",
    "    predictions_1=[]\n",
    "    predictions_3=[]\n",
    "    predictions_5=[]\n",
    "    classes=list(train_files_class_wise.keys())\n",
    "    for i in tqdm(test_vectors,leave=True,position=0):\n",
    "        ground_truth.append(i.split(\"_\")[0])\n",
    "        results={}\n",
    "        cou = 0\n",
    "        for j in train_vectors:\n",
    "            A_dot_B = np.array(train_vectors[j]) @ np.array(test_vectors[i]) \n",
    "            mod_A = np.sqrt(np.array(train_vectors[j]) @ np.array(train_vectors[j]))\n",
    "            mod_B = np.sqrt(np.array(test_vectors[i]) @ np.array(test_vectors[i]))\n",
    "            value = A_dot_B/(mod_A*mod_B)\n",
    "            if math.isnan(value):\n",
    "                results[j] = -99999999  #if any of the vector magnitude is 0,cosine-sim becomes 0/0 which is undefined so assigning \n",
    "                                        #some large negative value\n",
    "            else:\n",
    "                results[j] = value\n",
    "\n",
    "        results = dict(sorted(results.items(),key=operator.itemgetter(1),reverse=True))\n",
    "        predictions_1.append(list(results.keys())[0].split(\"_\")[0])\n",
    "        pred=[]\n",
    "        for r in list(results.keys())[0:3]:\n",
    "            pred.append(r.split(\"_\")[0])\n",
    "        try:\n",
    "            predictions_3.append(mode(pred))\n",
    "        except:\n",
    "            predictions_3.append(list(train_files_class_wise.keys())[0])\n",
    "        pred=[]\n",
    "        for r in list(results.keys())[0:5]:\n",
    "            pred.append(r.split(\"_\")[0])\n",
    "        try:\n",
    "            predictions_5.append(mode(pred))\n",
    "        except:\n",
    "            predictions_5.append(list(train_files_class_wise.keys())[0])\n",
    "    acc=[0,0,0]\n",
    "    for i in range(len(ground_truth)):\n",
    "        if(ground_truth[i]==predictions_1[i]):\n",
    "            acc[0]+=1\n",
    "        if(ground_truth[i]==predictions_3[i]):\n",
    "            acc[1]+=1\n",
    "        if(ground_truth[i]==predictions_5[i]):\n",
    "            acc[2]+=1\n",
    "    print(\"ACCURACY WITH K=1::\",acc[0]*100/len(predictions_1))\n",
    "    print(\"ACCURACY WITH K=3::\",acc[1]*100/len(predictions_1))\n",
    "    print(\"ACCURACY WITH K=5::\",acc[2]*100/len(predictions_1))\n",
    "    print(\"CONFUSION MATRIX ON TEST DATA WITH K=1:: \")\n",
    "    #ref:https://stackoverflow.com/questions/50325786/sci-kit-learn-how-to-print-labels-for-confusion-matrix\n",
    "    conf_df = pd.DataFrame(confusion_matrix(ground_truth,predictions_1),columns=classes,index=classes)\n",
    "    conf_df.index.name = 'True labels'\n",
    "    display(conf_df)\n",
    "    print(\"CONFUSION MATRIX ON TEST DATA WITH K=3:: \")\n",
    "    conf_df = pd.DataFrame(confusion_matrix(ground_truth,predictions_3),columns=classes,index=classes)\n",
    "    conf_df.index.name = 'True labels'\n",
    "    display(conf_df)\n",
    "    print(\"CONFUSION MATRIX ON TEST DATA WITH K=5:: \")\n",
    "    conf_df = pd.DataFrame(confusion_matrix(ground_truth,predictions_5),columns=classes,index=classes)\n",
    "    conf_df.index.name = 'True labels'\n",
    "    display(conf_df)\n",
    "    dec = input(\"DO YOU WANT TO RE-RUN WITH OTHER PARAMETERS(Y/N)::\")"
   ]
  },
  {
   "cell_type": "markdown",
   "metadata": {},
   "source": [
    "### RESULTS"
   ]
  },
  {
   "cell_type": "code",
   "execution_count": 22,
   "metadata": {},
   "outputs": [
    {
     "name": "stdout",
     "output_type": "stream",
     "text": [
      "+-------------------------------+-------------+-----------------------------------------------+----------------+----------+\n",
      "| % OF TRAINING DATA CONSIDERED | K (in K-NN) | COUNT OF FEATURES(TF-IDF BASED)SELECTED/CLASS | TOTAL FEATURES | ACCURACY |\n",
      "+-------------------------------+-------------+-----------------------------------------------+----------------+----------+\n",
      "|              50 %             |      1      |                      1000                     |      5000      | 91.04 %  |\n",
      "|              50 %             |      3      |                      1000                     |      5000      |  91.4 %  |\n",
      "|              50 %             |      5      |                      1000                     |      5000      | 91.24 %  |\n",
      "|              70 %             |      1      |                      1000                     |      5000      | 91.93 %  |\n",
      "|              70 %             |      3      |                      1000                     |      5000      |  92.2 %  |\n",
      "|              70 %             |      5      |                      1000                     |      5000      |  92.0 %  |\n",
      "|              80 %             |      1      |                      1000                     |      5000      |  91.6 %  |\n",
      "|              80 %             |      3      |                      1000                     |      5000      |  91.8 %  |\n",
      "|              80 %             |      5      |                      1000                     |      5000      |  91.8 %  |\n",
      "+-------------------------------+-------------+-----------------------------------------------+----------------+----------+\n"
     ]
    }
   ],
   "source": [
    "res = PrettyTable()\n",
    "res.field_names = [\"% OF TRAINING DATA CONSIDERED\",\"K (in K-NN)\",\"COUNT OF FEATURES(TF-IDF BASED)SELECTED/CLASS\",\"TOTAL FEATURES\",\"ACCURACY\"]\n",
    "res.add_row([\"50 %\",\"1\",\"1000\",\"5000\",\"91.04 %\"])\n",
    "res.add_row([\"50 %\",\"3\",\"1000\",\"5000\",\"91.4 %\"])\n",
    "res.add_row([\"50 %\",\"5\",\"1000\",\"5000\",\"91.24 %\"])\n",
    "res.add_row([\"70 %\",\"1\",\"1000\",\"5000\",\"91.93 %\"])\n",
    "res.add_row([\"70 %\",\"3\",\"1000\",\"5000\",\"92.2 %\"])\n",
    "res.add_row([\"70 %\",\"5\",\"1000\",\"5000\",\"92.0 %\"])\n",
    "res.add_row([\"80 %\",\"1\",\"1000\",\"5000\",\"91.6 %\"])\n",
    "res.add_row([\"80 %\",\"3\",\"1000\",\"5000\",\"91.8 %\"])\n",
    "res.add_row([\"80 %\",\"5\",\"1000\",\"5000\",\"91.8 %\"])\n",
    "print(res)"
   ]
  },
  {
   "cell_type": "markdown",
   "metadata": {},
   "source": [
    "### PLOTS"
   ]
  },
  {
   "cell_type": "code",
   "execution_count": 18,
   "metadata": {},
   "outputs": [
    {
     "data": {
      "image/png": "[encoded data removed]",
      "text/plain": [
       "<Figure size 432x288 with 1 Axes>"
      ]
     },
     "metadata": {
      "needs_background": "light"
     },
     "output_type": "display_data"
    }
   ],
   "source": [
    "## K VS ACCURACY FOR 50:50\n",
    "k=[1,3,5]\n",
    "acc = [91.04,91.4,91.24]\n",
    "plt.plot(k,acc)\n",
    "plt.ylim(90,93)\n",
    "plt.title(\"K (in KNN) VS ACCURACY WHEN 50% OF DATA CONSIDERED FOR TRAINING\")\n",
    "plt.show()"
   ]
  },
  {
   "cell_type": "code",
   "execution_count": 19,
   "metadata": {},
   "outputs": [
    {
     "data": {
      "image/png": "[encoded data removed]",
      "text/plain": [
       "<Figure size 432x288 with 1 Axes>"
      ]
     },
     "metadata": {
      "needs_background": "light"
     },
     "output_type": "display_data"
    }
   ],
   "source": [
    "## K VS ACCURACY 70:30\n",
    "k=[1,3,5]\n",
    "acc = [91.93,92.2,92.0]\n",
    "plt.plot(k,acc)\n",
    "plt.ylim(90,93)\n",
    "plt.title(\"K (in KNN) VS ACCURACY WHEN 70% OF DATA CONSIDERED FOR TRAINING\")\n",
    "plt.show()"
   ]
  },
  {
   "cell_type": "code",
   "execution_count": 20,
   "metadata": {},
   "outputs": [
    {
     "data": {
      "image/png": "[encoded data removed]",
      "text/plain": [
       "<Figure size 432x288 with 1 Axes>"
      ]
     },
     "metadata": {
      "needs_background": "light"
     },
     "output_type": "display_data"
    }
   ],
   "source": [
    "## K VS ACCURACY 80:20\n",
    "k=[1,3,5]\n",
    "acc = [91.6,91.8,91.8]\n",
    "plt.plot(k,acc)\n",
    "plt.ylim(90,93)\n",
    "plt.title(\"K (in KNN) VS ACCURACY WHEN 80% OF DATA CONSIDERED FOR TRAINING\")\n",
    "plt.show()"
   ]
  },
  {
   "cell_type": "code",
   "execution_count": null,
   "metadata": {},
   "outputs": [],
   "source": []
  }
 ],
 "metadata": {
  "kernelspec": {
   "display_name": "Python 3",
   "language": "python",
   "name": "python3"
  },
  "language_info": {
   "codemirror_mode": {
    "name": "ipython",
    "version": 3
   },
   "file_extension": ".py",
   "mimetype": "text/x-python",
   "name": "python",
   "nbconvert_exporter": "python",
   "pygments_lexer": "ipython3",
   "version": "3.7.1"
  }
 },
 "nbformat": 4,
 "nbformat_minor": 2
}
