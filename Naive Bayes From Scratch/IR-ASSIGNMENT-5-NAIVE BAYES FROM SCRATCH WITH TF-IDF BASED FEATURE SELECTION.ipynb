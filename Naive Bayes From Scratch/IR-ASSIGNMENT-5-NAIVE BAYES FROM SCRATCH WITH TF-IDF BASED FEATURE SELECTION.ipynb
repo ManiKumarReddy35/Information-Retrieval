{
 "cells": [
  {
   "cell_type": "markdown",
   "metadata": {},
   "source": [
    "# NAIVE BAYES FROM SCRATCH WITH TFIDF BASED FEATURE SELECTION"
   ]
  },
  {
   "cell_type": "markdown",
   "metadata": {},
   "source": [
    "### IMPORTING REQUIRED MODULES"
   ]
  },
  {
   "cell_type": "code",
   "execution_count": 40,
   "metadata": {},
   "outputs": [],
   "source": [
    "import re\n",
    "from nltk import word_tokenize\n",
    "import glob  \n",
    "from nltk.corpus import stopwords\n",
    "import time\n",
    "from nltk.stem import WordNetLemmatizer \n",
    "lemmatizer = WordNetLemmatizer() \n",
    "import os\n",
    "import sys \n",
    "from tqdm import tqdm\n",
    "import pickle\n",
    "from collections import Counter\n",
    "import operator\n",
    "import math\n",
    "import json\n",
    "import numpy as np\n",
    "import pandas as  pd\n",
    "from prettytable import PrettyTable\n",
    "import math\n",
    "import warnings\n",
    "warnings.filterwarnings('ignore')\n",
    "import matplotlib.pyplot as plt\n",
    "import seaborn as sns\n",
    "from sklearn.model_selection import train_test_split\n",
    "from scipy.spatial import distance\n",
    "from statistics import mode\n",
    "from sklearn.metrics import confusion_matrix\n",
    "import itertools\n",
    "import copy\n",
    "from IPython.display import display"
   ]
  },
  {
   "cell_type": "markdown",
   "metadata": {},
   "source": [
    "### DATA PRE-PROCESSING FUNCTION"
   ]
  },
  {
   "cell_type": "code",
   "execution_count": 41,
   "metadata": {},
   "outputs": [],
   "source": [
    "def preprocess(data):\n",
    "    stopword=\"\"\n",
    "    cleantext = \" \"\n",
    "    stopword = set(stopwords.words('english'))\n",
    "    for i in word_tokenize(data):\n",
    "        i=i.lower()\n",
    "        if i not in stopword and len(i)>2 and not(any(l.isdigit() for l in i)):\n",
    "            pattern1 = '[!.?$\\[\\]/\\}#=<>\"\\*:,|_~;()^\\']'\n",
    "            pattern2 = '[\\n\\n]+'\n",
    "            pattern3 = '[\\ \\ ]+'\n",
    "            wout_sc = re.sub(pattern1,'',i) #removing special characters\n",
    "            wout_el = re.sub(pattern2,'\\n',wout_sc) # removing empty lines (which are greater than 2)\n",
    "            wout_mspaces = re.sub(pattern3,' ',wout_el) # removing multiple spaces\n",
    "            cleaned_text = wout_mspaces.strip()\n",
    "            cleaned_text=lemmatizer.lemmatize(cleaned_text)\n",
    "            cleantext = cleantext+cleaned_text+\" \"\n",
    "    return cleantext.strip()"
   ]
  },
  {
   "cell_type": "markdown",
   "metadata": {},
   "source": [
    "### READING THE NAMES OF ALL THE FILES ATTACHED WITH CORRESPONDING CLASS NAME"
   ]
  },
  {
   "cell_type": "code",
   "execution_count": 42,
   "metadata": {},
   "outputs": [],
   "source": [
    "def read_names(path):\n",
    "    i=0\n",
    "    df = pd.DataFrame(columns=['Doc_Name'])\n",
    "    folders = glob.glob(path)\n",
    "    for f in tqdm(folders,leave=True,position=0):\n",
    "        head,tail = os.path.split(f)\n",
    "        if(tail==\"comp.graphics\"or tail==\"sci.med\"or tail==\"talk.politics.misc\"or tail==\"rec.sport.hockey\"or tail==\"sci.space\"):\n",
    "            for file in glob.glob(f+\"\\*\"):\n",
    "                head1,tail1 = os.path.split(file)\n",
    "                df.loc[i] = tail+\"_\"+tail1\n",
    "                i=i+1\n",
    "    return df"
   ]
  },
  {
   "cell_type": "markdown",
   "metadata": {},
   "source": [
    "### TRAIN-TEST SPLIT (DECISION MAKING FOR A DOC TO BE TRAIN OR TEST)"
   ]
  },
  {
   "cell_type": "code",
   "execution_count": 43,
   "metadata": {},
   "outputs": [],
   "source": [
    "def split(ratio,data_frame):\n",
    "    data_frame_temp = data_frame.copy()\n",
    "    train_files,test_files = train_test_split(data_frame_temp,train_size=ratio,random_state=0)\n",
    "    return train_files,test_files"
   ]
  },
  {
   "cell_type": "markdown",
   "metadata": {},
   "source": [
    "### READING THE DATA, BUILDING TFs and DFs & BUILDING TF-IDFs FOR TRAINING SET \n",
    "### (WE CALCULATE TF IN THE CLASS AND DF ACROSS THE CLASSES)\n",
    "### CORPUS CONSIDERED :: \"20 news groups\"\n",
    "### FOLDERS CONSIDERED:\n",
    "### 1. comp.graphics\n",
    "### 2. sci.med\n",
    "### 3.talk.politics.misc\n",
    "### 4.rec.sport.hockey\n",
    "### 5.sci.space"
   ]
  },
  {
   "cell_type": "code",
   "execution_count": 44,
   "metadata": {},
   "outputs": [],
   "source": [
    "def readfiles(path,ratio,test_files):\n",
    "    folders = glob.glob(path)\n",
    "    preproc_data_dict={} ## key : file-name, value: pre-processed data\n",
    "    tfs_class_wise={}\n",
    "    df_dict={}\n",
    "    files_read=0\n",
    "    train_files_class_wise={}\n",
    "    test_preproc_dict={}\n",
    "    for f in tqdm(folders,leave=True,position=0):\n",
    "        head,tail = os.path.split(f)\n",
    "        if(tail==\"comp.graphics\"or tail==\"sci.med\"or tail==\"talk.politics.misc\"or tail==\"rec.sport.hockey\"or tail==\"sci.space\"):\n",
    "            for file in glob.glob(f+\"\\*\"):\n",
    "                flag=0\n",
    "                head1,tail1 = os.path.split(file)\n",
    "                with open(file) as newlinetest:   ## identifying the first new line in the data.. to remove meta-data\n",
    "                    indi = newlinetest.readlines()\n",
    "                for newline in range(len(indi)):\n",
    "                    if(indi[newline]!=\"\\n\"):\n",
    "                        continue\n",
    "                    break\n",
    "                filedata=[]\n",
    "                try:\n",
    "                    with open(file,\"r\") as data:  ## READING THE DATA ignoring the meta-data\n",
    "                        filedata.append(data.readlines()[newline+1:])\n",
    "                        for l in range(len(filedata)):\n",
    "                            inter_data = ' '.join(filedata[l])\n",
    "                    preproc_data = preprocess(inter_data)\n",
    "                    if(tail+\"_\"+tail1 not in list(test_files['Doc_Name'])): ## reading only the training data\n",
    "                        files_read+=1\n",
    "                        if tail not in train_files_class_wise:\n",
    "                            train_files_class_wise[tail]=1\n",
    "                        else:\n",
    "                            train_files_class_wise[tail]+=1\n",
    "                        if tail not in preproc_data_dict: ## merging the data of all documents belonging to a single class..\n",
    "                            preproc_data_dict[tail] = preproc_data\n",
    "                        else:\n",
    "                            preproc_data_dict[tail] = preproc_data_dict[tail]+\" \"+preproc_data\n",
    "                    else:\n",
    "                        test_preproc_dict[tail+\"_\"+tail1] = preproc_data\n",
    "                    \n",
    "                except e:\n",
    "                    print(\"EXCEPTION OCCURED..\")                  \n",
    "    print(\"TOTAL TRAINING FILES READ::\",files_read)\n",
    "    data=\" \"\n",
    "    print(\"\\n====> GENERATING/LOADING IDFs...\\n\")\n",
    "    #for d in preproc_data_dict:\n",
    "    #    data = data+\" \"+preproc_data_dict[d] ## computing inverse document frequencies...\n",
    "    #unique_words = list(set(data.split()))\n",
    "    #for w in tqdm(unique_words,leave=True,position=0):\n",
    "    #    df_dict[w]=0\n",
    "    #    for key in preproc_data_dict:\n",
    "    #        if w in preproc_data_dict[key].split():\n",
    "    #            df_dict[w]+=1\n",
    "    #    df_dict[w] = math.log10(len(preproc_data_dict.keys())/df_dict[w]) ##preproc_data_dict.keys() ==> total number of classes\n",
    "    if(ratio==0.50):\n",
    "        pickle_in = open(\"df_nb_tfidf_5050\",\"rb\")\n",
    "        df_dict = pickle.load(pickle_in)\n",
    "        print(\"IDF VALUES CORRESPONDING TO 50:50 SPLIT LOADED...!!!\")\n",
    "    if(ratio==0.70):\n",
    "        pickle_in = open(\"df_nb_tfidf_7030\",\"rb\")\n",
    "        df_dict = pickle.load(pickle_in)\n",
    "        print(\"IDF VALUES CORRESPONDING TO 70:30 SPLIT LOADED...!!!\")\n",
    "    if(ratio==0.80):\n",
    "        pickle_in = open(\"df_nb_tfidf_8020\",\"rb\")\n",
    "        df_dict = pickle.load(pickle_in)\n",
    "        print(\"IDF VALUES CORRESPONDING TO 80:20 SPLIT LOADED...!!!\")\n",
    "        \n",
    "    print(\"LENGTH OF VOCABULARY::\",len(df_dict))\n",
    "    print(\"\\n====> GENERATING TFs...\\n\")\n",
    "    for d in tqdm(preproc_data_dict,leave=True,position=0): ## computing term-frequencies....\n",
    "        tf_dict={}\n",
    "        for w in preproc_data_dict[d].split():\n",
    "            if w not in tf_dict:\n",
    "                tf_dict[w]=1\n",
    "            else:\n",
    "                tf_dict[w]+=1\n",
    "        tfs_class_wise[d] = tf_dict\n",
    "    tfidfs_class_wise = copy.deepcopy(tfs_class_wise)\n",
    "    print(\"\\n====> GENERATING TF-IDFS...\\n\")\n",
    "    for i in tqdm(tfidfs_class_wise,leave=True,position=0):\n",
    "        for j in tfidfs_class_wise[i]:\n",
    "            tfidfs_class_wise[i][j] = (1+math.log10(tfidfs_class_wise[i][j]))*df_dict[j]\n",
    "    return tfidfs_class_wise,tfs_class_wise,train_files_class_wise,test_preproc_dict,preproc_data_dict,len(df_dict),df_dict"
   ]
  },
  {
   "cell_type": "markdown",
   "metadata": {},
   "source": [
    "### PICKLE THE DOCUMENT FREQUENCIES"
   ]
  },
  {
   "cell_type": "code",
   "execution_count": 45,
   "metadata": {},
   "outputs": [
    {
     "name": "stdout",
     "output_type": "stream",
     "text": [
      "PICKLED IDFs corresponding to 50-50 split\n"
     ]
    }
   ],
   "source": [
    "#pickle_out = open(\"df_nb_tfidf_5050\",\"wb\")\n",
    "#pickle.dump(df_dict, pickle_out)\n",
    "print(\"PICKLED IDFs corresponding to 50-50 split\")"
   ]
  },
  {
   "cell_type": "code",
   "execution_count": 46,
   "metadata": {},
   "outputs": [
    {
     "name": "stdout",
     "output_type": "stream",
     "text": [
      "PICKLED IDFs corresponding to 70-30 split\n"
     ]
    }
   ],
   "source": [
    "#pickle_out = open(\"df_nb_tfidf_7030\",\"wb\")\n",
    "#pickle.dump(df_dict, pickle_out)\n",
    "print(\"PICKLED IDFs corresponding to 70-30 split\")"
   ]
  },
  {
   "cell_type": "code",
   "execution_count": 47,
   "metadata": {},
   "outputs": [
    {
     "name": "stdout",
     "output_type": "stream",
     "text": [
      "PICKLED IDFs corresponding to 80-20 split\n"
     ]
    }
   ],
   "source": [
    "#pickle_out = open(\"df_nb_tfidf_8020\",\"wb\")\n",
    "#pickle.dump(df_dict, pickle_out)\n",
    "print(\"PICKLED IDFs corresponding to 80-20 split\")"
   ]
  },
  {
   "cell_type": "markdown",
   "metadata": {},
   "source": [
    "## CODE EXECUTION STARTS HERE"
   ]
  },
  {
   "cell_type": "code",
   "execution_count": 48,
   "metadata": {
    "scrolled": false
   },
   "outputs": [
    {
     "name": "stdout",
     "output_type": "stream",
     "text": [
      "\n",
      "====> READING NAMES OF THE FILES...\n",
      "\n"
     ]
    },
    {
     "name": "stderr",
     "output_type": "stream",
     "text": [
      "100%|██████████████████████████████████████████████████████████████████████████████████| 20/20 [00:05<00:00,  3.82it/s]\n"
     ]
    },
    {
     "name": "stdout",
     "output_type": "stream",
     "text": [
      "ENTER THE PERCENTAGE OF TRAINING DATA TO BE CONSIDERED TO TRAIN THE MODEL(ENTER 0.50 IF 50%)::0.50\n",
      "COUNT OF TRAINING FILES CONSIDERED:: 2500\n",
      "COUNT OF TEST FILES CONSIDERED:: 2500\n",
      "\n",
      "====> READING DOCUMENTS...\n",
      "\n"
     ]
    },
    {
     "name": "stderr",
     "output_type": "stream",
     "text": [
      "100%|██████████████████████████████████████████████████████████████████████████████████| 20/20 [00:23<00:00,  1.16s/it]\n"
     ]
    },
    {
     "name": "stdout",
     "output_type": "stream",
     "text": [
      "TOTAL TRAINING FILES READ:: 2500\n",
      "\n",
      "====> GENERATING/LOADING IDFs...\n",
      "\n",
      "IDF VALUES CORRESPONDING TO 50:50 SPLIT LOADED...!!!\n",
      "LENGTH OF VOCABULARY:: 34414\n",
      "\n",
      "====> GENERATING TFs...\n",
      "\n"
     ]
    },
    {
     "name": "stderr",
     "output_type": "stream",
     "text": [
      "100%|████████████████████████████████████████████████████████████████████████████████████| 5/5 [00:00<00:00, 43.79it/s]\n"
     ]
    },
    {
     "name": "stdout",
     "output_type": "stream",
     "text": [
      "\n",
      "====> GENERATING TF-IDFS...\n",
      "\n"
     ]
    },
    {
     "name": "stderr",
     "output_type": "stream",
     "text": [
      "100%|███████████████████████████████████████████████████████████████████████████████████| 5/5 [00:00<00:00, 126.46it/s]\n"
     ]
    },
    {
     "name": "stdout",
     "output_type": "stream",
     "text": [
      "ENTER THE PERCENTAGE OF FEATURES TO BE SELECTED FROM EACH CLASS(ENTER 0.20 if 20%)::0.10\n",
      "\n",
      " GENERATING PREDICTIONS...\n",
      "\n"
     ]
    },
    {
     "name": "stderr",
     "output_type": "stream",
     "text": [
      "100%|██████████████████████████████████████████████████████████████████████████████| 2500/2500 [04:24<00:00,  8.34it/s]\n"
     ]
    },
    {
     "name": "stdout",
     "output_type": "stream",
     "text": [
      "ACCURACY ON TEST DATA::  72.24000000000001 %\n",
      "CONFUSION MATRIX ON TEST DATA:: \n"
     ]
    },
    {
     "data": {
      "text/html": [
       "<div>\n",
       "<style scoped>\n",
       "    .dataframe tbody tr th:only-of-type {\n",
       "        vertical-align: middle;\n",
       "    }\n",
       "\n",
       "    .dataframe tbody tr th {\n",
       "        vertical-align: top;\n",
       "    }\n",
       "\n",
       "    .dataframe thead th {\n",
       "        text-align: right;\n",
       "    }\n",
       "</style>\n",
       "<table border=\"1\" class=\"dataframe\">\n",
       "  <thead>\n",
       "    <tr style=\"text-align: right;\">\n",
       "      <th></th>\n",
       "      <th>comp.graphics</th>\n",
       "      <th>rec.sport.hockey</th>\n",
       "      <th>sci.med</th>\n",
       "      <th>sci.space</th>\n",
       "      <th>talk.politics.misc</th>\n",
       "    </tr>\n",
       "    <tr>\n",
       "      <th>True labels</th>\n",
       "      <th></th>\n",
       "      <th></th>\n",
       "      <th></th>\n",
       "      <th></th>\n",
       "      <th></th>\n",
       "    </tr>\n",
       "  </thead>\n",
       "  <tbody>\n",
       "    <tr>\n",
       "      <th>comp.graphics</th>\n",
       "      <td>423</td>\n",
       "      <td>84</td>\n",
       "      <td>2</td>\n",
       "      <td>2</td>\n",
       "      <td>0</td>\n",
       "    </tr>\n",
       "    <tr>\n",
       "      <th>rec.sport.hockey</th>\n",
       "      <td>0</td>\n",
       "      <td>499</td>\n",
       "      <td>0</td>\n",
       "      <td>1</td>\n",
       "      <td>0</td>\n",
       "    </tr>\n",
       "    <tr>\n",
       "      <th>sci.med</th>\n",
       "      <td>11</td>\n",
       "      <td>114</td>\n",
       "      <td>367</td>\n",
       "      <td>3</td>\n",
       "      <td>0</td>\n",
       "    </tr>\n",
       "    <tr>\n",
       "      <th>sci.space</th>\n",
       "      <td>19</td>\n",
       "      <td>107</td>\n",
       "      <td>2</td>\n",
       "      <td>359</td>\n",
       "      <td>0</td>\n",
       "    </tr>\n",
       "    <tr>\n",
       "      <th>talk.politics.misc</th>\n",
       "      <td>9</td>\n",
       "      <td>339</td>\n",
       "      <td>0</td>\n",
       "      <td>1</td>\n",
       "      <td>158</td>\n",
       "    </tr>\n",
       "  </tbody>\n",
       "</table>\n",
       "</div>"
      ],
      "text/plain": [
       "                    comp.graphics  rec.sport.hockey  sci.med  sci.space  \\\n",
       "True labels                                                               \n",
       "comp.graphics                 423                84        2          2   \n",
       "rec.sport.hockey                0               499        0          1   \n",
       "sci.med                        11               114      367          3   \n",
       "sci.space                      19               107        2        359   \n",
       "talk.politics.misc              9               339        0          1   \n",
       "\n",
       "                    talk.politics.misc  \n",
       "True labels                             \n",
       "comp.graphics                        0  \n",
       "rec.sport.hockey                     0  \n",
       "sci.med                              0  \n",
       "sci.space                            0  \n",
       "talk.politics.misc                 158  "
      ]
     },
     "metadata": {},
     "output_type": "display_data"
    },
    {
     "name": "stdout",
     "output_type": "stream",
     "text": [
      "DO YOU WANT TO RE-RUN WITH OTHER PARAMETERS(Y/N)::y\n",
      "\n",
      "====> READING NAMES OF THE FILES...\n",
      "\n"
     ]
    },
    {
     "name": "stderr",
     "output_type": "stream",
     "text": [
      "100%|██████████████████████████████████████████████████████████████████████████████████| 20/20 [00:07<00:00,  2.86it/s]\n"
     ]
    },
    {
     "name": "stdout",
     "output_type": "stream",
     "text": [
      "ENTER THE PERCENTAGE OF TRAINING DATA TO BE CONSIDERED TO TRAIN THE MODEL(ENTER 0.50 IF 50%)::0.50\n",
      "COUNT OF TRAINING FILES CONSIDERED:: 2500\n",
      "COUNT OF TEST FILES CONSIDERED:: 2500\n",
      "\n",
      "====> READING DOCUMENTS...\n",
      "\n"
     ]
    },
    {
     "name": "stderr",
     "output_type": "stream",
     "text": [
      "100%|██████████████████████████████████████████████████████████████████████████████████| 20/20 [00:30<00:00,  1.54s/it]\n"
     ]
    },
    {
     "name": "stdout",
     "output_type": "stream",
     "text": [
      "TOTAL TRAINING FILES READ:: 2500\n",
      "\n",
      "====> GENERATING/LOADING IDFs...\n",
      "\n",
      "IDF VALUES CORRESPONDING TO 50:50 SPLIT LOADED...!!!\n",
      "LENGTH OF VOCABULARY:: 34414\n",
      "\n",
      "====> GENERATING TFs...\n",
      "\n"
     ]
    },
    {
     "name": "stderr",
     "output_type": "stream",
     "text": [
      "100%|████████████████████████████████████████████████████████████████████████████████████| 5/5 [00:00<00:00, 38.55it/s]\n"
     ]
    },
    {
     "name": "stdout",
     "output_type": "stream",
     "text": [
      "\n",
      "====> GENERATING TF-IDFS...\n",
      "\n"
     ]
    },
    {
     "name": "stderr",
     "output_type": "stream",
     "text": [
      "100%|████████████████████████████████████████████████████████████████████████████████████| 5/5 [00:00<00:00, 98.30it/s]\n"
     ]
    },
    {
     "name": "stdout",
     "output_type": "stream",
     "text": [
      "ENTER THE PERCENTAGE OF FEATURES TO BE SELECTED FROM EACH CLASS(ENTER 0.20 if 20%)::0.20\n",
      "\n",
      " GENERATING PREDICTIONS...\n",
      "\n"
     ]
    },
    {
     "name": "stderr",
     "output_type": "stream",
     "text": [
      "100%|██████████████████████████████████████████████████████████████████████████████| 2500/2500 [05:12<00:00, 11.40it/s]\n"
     ]
    },
    {
     "name": "stdout",
     "output_type": "stream",
     "text": [
      "ACCURACY ON TEST DATA::  79.60000000000001 %\n",
      "CONFUSION MATRIX ON TEST DATA:: \n"
     ]
    },
    {
     "data": {
      "text/html": [
       "<div>\n",
       "<style scoped>\n",
       "    .dataframe tbody tr th:only-of-type {\n",
       "        vertical-align: middle;\n",
       "    }\n",
       "\n",
       "    .dataframe tbody tr th {\n",
       "        vertical-align: top;\n",
       "    }\n",
       "\n",
       "    .dataframe thead th {\n",
       "        text-align: right;\n",
       "    }\n",
       "</style>\n",
       "<table border=\"1\" class=\"dataframe\">\n",
       "  <thead>\n",
       "    <tr style=\"text-align: right;\">\n",
       "      <th></th>\n",
       "      <th>comp.graphics</th>\n",
       "      <th>rec.sport.hockey</th>\n",
       "      <th>sci.med</th>\n",
       "      <th>sci.space</th>\n",
       "      <th>talk.politics.misc</th>\n",
       "    </tr>\n",
       "    <tr>\n",
       "      <th>True labels</th>\n",
       "      <th></th>\n",
       "      <th></th>\n",
       "      <th></th>\n",
       "      <th></th>\n",
       "      <th></th>\n",
       "    </tr>\n",
       "  </thead>\n",
       "  <tbody>\n",
       "    <tr>\n",
       "      <th>comp.graphics</th>\n",
       "      <td>437</td>\n",
       "      <td>68</td>\n",
       "      <td>2</td>\n",
       "      <td>4</td>\n",
       "      <td>0</td>\n",
       "    </tr>\n",
       "    <tr>\n",
       "      <th>rec.sport.hockey</th>\n",
       "      <td>0</td>\n",
       "      <td>499</td>\n",
       "      <td>0</td>\n",
       "      <td>1</td>\n",
       "      <td>0</td>\n",
       "    </tr>\n",
       "    <tr>\n",
       "      <th>sci.med</th>\n",
       "      <td>6</td>\n",
       "      <td>42</td>\n",
       "      <td>444</td>\n",
       "      <td>3</td>\n",
       "      <td>0</td>\n",
       "    </tr>\n",
       "    <tr>\n",
       "      <th>sci.space</th>\n",
       "      <td>16</td>\n",
       "      <td>61</td>\n",
       "      <td>2</td>\n",
       "      <td>408</td>\n",
       "      <td>0</td>\n",
       "    </tr>\n",
       "    <tr>\n",
       "      <th>talk.politics.misc</th>\n",
       "      <td>9</td>\n",
       "      <td>278</td>\n",
       "      <td>13</td>\n",
       "      <td>5</td>\n",
       "      <td>202</td>\n",
       "    </tr>\n",
       "  </tbody>\n",
       "</table>\n",
       "</div>"
      ],
      "text/plain": [
       "                    comp.graphics  rec.sport.hockey  sci.med  sci.space  \\\n",
       "True labels                                                               \n",
       "comp.graphics                 437                68        2          4   \n",
       "rec.sport.hockey                0               499        0          1   \n",
       "sci.med                         6                42      444          3   \n",
       "sci.space                      16                61        2        408   \n",
       "talk.politics.misc              9               278       13          5   \n",
       "\n",
       "                    talk.politics.misc  \n",
       "True labels                             \n",
       "comp.graphics                        0  \n",
       "rec.sport.hockey                     0  \n",
       "sci.med                              0  \n",
       "sci.space                            0  \n",
       "talk.politics.misc                 202  "
      ]
     },
     "metadata": {},
     "output_type": "display_data"
    },
    {
     "name": "stdout",
     "output_type": "stream",
     "text": [
      "DO YOU WANT TO RE-RUN WITH OTHER PARAMETERS(Y/N)::y\n",
      "\n",
      "====> READING NAMES OF THE FILES...\n",
      "\n"
     ]
    },
    {
     "name": "stderr",
     "output_type": "stream",
     "text": [
      "100%|██████████████████████████████████████████████████████████████████████████████████| 20/20 [00:10<00:00,  1.90it/s]\n"
     ]
    },
    {
     "name": "stdout",
     "output_type": "stream",
     "text": [
      "ENTER THE PERCENTAGE OF TRAINING DATA TO BE CONSIDERED TO TRAIN THE MODEL(ENTER 0.50 IF 50%)::0.50\n",
      "COUNT OF TRAINING FILES CONSIDERED:: 2500\n",
      "COUNT OF TEST FILES CONSIDERED:: 2500\n",
      "\n",
      "====> READING DOCUMENTS...\n",
      "\n"
     ]
    },
    {
     "name": "stderr",
     "output_type": "stream",
     "text": [
      "100%|██████████████████████████████████████████████████████████████████████████████████| 20/20 [00:38<00:00,  1.94s/it]\n"
     ]
    },
    {
     "name": "stdout",
     "output_type": "stream",
     "text": [
      "TOTAL TRAINING FILES READ:: 2500\n",
      "\n",
      "====> GENERATING/LOADING IDFs...\n",
      "\n",
      "IDF VALUES CORRESPONDING TO 50:50 SPLIT LOADED...!!!\n",
      "LENGTH OF VOCABULARY:: 34414\n",
      "\n",
      "====> GENERATING TFs...\n",
      "\n"
     ]
    },
    {
     "name": "stderr",
     "output_type": "stream",
     "text": [
      "100%|████████████████████████████████████████████████████████████████████████████████████| 5/5 [00:00<00:00, 18.43it/s]\n"
     ]
    },
    {
     "name": "stdout",
     "output_type": "stream",
     "text": [
      "\n",
      "====> GENERATING TF-IDFS...\n",
      "\n"
     ]
    },
    {
     "name": "stderr",
     "output_type": "stream",
     "text": [
      "100%|████████████████████████████████████████████████████████████████████████████████████| 5/5 [00:00<00:00, 63.24it/s]\n"
     ]
    },
    {
     "name": "stdout",
     "output_type": "stream",
     "text": [
      "ENTER THE PERCENTAGE OF FEATURES TO BE SELECTED FROM EACH CLASS(ENTER 0.20 if 20%)::0.40\n",
      "\n",
      " GENERATING PREDICTIONS...\n",
      "\n"
     ]
    },
    {
     "name": "stderr",
     "output_type": "stream",
     "text": [
      "100%|██████████████████████████████████████████████████████████████████████████████| 2500/2500 [05:52<00:00,  7.09it/s]\n"
     ]
    },
    {
     "name": "stdout",
     "output_type": "stream",
     "text": [
      "ACCURACY ON TEST DATA::  80.92 %\n",
      "CONFUSION MATRIX ON TEST DATA:: \n"
     ]
    },
    {
     "data": {
      "text/html": [
       "<div>\n",
       "<style scoped>\n",
       "    .dataframe tbody tr th:only-of-type {\n",
       "        vertical-align: middle;\n",
       "    }\n",
       "\n",
       "    .dataframe tbody tr th {\n",
       "        vertical-align: top;\n",
       "    }\n",
       "\n",
       "    .dataframe thead th {\n",
       "        text-align: right;\n",
       "    }\n",
       "</style>\n",
       "<table border=\"1\" class=\"dataframe\">\n",
       "  <thead>\n",
       "    <tr style=\"text-align: right;\">\n",
       "      <th></th>\n",
       "      <th>comp.graphics</th>\n",
       "      <th>rec.sport.hockey</th>\n",
       "      <th>sci.med</th>\n",
       "      <th>sci.space</th>\n",
       "      <th>talk.politics.misc</th>\n",
       "    </tr>\n",
       "    <tr>\n",
       "      <th>True labels</th>\n",
       "      <th></th>\n",
       "      <th></th>\n",
       "      <th></th>\n",
       "      <th></th>\n",
       "      <th></th>\n",
       "    </tr>\n",
       "  </thead>\n",
       "  <tbody>\n",
       "    <tr>\n",
       "      <th>comp.graphics</th>\n",
       "      <td>464</td>\n",
       "      <td>43</td>\n",
       "      <td>0</td>\n",
       "      <td>4</td>\n",
       "      <td>0</td>\n",
       "    </tr>\n",
       "    <tr>\n",
       "      <th>rec.sport.hockey</th>\n",
       "      <td>0</td>\n",
       "      <td>499</td>\n",
       "      <td>0</td>\n",
       "      <td>1</td>\n",
       "      <td>0</td>\n",
       "    </tr>\n",
       "    <tr>\n",
       "      <th>sci.med</th>\n",
       "      <td>14</td>\n",
       "      <td>40</td>\n",
       "      <td>439</td>\n",
       "      <td>2</td>\n",
       "      <td>0</td>\n",
       "    </tr>\n",
       "    <tr>\n",
       "      <th>sci.space</th>\n",
       "      <td>29</td>\n",
       "      <td>48</td>\n",
       "      <td>2</td>\n",
       "      <td>408</td>\n",
       "      <td>0</td>\n",
       "    </tr>\n",
       "    <tr>\n",
       "      <th>talk.politics.misc</th>\n",
       "      <td>16</td>\n",
       "      <td>258</td>\n",
       "      <td>14</td>\n",
       "      <td>6</td>\n",
       "      <td>213</td>\n",
       "    </tr>\n",
       "  </tbody>\n",
       "</table>\n",
       "</div>"
      ],
      "text/plain": [
       "                    comp.graphics  rec.sport.hockey  sci.med  sci.space  \\\n",
       "True labels                                                               \n",
       "comp.graphics                 464                43        0          4   \n",
       "rec.sport.hockey                0               499        0          1   \n",
       "sci.med                        14                40      439          2   \n",
       "sci.space                      29                48        2        408   \n",
       "talk.politics.misc             16               258       14          6   \n",
       "\n",
       "                    talk.politics.misc  \n",
       "True labels                             \n",
       "comp.graphics                        0  \n",
       "rec.sport.hockey                     0  \n",
       "sci.med                              0  \n",
       "sci.space                            0  \n",
       "talk.politics.misc                 213  "
      ]
     },
     "metadata": {},
     "output_type": "display_data"
    },
    {
     "name": "stdout",
     "output_type": "stream",
     "text": [
      "DO YOU WANT TO RE-RUN WITH OTHER PARAMETERS(Y/N)::y\n",
      "\n",
      "====> READING NAMES OF THE FILES...\n",
      "\n"
     ]
    },
    {
     "name": "stderr",
     "output_type": "stream",
     "text": [
      "100%|██████████████████████████████████████████████████████████████████████████████████| 20/20 [00:08<00:00,  2.37it/s]\n"
     ]
    },
    {
     "name": "stdout",
     "output_type": "stream",
     "text": [
      "ENTER THE PERCENTAGE OF TRAINING DATA TO BE CONSIDERED TO TRAIN THE MODEL(ENTER 0.50 IF 50%)::0.50\n",
      "COUNT OF TRAINING FILES CONSIDERED:: 2500\n",
      "COUNT OF TEST FILES CONSIDERED:: 2500\n",
      "\n",
      "====> READING DOCUMENTS...\n",
      "\n"
     ]
    },
    {
     "name": "stderr",
     "output_type": "stream",
     "text": [
      "100%|██████████████████████████████████████████████████████████████████████████████████| 20/20 [00:36<00:00,  1.82s/it]\n"
     ]
    },
    {
     "name": "stdout",
     "output_type": "stream",
     "text": [
      "TOTAL TRAINING FILES READ:: 2500\n",
      "\n",
      "====> GENERATING/LOADING IDFs...\n",
      "\n",
      "IDF VALUES CORRESPONDING TO 50:50 SPLIT LOADED...!!!\n",
      "LENGTH OF VOCABULARY:: 34414\n",
      "\n",
      "====> GENERATING TFs...\n",
      "\n"
     ]
    },
    {
     "name": "stderr",
     "output_type": "stream",
     "text": [
      "100%|████████████████████████████████████████████████████████████████████████████████████| 5/5 [00:00<00:00, 19.08it/s]\n"
     ]
    },
    {
     "name": "stdout",
     "output_type": "stream",
     "text": [
      "\n",
      "====> GENERATING TF-IDFS...\n",
      "\n"
     ]
    },
    {
     "name": "stderr",
     "output_type": "stream",
     "text": [
      "100%|████████████████████████████████████████████████████████████████████████████████████| 5/5 [00:00<00:00, 72.62it/s]\n"
     ]
    },
    {
     "name": "stdout",
     "output_type": "stream",
     "text": [
      "ENTER THE PERCENTAGE OF FEATURES TO BE SELECTED FROM EACH CLASS(ENTER 0.20 if 20%)::0.60\n",
      "\n",
      " GENERATING PREDICTIONS...\n",
      "\n"
     ]
    },
    {
     "name": "stderr",
     "output_type": "stream",
     "text": [
      "100%|██████████████████████████████████████████████████████████████████████████████| 2500/2500 [05:32<00:00,  7.56it/s]\n"
     ]
    },
    {
     "name": "stdout",
     "output_type": "stream",
     "text": [
      "ACCURACY ON TEST DATA::  87.24 %\n",
      "CONFUSION MATRIX ON TEST DATA:: \n"
     ]
    },
    {
     "data": {
      "text/html": [
       "<div>\n",
       "<style scoped>\n",
       "    .dataframe tbody tr th:only-of-type {\n",
       "        vertical-align: middle;\n",
       "    }\n",
       "\n",
       "    .dataframe tbody tr th {\n",
       "        vertical-align: top;\n",
       "    }\n",
       "\n",
       "    .dataframe thead th {\n",
       "        text-align: right;\n",
       "    }\n",
       "</style>\n",
       "<table border=\"1\" class=\"dataframe\">\n",
       "  <thead>\n",
       "    <tr style=\"text-align: right;\">\n",
       "      <th></th>\n",
       "      <th>comp.graphics</th>\n",
       "      <th>rec.sport.hockey</th>\n",
       "      <th>sci.med</th>\n",
       "      <th>sci.space</th>\n",
       "      <th>talk.politics.misc</th>\n",
       "    </tr>\n",
       "    <tr>\n",
       "      <th>True labels</th>\n",
       "      <th></th>\n",
       "      <th></th>\n",
       "      <th></th>\n",
       "      <th></th>\n",
       "      <th></th>\n",
       "    </tr>\n",
       "  </thead>\n",
       "  <tbody>\n",
       "    <tr>\n",
       "      <th>comp.graphics</th>\n",
       "      <td>481</td>\n",
       "      <td>22</td>\n",
       "      <td>5</td>\n",
       "      <td>3</td>\n",
       "      <td>0</td>\n",
       "    </tr>\n",
       "    <tr>\n",
       "      <th>rec.sport.hockey</th>\n",
       "      <td>0</td>\n",
       "      <td>498</td>\n",
       "      <td>1</td>\n",
       "      <td>1</td>\n",
       "      <td>0</td>\n",
       "    </tr>\n",
       "    <tr>\n",
       "      <th>sci.med</th>\n",
       "      <td>8</td>\n",
       "      <td>23</td>\n",
       "      <td>456</td>\n",
       "      <td>7</td>\n",
       "      <td>1</td>\n",
       "    </tr>\n",
       "    <tr>\n",
       "      <th>sci.space</th>\n",
       "      <td>25</td>\n",
       "      <td>25</td>\n",
       "      <td>2</td>\n",
       "      <td>434</td>\n",
       "      <td>1</td>\n",
       "    </tr>\n",
       "    <tr>\n",
       "      <th>talk.politics.misc</th>\n",
       "      <td>15</td>\n",
       "      <td>150</td>\n",
       "      <td>22</td>\n",
       "      <td>8</td>\n",
       "      <td>312</td>\n",
       "    </tr>\n",
       "  </tbody>\n",
       "</table>\n",
       "</div>"
      ],
      "text/plain": [
       "                    comp.graphics  rec.sport.hockey  sci.med  sci.space  \\\n",
       "True labels                                                               \n",
       "comp.graphics                 481                22        5          3   \n",
       "rec.sport.hockey                0               498        1          1   \n",
       "sci.med                         8                23      456          7   \n",
       "sci.space                      25                25        2        434   \n",
       "talk.politics.misc             15               150       22          8   \n",
       "\n",
       "                    talk.politics.misc  \n",
       "True labels                             \n",
       "comp.graphics                        0  \n",
       "rec.sport.hockey                     0  \n",
       "sci.med                              1  \n",
       "sci.space                            1  \n",
       "talk.politics.misc                 312  "
      ]
     },
     "metadata": {},
     "output_type": "display_data"
    },
    {
     "name": "stdout",
     "output_type": "stream",
     "text": [
      "DO YOU WANT TO RE-RUN WITH OTHER PARAMETERS(Y/N)::y\n",
      "\n",
      "====> READING NAMES OF THE FILES...\n",
      "\n"
     ]
    },
    {
     "name": "stderr",
     "output_type": "stream",
     "text": [
      "100%|██████████████████████████████████████████████████████████████████████████████████| 20/20 [00:09<00:00,  2.22it/s]\n"
     ]
    },
    {
     "name": "stdout",
     "output_type": "stream",
     "text": [
      "ENTER THE PERCENTAGE OF TRAINING DATA TO BE CONSIDERED TO TRAIN THE MODEL(ENTER 0.50 IF 50%)::0.70\n",
      "COUNT OF TRAINING FILES CONSIDERED:: 3500\n",
      "COUNT OF TEST FILES CONSIDERED:: 1500\n",
      "\n",
      "====> READING DOCUMENTS...\n",
      "\n"
     ]
    },
    {
     "name": "stderr",
     "output_type": "stream",
     "text": [
      "100%|██████████████████████████████████████████████████████████████████████████████████| 20/20 [00:48<00:00,  2.43s/it]\n"
     ]
    },
    {
     "name": "stdout",
     "output_type": "stream",
     "text": [
      "TOTAL TRAINING FILES READ:: 3500\n",
      "\n",
      "====> GENERATING/LOADING IDFs...\n",
      "\n",
      "IDF VALUES CORRESPONDING TO 70:30 SPLIT LOADED...!!!\n",
      "LENGTH OF VOCABULARY:: 40658\n",
      "\n",
      "====> GENERATING TFs...\n",
      "\n"
     ]
    },
    {
     "name": "stderr",
     "output_type": "stream",
     "text": [
      "100%|████████████████████████████████████████████████████████████████████████████████████| 5/5 [00:00<00:00, 25.20it/s]\n"
     ]
    },
    {
     "name": "stdout",
     "output_type": "stream",
     "text": [
      "\n",
      "====> GENERATING TF-IDFS...\n",
      "\n"
     ]
    },
    {
     "name": "stderr",
     "output_type": "stream",
     "text": [
      "100%|███████████████████████████████████████████████████████████████████████████████████| 5/5 [00:00<00:00, 111.32it/s]\n"
     ]
    },
    {
     "name": "stdout",
     "output_type": "stream",
     "text": [
      "ENTER THE PERCENTAGE OF FEATURES TO BE SELECTED FROM EACH CLASS(ENTER 0.20 if 20%)::0.10\n",
      "\n",
      " GENERATING PREDICTIONS...\n",
      "\n"
     ]
    },
    {
     "name": "stderr",
     "output_type": "stream",
     "text": [
      "100%|██████████████████████████████████████████████████████████████████████████████| 1500/1500 [04:10<00:00,  5.99it/s]\n"
     ]
    },
    {
     "name": "stdout",
     "output_type": "stream",
     "text": [
      "ACCURACY ON TEST DATA::  75.93333333333334 %\n",
      "CONFUSION MATRIX ON TEST DATA:: \n"
     ]
    },
    {
     "data": {
      "text/html": [
       "<div>\n",
       "<style scoped>\n",
       "    .dataframe tbody tr th:only-of-type {\n",
       "        vertical-align: middle;\n",
       "    }\n",
       "\n",
       "    .dataframe tbody tr th {\n",
       "        vertical-align: top;\n",
       "    }\n",
       "\n",
       "    .dataframe thead th {\n",
       "        text-align: right;\n",
       "    }\n",
       "</style>\n",
       "<table border=\"1\" class=\"dataframe\">\n",
       "  <thead>\n",
       "    <tr style=\"text-align: right;\">\n",
       "      <th></th>\n",
       "      <th>comp.graphics</th>\n",
       "      <th>rec.sport.hockey</th>\n",
       "      <th>sci.med</th>\n",
       "      <th>sci.space</th>\n",
       "      <th>talk.politics.misc</th>\n",
       "    </tr>\n",
       "    <tr>\n",
       "      <th>True labels</th>\n",
       "      <th></th>\n",
       "      <th></th>\n",
       "      <th></th>\n",
       "      <th></th>\n",
       "      <th></th>\n",
       "    </tr>\n",
       "  </thead>\n",
       "  <tbody>\n",
       "    <tr>\n",
       "      <th>comp.graphics</th>\n",
       "      <td>223</td>\n",
       "      <td>60</td>\n",
       "      <td>0</td>\n",
       "      <td>1</td>\n",
       "      <td>0</td>\n",
       "    </tr>\n",
       "    <tr>\n",
       "      <th>rec.sport.hockey</th>\n",
       "      <td>1</td>\n",
       "      <td>298</td>\n",
       "      <td>0</td>\n",
       "      <td>0</td>\n",
       "      <td>0</td>\n",
       "    </tr>\n",
       "    <tr>\n",
       "      <th>sci.med</th>\n",
       "      <td>7</td>\n",
       "      <td>40</td>\n",
       "      <td>249</td>\n",
       "      <td>0</td>\n",
       "      <td>0</td>\n",
       "    </tr>\n",
       "    <tr>\n",
       "      <th>sci.space</th>\n",
       "      <td>5</td>\n",
       "      <td>53</td>\n",
       "      <td>1</td>\n",
       "      <td>238</td>\n",
       "      <td>0</td>\n",
       "    </tr>\n",
       "    <tr>\n",
       "      <th>talk.politics.misc</th>\n",
       "      <td>0</td>\n",
       "      <td>191</td>\n",
       "      <td>0</td>\n",
       "      <td>2</td>\n",
       "      <td>131</td>\n",
       "    </tr>\n",
       "  </tbody>\n",
       "</table>\n",
       "</div>"
      ],
      "text/plain": [
       "                    comp.graphics  rec.sport.hockey  sci.med  sci.space  \\\n",
       "True labels                                                               \n",
       "comp.graphics                 223                60        0          1   \n",
       "rec.sport.hockey                1               298        0          0   \n",
       "sci.med                         7                40      249          0   \n",
       "sci.space                       5                53        1        238   \n",
       "talk.politics.misc              0               191        0          2   \n",
       "\n",
       "                    talk.politics.misc  \n",
       "True labels                             \n",
       "comp.graphics                        0  \n",
       "rec.sport.hockey                     0  \n",
       "sci.med                              0  \n",
       "sci.space                            0  \n",
       "talk.politics.misc                 131  "
      ]
     },
     "metadata": {},
     "output_type": "display_data"
    },
    {
     "name": "stdout",
     "output_type": "stream",
     "text": [
      "DO YOU WANT TO RE-RUN WITH OTHER PARAMETERS(Y/N)::y\n",
      "\n",
      "====> READING NAMES OF THE FILES...\n",
      "\n"
     ]
    },
    {
     "name": "stderr",
     "output_type": "stream",
     "text": [
      "100%|██████████████████████████████████████████████████████████████████████████████████| 20/20 [00:07<00:00,  2.56it/s]\n"
     ]
    },
    {
     "name": "stdout",
     "output_type": "stream",
     "text": [
      "ENTER THE PERCENTAGE OF TRAINING DATA TO BE CONSIDERED TO TRAIN THE MODEL(ENTER 0.50 IF 50%)::0.70\n",
      "COUNT OF TRAINING FILES CONSIDERED:: 3500\n",
      "COUNT OF TEST FILES CONSIDERED:: 1500\n",
      "\n",
      "====> READING DOCUMENTS...\n",
      "\n"
     ]
    },
    {
     "name": "stderr",
     "output_type": "stream",
     "text": [
      "100%|██████████████████████████████████████████████████████████████████████████████████| 20/20 [00:43<00:00,  2.16s/it]\n"
     ]
    },
    {
     "name": "stdout",
     "output_type": "stream",
     "text": [
      "TOTAL TRAINING FILES READ:: 3500\n",
      "\n",
      "====> GENERATING/LOADING IDFs...\n",
      "\n",
      "IDF VALUES CORRESPONDING TO 70:30 SPLIT LOADED...!!!\n",
      "LENGTH OF VOCABULARY:: 40658\n",
      "\n",
      "====> GENERATING TFs...\n",
      "\n"
     ]
    },
    {
     "name": "stderr",
     "output_type": "stream",
     "text": [
      "100%|████████████████████████████████████████████████████████████████████████████████████| 5/5 [00:00<00:00, 12.09it/s]\n"
     ]
    },
    {
     "name": "stdout",
     "output_type": "stream",
     "text": [
      "\n",
      "====> GENERATING TF-IDFS...\n",
      "\n"
     ]
    },
    {
     "name": "stderr",
     "output_type": "stream",
     "text": [
      "100%|████████████████████████████████████████████████████████████████████████████████████| 5/5 [00:00<00:00, 55.71it/s]\n"
     ]
    },
    {
     "name": "stdout",
     "output_type": "stream",
     "text": [
      "ENTER THE PERCENTAGE OF FEATURES TO BE SELECTED FROM EACH CLASS(ENTER 0.20 if 20%)::0.20\n",
      "\n",
      " GENERATING PREDICTIONS...\n",
      "\n"
     ]
    },
    {
     "name": "stderr",
     "output_type": "stream",
     "text": [
      "100%|██████████████████████████████████████████████████████████████████████████████| 1500/1500 [03:58<00:00,  6.28it/s]\n"
     ]
    },
    {
     "name": "stdout",
     "output_type": "stream",
     "text": [
      "ACCURACY ON TEST DATA::  81.26666666666667 %\n",
      "CONFUSION MATRIX ON TEST DATA:: \n"
     ]
    },
    {
     "data": {
      "text/html": [
       "<div>\n",
       "<style scoped>\n",
       "    .dataframe tbody tr th:only-of-type {\n",
       "        vertical-align: middle;\n",
       "    }\n",
       "\n",
       "    .dataframe tbody tr th {\n",
       "        vertical-align: top;\n",
       "    }\n",
       "\n",
       "    .dataframe thead th {\n",
       "        text-align: right;\n",
       "    }\n",
       "</style>\n",
       "<table border=\"1\" class=\"dataframe\">\n",
       "  <thead>\n",
       "    <tr style=\"text-align: right;\">\n",
       "      <th></th>\n",
       "      <th>comp.graphics</th>\n",
       "      <th>rec.sport.hockey</th>\n",
       "      <th>sci.med</th>\n",
       "      <th>sci.space</th>\n",
       "      <th>talk.politics.misc</th>\n",
       "    </tr>\n",
       "    <tr>\n",
       "      <th>True labels</th>\n",
       "      <th></th>\n",
       "      <th></th>\n",
       "      <th></th>\n",
       "      <th></th>\n",
       "      <th></th>\n",
       "    </tr>\n",
       "  </thead>\n",
       "  <tbody>\n",
       "    <tr>\n",
       "      <th>comp.graphics</th>\n",
       "      <td>232</td>\n",
       "      <td>45</td>\n",
       "      <td>3</td>\n",
       "      <td>4</td>\n",
       "      <td>0</td>\n",
       "    </tr>\n",
       "    <tr>\n",
       "      <th>rec.sport.hockey</th>\n",
       "      <td>1</td>\n",
       "      <td>298</td>\n",
       "      <td>0</td>\n",
       "      <td>0</td>\n",
       "      <td>0</td>\n",
       "    </tr>\n",
       "    <tr>\n",
       "      <th>sci.med</th>\n",
       "      <td>7</td>\n",
       "      <td>28</td>\n",
       "      <td>261</td>\n",
       "      <td>0</td>\n",
       "      <td>0</td>\n",
       "    </tr>\n",
       "    <tr>\n",
       "      <th>sci.space</th>\n",
       "      <td>5</td>\n",
       "      <td>28</td>\n",
       "      <td>3</td>\n",
       "      <td>261</td>\n",
       "      <td>0</td>\n",
       "    </tr>\n",
       "    <tr>\n",
       "      <th>talk.politics.misc</th>\n",
       "      <td>0</td>\n",
       "      <td>146</td>\n",
       "      <td>8</td>\n",
       "      <td>3</td>\n",
       "      <td>167</td>\n",
       "    </tr>\n",
       "  </tbody>\n",
       "</table>\n",
       "</div>"
      ],
      "text/plain": [
       "                    comp.graphics  rec.sport.hockey  sci.med  sci.space  \\\n",
       "True labels                                                               \n",
       "comp.graphics                 232                45        3          4   \n",
       "rec.sport.hockey                1               298        0          0   \n",
       "sci.med                         7                28      261          0   \n",
       "sci.space                       5                28        3        261   \n",
       "talk.politics.misc              0               146        8          3   \n",
       "\n",
       "                    talk.politics.misc  \n",
       "True labels                             \n",
       "comp.graphics                        0  \n",
       "rec.sport.hockey                     0  \n",
       "sci.med                              0  \n",
       "sci.space                            0  \n",
       "talk.politics.misc                 167  "
      ]
     },
     "metadata": {},
     "output_type": "display_data"
    },
    {
     "name": "stdout",
     "output_type": "stream",
     "text": [
      "DO YOU WANT TO RE-RUN WITH OTHER PARAMETERS(Y/N)::y\n",
      "\n",
      "====> READING NAMES OF THE FILES...\n",
      "\n"
     ]
    },
    {
     "name": "stderr",
     "output_type": "stream",
     "text": [
      "100%|██████████████████████████████████████████████████████████████████████████████████| 20/20 [00:10<00:00,  1.87it/s]\n"
     ]
    },
    {
     "name": "stdout",
     "output_type": "stream",
     "text": [
      "ENTER THE PERCENTAGE OF TRAINING DATA TO BE CONSIDERED TO TRAIN THE MODEL(ENTER 0.50 IF 50%)::0.70\n",
      "COUNT OF TRAINING FILES CONSIDERED:: 3500\n",
      "COUNT OF TEST FILES CONSIDERED:: 1500\n",
      "\n",
      "====> READING DOCUMENTS...\n",
      "\n"
     ]
    },
    {
     "name": "stderr",
     "output_type": "stream",
     "text": [
      "100%|██████████████████████████████████████████████████████████████████████████████████| 20/20 [00:45<00:00,  2.26s/it]\n"
     ]
    },
    {
     "name": "stdout",
     "output_type": "stream",
     "text": [
      "TOTAL TRAINING FILES READ:: 3500\n",
      "\n",
      "====> GENERATING/LOADING IDFs...\n",
      "\n",
      "IDF VALUES CORRESPONDING TO 70:30 SPLIT LOADED...!!!\n",
      "LENGTH OF VOCABULARY:: 40658\n",
      "\n",
      "====> GENERATING TFs...\n",
      "\n"
     ]
    },
    {
     "name": "stderr",
     "output_type": "stream",
     "text": [
      "100%|████████████████████████████████████████████████████████████████████████████████████| 5/5 [00:00<00:00, 24.82it/s]\n"
     ]
    },
    {
     "name": "stdout",
     "output_type": "stream",
     "text": [
      "\n",
      "====> GENERATING TF-IDFS...\n",
      "\n"
     ]
    },
    {
     "name": "stderr",
     "output_type": "stream",
     "text": [
      "100%|████████████████████████████████████████████████████████████████████████████████████| 5/5 [00:00<00:00, 94.52it/s]\n"
     ]
    },
    {
     "name": "stdout",
     "output_type": "stream",
     "text": [
      "ENTER THE PERCENTAGE OF FEATURES TO BE SELECTED FROM EACH CLASS(ENTER 0.20 if 20%)::0.40\n",
      "\n",
      " GENERATING PREDICTIONS...\n",
      "\n"
     ]
    },
    {
     "name": "stderr",
     "output_type": "stream",
     "text": [
      "100%|██████████████████████████████████████████████████████████████████████████████| 1500/1500 [04:08<00:00,  6.03it/s]\n"
     ]
    },
    {
     "name": "stdout",
     "output_type": "stream",
     "text": [
      "ACCURACY ON TEST DATA::  82.33333333333334 %\n",
      "CONFUSION MATRIX ON TEST DATA:: \n"
     ]
    },
    {
     "data": {
      "text/html": [
       "<div>\n",
       "<style scoped>\n",
       "    .dataframe tbody tr th:only-of-type {\n",
       "        vertical-align: middle;\n",
       "    }\n",
       "\n",
       "    .dataframe tbody tr th {\n",
       "        vertical-align: top;\n",
       "    }\n",
       "\n",
       "    .dataframe thead th {\n",
       "        text-align: right;\n",
       "    }\n",
       "</style>\n",
       "<table border=\"1\" class=\"dataframe\">\n",
       "  <thead>\n",
       "    <tr style=\"text-align: right;\">\n",
       "      <th></th>\n",
       "      <th>comp.graphics</th>\n",
       "      <th>rec.sport.hockey</th>\n",
       "      <th>sci.med</th>\n",
       "      <th>sci.space</th>\n",
       "      <th>talk.politics.misc</th>\n",
       "    </tr>\n",
       "    <tr>\n",
       "      <th>True labels</th>\n",
       "      <th></th>\n",
       "      <th></th>\n",
       "      <th></th>\n",
       "      <th></th>\n",
       "      <th></th>\n",
       "    </tr>\n",
       "  </thead>\n",
       "  <tbody>\n",
       "    <tr>\n",
       "      <th>comp.graphics</th>\n",
       "      <td>252</td>\n",
       "      <td>28</td>\n",
       "      <td>0</td>\n",
       "      <td>4</td>\n",
       "      <td>0</td>\n",
       "    </tr>\n",
       "    <tr>\n",
       "      <th>rec.sport.hockey</th>\n",
       "      <td>1</td>\n",
       "      <td>298</td>\n",
       "      <td>0</td>\n",
       "      <td>0</td>\n",
       "      <td>0</td>\n",
       "    </tr>\n",
       "    <tr>\n",
       "      <th>sci.med</th>\n",
       "      <td>8</td>\n",
       "      <td>28</td>\n",
       "      <td>260</td>\n",
       "      <td>0</td>\n",
       "      <td>0</td>\n",
       "    </tr>\n",
       "    <tr>\n",
       "      <th>sci.space</th>\n",
       "      <td>8</td>\n",
       "      <td>30</td>\n",
       "      <td>3</td>\n",
       "      <td>256</td>\n",
       "      <td>0</td>\n",
       "    </tr>\n",
       "    <tr>\n",
       "      <th>talk.politics.misc</th>\n",
       "      <td>1</td>\n",
       "      <td>143</td>\n",
       "      <td>8</td>\n",
       "      <td>3</td>\n",
       "      <td>169</td>\n",
       "    </tr>\n",
       "  </tbody>\n",
       "</table>\n",
       "</div>"
      ],
      "text/plain": [
       "                    comp.graphics  rec.sport.hockey  sci.med  sci.space  \\\n",
       "True labels                                                               \n",
       "comp.graphics                 252                28        0          4   \n",
       "rec.sport.hockey                1               298        0          0   \n",
       "sci.med                         8                28      260          0   \n",
       "sci.space                       8                30        3        256   \n",
       "talk.politics.misc              1               143        8          3   \n",
       "\n",
       "                    talk.politics.misc  \n",
       "True labels                             \n",
       "comp.graphics                        0  \n",
       "rec.sport.hockey                     0  \n",
       "sci.med                              0  \n",
       "sci.space                            0  \n",
       "talk.politics.misc                 169  "
      ]
     },
     "metadata": {},
     "output_type": "display_data"
    },
    {
     "name": "stdout",
     "output_type": "stream",
     "text": [
      "DO YOU WANT TO RE-RUN WITH OTHER PARAMETERS(Y/N)::y\n",
      "\n",
      "====> READING NAMES OF THE FILES...\n",
      "\n"
     ]
    },
    {
     "name": "stderr",
     "output_type": "stream",
     "text": [
      "100%|██████████████████████████████████████████████████████████████████████████████████| 20/20 [00:09<00:00,  2.14it/s]\n"
     ]
    },
    {
     "name": "stdout",
     "output_type": "stream",
     "text": [
      "ENTER THE PERCENTAGE OF TRAINING DATA TO BE CONSIDERED TO TRAIN THE MODEL(ENTER 0.50 IF 50%)::0.70\n",
      "COUNT OF TRAINING FILES CONSIDERED:: 3500\n",
      "COUNT OF TEST FILES CONSIDERED:: 1500\n",
      "\n",
      "====> READING DOCUMENTS...\n",
      "\n"
     ]
    },
    {
     "name": "stderr",
     "output_type": "stream",
     "text": [
      "100%|██████████████████████████████████████████████████████████████████████████████████| 20/20 [00:51<00:00,  2.57s/it]\n"
     ]
    },
    {
     "name": "stdout",
     "output_type": "stream",
     "text": [
      "TOTAL TRAINING FILES READ:: 3500\n",
      "\n",
      "====> GENERATING/LOADING IDFs...\n",
      "\n",
      "IDF VALUES CORRESPONDING TO 70:30 SPLIT LOADED...!!!\n",
      "LENGTH OF VOCABULARY:: 40658\n",
      "\n",
      "====> GENERATING TFs...\n",
      "\n"
     ]
    },
    {
     "name": "stderr",
     "output_type": "stream",
     "text": [
      "100%|████████████████████████████████████████████████████████████████████████████████████| 5/5 [00:00<00:00, 13.14it/s]\n"
     ]
    },
    {
     "name": "stdout",
     "output_type": "stream",
     "text": [
      "\n",
      "====> GENERATING TF-IDFS...\n",
      "\n"
     ]
    },
    {
     "name": "stderr",
     "output_type": "stream",
     "text": [
      "100%|████████████████████████████████████████████████████████████████████████████████████| 5/5 [00:00<00:00, 56.64it/s]\n"
     ]
    },
    {
     "name": "stdout",
     "output_type": "stream",
     "text": [
      "ENTER THE PERCENTAGE OF FEATURES TO BE SELECTED FROM EACH CLASS(ENTER 0.20 if 20%)::0.60\n",
      "\n",
      " GENERATING PREDICTIONS...\n",
      "\n"
     ]
    },
    {
     "name": "stderr",
     "output_type": "stream",
     "text": [
      "100%|██████████████████████████████████████████████████████████████████████████████| 1500/1500 [05:14<00:00,  4.76it/s]\n"
     ]
    },
    {
     "name": "stdout",
     "output_type": "stream",
     "text": [
      "ACCURACY ON TEST DATA::  89.86666666666666 %\n",
      "CONFUSION MATRIX ON TEST DATA:: \n"
     ]
    },
    {
     "data": {
      "text/html": [
       "<div>\n",
       "<style scoped>\n",
       "    .dataframe tbody tr th:only-of-type {\n",
       "        vertical-align: middle;\n",
       "    }\n",
       "\n",
       "    .dataframe tbody tr th {\n",
       "        vertical-align: top;\n",
       "    }\n",
       "\n",
       "    .dataframe thead th {\n",
       "        text-align: right;\n",
       "    }\n",
       "</style>\n",
       "<table border=\"1\" class=\"dataframe\">\n",
       "  <thead>\n",
       "    <tr style=\"text-align: right;\">\n",
       "      <th></th>\n",
       "      <th>comp.graphics</th>\n",
       "      <th>rec.sport.hockey</th>\n",
       "      <th>sci.med</th>\n",
       "      <th>sci.space</th>\n",
       "      <th>talk.politics.misc</th>\n",
       "    </tr>\n",
       "    <tr>\n",
       "      <th>True labels</th>\n",
       "      <th></th>\n",
       "      <th></th>\n",
       "      <th></th>\n",
       "      <th></th>\n",
       "      <th></th>\n",
       "    </tr>\n",
       "  </thead>\n",
       "  <tbody>\n",
       "    <tr>\n",
       "      <th>comp.graphics</th>\n",
       "      <td>266</td>\n",
       "      <td>17</td>\n",
       "      <td>0</td>\n",
       "      <td>1</td>\n",
       "      <td>0</td>\n",
       "    </tr>\n",
       "    <tr>\n",
       "      <th>rec.sport.hockey</th>\n",
       "      <td>1</td>\n",
       "      <td>298</td>\n",
       "      <td>0</td>\n",
       "      <td>0</td>\n",
       "      <td>0</td>\n",
       "    </tr>\n",
       "    <tr>\n",
       "      <th>sci.med</th>\n",
       "      <td>7</td>\n",
       "      <td>12</td>\n",
       "      <td>274</td>\n",
       "      <td>3</td>\n",
       "      <td>0</td>\n",
       "    </tr>\n",
       "    <tr>\n",
       "      <th>sci.space</th>\n",
       "      <td>8</td>\n",
       "      <td>13</td>\n",
       "      <td>3</td>\n",
       "      <td>273</td>\n",
       "      <td>0</td>\n",
       "    </tr>\n",
       "    <tr>\n",
       "      <th>talk.politics.misc</th>\n",
       "      <td>4</td>\n",
       "      <td>63</td>\n",
       "      <td>12</td>\n",
       "      <td>8</td>\n",
       "      <td>237</td>\n",
       "    </tr>\n",
       "  </tbody>\n",
       "</table>\n",
       "</div>"
      ],
      "text/plain": [
       "                    comp.graphics  rec.sport.hockey  sci.med  sci.space  \\\n",
       "True labels                                                               \n",
       "comp.graphics                 266                17        0          1   \n",
       "rec.sport.hockey                1               298        0          0   \n",
       "sci.med                         7                12      274          3   \n",
       "sci.space                       8                13        3        273   \n",
       "talk.politics.misc              4                63       12          8   \n",
       "\n",
       "                    talk.politics.misc  \n",
       "True labels                             \n",
       "comp.graphics                        0  \n",
       "rec.sport.hockey                     0  \n",
       "sci.med                              0  \n",
       "sci.space                            0  \n",
       "talk.politics.misc                 237  "
      ]
     },
     "metadata": {},
     "output_type": "display_data"
    },
    {
     "name": "stdout",
     "output_type": "stream",
     "text": [
      "DO YOU WANT TO RE-RUN WITH OTHER PARAMETERS(Y/N)::y\n",
      "\n",
      "====> READING NAMES OF THE FILES...\n",
      "\n"
     ]
    },
    {
     "name": "stderr",
     "output_type": "stream",
     "text": [
      "100%|██████████████████████████████████████████████████████████████████████████████████| 20/20 [00:12<00:00,  1.55it/s]\n"
     ]
    },
    {
     "name": "stdout",
     "output_type": "stream",
     "text": [
      "ENTER THE PERCENTAGE OF TRAINING DATA TO BE CONSIDERED TO TRAIN THE MODEL(ENTER 0.50 IF 50%)::0.80\n",
      "COUNT OF TRAINING FILES CONSIDERED:: 4000\n",
      "COUNT OF TEST FILES CONSIDERED:: 1000\n",
      "\n",
      "====> READING DOCUMENTS...\n",
      "\n"
     ]
    },
    {
     "name": "stderr",
     "output_type": "stream",
     "text": [
      "100%|██████████████████████████████████████████████████████████████████████████████████| 20/20 [00:54<00:00,  2.70s/it]\n"
     ]
    },
    {
     "name": "stdout",
     "output_type": "stream",
     "text": [
      "TOTAL TRAINING FILES READ:: 4000\n",
      "\n",
      "====> GENERATING/LOADING IDFs...\n",
      "\n",
      "IDF VALUES CORRESPONDING TO 80:20 SPLIT LOADED...!!!\n",
      "LENGTH OF VOCABULARY:: 43283\n",
      "\n",
      "====> GENERATING TFs...\n",
      "\n"
     ]
    },
    {
     "name": "stderr",
     "output_type": "stream",
     "text": [
      "100%|████████████████████████████████████████████████████████████████████████████████████| 5/5 [00:00<00:00, 11.10it/s]\n"
     ]
    },
    {
     "name": "stdout",
     "output_type": "stream",
     "text": [
      "\n",
      "====> GENERATING TF-IDFS...\n",
      "\n"
     ]
    },
    {
     "name": "stderr",
     "output_type": "stream",
     "text": [
      "100%|████████████████████████████████████████████████████████████████████████████████████| 5/5 [00:00<00:00, 52.06it/s]\n"
     ]
    },
    {
     "name": "stdout",
     "output_type": "stream",
     "text": [
      "ENTER THE PERCENTAGE OF FEATURES TO BE SELECTED FROM EACH CLASS(ENTER 0.20 if 20%)::0.10\n",
      "\n",
      " GENERATING PREDICTIONS...\n",
      "\n"
     ]
    },
    {
     "name": "stderr",
     "output_type": "stream",
     "text": [
      "100%|██████████████████████████████████████████████████████████████████████████████| 1000/1000 [03:36<00:00,  4.63it/s]\n"
     ]
    },
    {
     "name": "stdout",
     "output_type": "stream",
     "text": [
      "ACCURACY ON TEST DATA::  76.5 %\n",
      "CONFUSION MATRIX ON TEST DATA:: \n"
     ]
    },
    {
     "data": {
      "text/html": [
       "<div>\n",
       "<style scoped>\n",
       "    .dataframe tbody tr th:only-of-type {\n",
       "        vertical-align: middle;\n",
       "    }\n",
       "\n",
       "    .dataframe tbody tr th {\n",
       "        vertical-align: top;\n",
       "    }\n",
       "\n",
       "    .dataframe thead th {\n",
       "        text-align: right;\n",
       "    }\n",
       "</style>\n",
       "<table border=\"1\" class=\"dataframe\">\n",
       "  <thead>\n",
       "    <tr style=\"text-align: right;\">\n",
       "      <th></th>\n",
       "      <th>comp.graphics</th>\n",
       "      <th>rec.sport.hockey</th>\n",
       "      <th>sci.med</th>\n",
       "      <th>sci.space</th>\n",
       "      <th>talk.politics.misc</th>\n",
       "    </tr>\n",
       "    <tr>\n",
       "      <th>True labels</th>\n",
       "      <th></th>\n",
       "      <th></th>\n",
       "      <th></th>\n",
       "      <th></th>\n",
       "      <th></th>\n",
       "    </tr>\n",
       "  </thead>\n",
       "  <tbody>\n",
       "    <tr>\n",
       "      <th>comp.graphics</th>\n",
       "      <td>204</td>\n",
       "      <td>0</td>\n",
       "      <td>0</td>\n",
       "      <td>1</td>\n",
       "      <td>0</td>\n",
       "    </tr>\n",
       "    <tr>\n",
       "      <th>rec.sport.hockey</th>\n",
       "      <td>2</td>\n",
       "      <td>192</td>\n",
       "      <td>0</td>\n",
       "      <td>0</td>\n",
       "      <td>0</td>\n",
       "    </tr>\n",
       "    <tr>\n",
       "      <th>sci.med</th>\n",
       "      <td>37</td>\n",
       "      <td>5</td>\n",
       "      <td>157</td>\n",
       "      <td>0</td>\n",
       "      <td>0</td>\n",
       "    </tr>\n",
       "    <tr>\n",
       "      <th>sci.space</th>\n",
       "      <td>39</td>\n",
       "      <td>3</td>\n",
       "      <td>1</td>\n",
       "      <td>153</td>\n",
       "      <td>0</td>\n",
       "    </tr>\n",
       "    <tr>\n",
       "      <th>talk.politics.misc</th>\n",
       "      <td>142</td>\n",
       "      <td>5</td>\n",
       "      <td>0</td>\n",
       "      <td>0</td>\n",
       "      <td>59</td>\n",
       "    </tr>\n",
       "  </tbody>\n",
       "</table>\n",
       "</div>"
      ],
      "text/plain": [
       "                    comp.graphics  rec.sport.hockey  sci.med  sci.space  \\\n",
       "True labels                                                               \n",
       "comp.graphics                 204                 0        0          1   \n",
       "rec.sport.hockey                2               192        0          0   \n",
       "sci.med                        37                 5      157          0   \n",
       "sci.space                      39                 3        1        153   \n",
       "talk.politics.misc            142                 5        0          0   \n",
       "\n",
       "                    talk.politics.misc  \n",
       "True labels                             \n",
       "comp.graphics                        0  \n",
       "rec.sport.hockey                     0  \n",
       "sci.med                              0  \n",
       "sci.space                            0  \n",
       "talk.politics.misc                  59  "
      ]
     },
     "metadata": {},
     "output_type": "display_data"
    },
    {
     "name": "stdout",
     "output_type": "stream",
     "text": [
      "DO YOU WANT TO RE-RUN WITH OTHER PARAMETERS(Y/N)::y\n",
      "\n",
      "====> READING NAMES OF THE FILES...\n",
      "\n"
     ]
    },
    {
     "name": "stderr",
     "output_type": "stream",
     "text": [
      "100%|██████████████████████████████████████████████████████████████████████████████████| 20/20 [00:15<00:00,  1.30it/s]\n"
     ]
    },
    {
     "name": "stdout",
     "output_type": "stream",
     "text": [
      "ENTER THE PERCENTAGE OF TRAINING DATA TO BE CONSIDERED TO TRAIN THE MODEL(ENTER 0.50 IF 50%)::0.80\n",
      "COUNT OF TRAINING FILES CONSIDERED:: 4000\n",
      "COUNT OF TEST FILES CONSIDERED:: 1000\n",
      "\n",
      "====> READING DOCUMENTS...\n",
      "\n"
     ]
    },
    {
     "name": "stderr",
     "output_type": "stream",
     "text": [
      "100%|██████████████████████████████████████████████████████████████████████████████████| 20/20 [00:52<00:00,  2.64s/it]\n"
     ]
    },
    {
     "name": "stdout",
     "output_type": "stream",
     "text": [
      "TOTAL TRAINING FILES READ:: 4000\n",
      "\n",
      "====> GENERATING/LOADING IDFs...\n",
      "\n",
      "IDF VALUES CORRESPONDING TO 80:20 SPLIT LOADED...!!!\n",
      "LENGTH OF VOCABULARY:: 43283\n",
      "\n",
      "====> GENERATING TFs...\n",
      "\n"
     ]
    },
    {
     "name": "stderr",
     "output_type": "stream",
     "text": [
      "100%|████████████████████████████████████████████████████████████████████████████████████| 5/5 [00:00<00:00, 11.06it/s]\n"
     ]
    },
    {
     "name": "stdout",
     "output_type": "stream",
     "text": [
      "\n",
      "====> GENERATING TF-IDFS...\n",
      "\n"
     ]
    },
    {
     "name": "stderr",
     "output_type": "stream",
     "text": [
      "100%|████████████████████████████████████████████████████████████████████████████████████| 5/5 [00:00<00:00, 52.07it/s]\n"
     ]
    },
    {
     "name": "stdout",
     "output_type": "stream",
     "text": [
      "ENTER THE PERCENTAGE OF FEATURES TO BE SELECTED FROM EACH CLASS(ENTER 0.20 if 20%)::0.20\n",
      "\n",
      " GENERATING PREDICTIONS...\n",
      "\n"
     ]
    },
    {
     "name": "stderr",
     "output_type": "stream",
     "text": [
      "100%|██████████████████████████████████████████████████████████████████████████████| 1000/1000 [03:33<00:00,  4.68it/s]\n"
     ]
    },
    {
     "name": "stdout",
     "output_type": "stream",
     "text": [
      "ACCURACY ON TEST DATA::  81.6 %\n",
      "CONFUSION MATRIX ON TEST DATA:: \n"
     ]
    },
    {
     "data": {
      "text/html": [
       "<div>\n",
       "<style scoped>\n",
       "    .dataframe tbody tr th:only-of-type {\n",
       "        vertical-align: middle;\n",
       "    }\n",
       "\n",
       "    .dataframe tbody tr th {\n",
       "        vertical-align: top;\n",
       "    }\n",
       "\n",
       "    .dataframe thead th {\n",
       "        text-align: right;\n",
       "    }\n",
       "</style>\n",
       "<table border=\"1\" class=\"dataframe\">\n",
       "  <thead>\n",
       "    <tr style=\"text-align: right;\">\n",
       "      <th></th>\n",
       "      <th>comp.graphics</th>\n",
       "      <th>rec.sport.hockey</th>\n",
       "      <th>sci.med</th>\n",
       "      <th>sci.space</th>\n",
       "      <th>talk.politics.misc</th>\n",
       "    </tr>\n",
       "    <tr>\n",
       "      <th>True labels</th>\n",
       "      <th></th>\n",
       "      <th></th>\n",
       "      <th></th>\n",
       "      <th></th>\n",
       "      <th></th>\n",
       "    </tr>\n",
       "  </thead>\n",
       "  <tbody>\n",
       "    <tr>\n",
       "      <th>comp.graphics</th>\n",
       "      <td>201</td>\n",
       "      <td>0</td>\n",
       "      <td>1</td>\n",
       "      <td>3</td>\n",
       "      <td>0</td>\n",
       "    </tr>\n",
       "    <tr>\n",
       "      <th>rec.sport.hockey</th>\n",
       "      <td>2</td>\n",
       "      <td>192</td>\n",
       "      <td>0</td>\n",
       "      <td>0</td>\n",
       "      <td>0</td>\n",
       "    </tr>\n",
       "    <tr>\n",
       "      <th>sci.med</th>\n",
       "      <td>25</td>\n",
       "      <td>5</td>\n",
       "      <td>169</td>\n",
       "      <td>0</td>\n",
       "      <td>0</td>\n",
       "    </tr>\n",
       "    <tr>\n",
       "      <th>sci.space</th>\n",
       "      <td>25</td>\n",
       "      <td>3</td>\n",
       "      <td>1</td>\n",
       "      <td>167</td>\n",
       "      <td>0</td>\n",
       "    </tr>\n",
       "    <tr>\n",
       "      <th>talk.politics.misc</th>\n",
       "      <td>108</td>\n",
       "      <td>5</td>\n",
       "      <td>5</td>\n",
       "      <td>1</td>\n",
       "      <td>87</td>\n",
       "    </tr>\n",
       "  </tbody>\n",
       "</table>\n",
       "</div>"
      ],
      "text/plain": [
       "                    comp.graphics  rec.sport.hockey  sci.med  sci.space  \\\n",
       "True labels                                                               \n",
       "comp.graphics                 201                 0        1          3   \n",
       "rec.sport.hockey                2               192        0          0   \n",
       "sci.med                        25                 5      169          0   \n",
       "sci.space                      25                 3        1        167   \n",
       "talk.politics.misc            108                 5        5          1   \n",
       "\n",
       "                    talk.politics.misc  \n",
       "True labels                             \n",
       "comp.graphics                        0  \n",
       "rec.sport.hockey                     0  \n",
       "sci.med                              0  \n",
       "sci.space                            0  \n",
       "talk.politics.misc                  87  "
      ]
     },
     "metadata": {},
     "output_type": "display_data"
    },
    {
     "name": "stdout",
     "output_type": "stream",
     "text": [
      "DO YOU WANT TO RE-RUN WITH OTHER PARAMETERS(Y/N)::y\n",
      "\n",
      "====> READING NAMES OF THE FILES...\n",
      "\n"
     ]
    },
    {
     "name": "stderr",
     "output_type": "stream",
     "text": [
      "100%|██████████████████████████████████████████████████████████████████████████████████| 20/20 [00:13<00:00,  1.51it/s]\n"
     ]
    },
    {
     "name": "stdout",
     "output_type": "stream",
     "text": [
      "ENTER THE PERCENTAGE OF TRAINING DATA TO BE CONSIDERED TO TRAIN THE MODEL(ENTER 0.50 IF 50%)::0.80\n",
      "COUNT OF TRAINING FILES CONSIDERED:: 4000\n",
      "COUNT OF TEST FILES CONSIDERED:: 1000\n",
      "\n",
      "====> READING DOCUMENTS...\n",
      "\n"
     ]
    },
    {
     "name": "stderr",
     "output_type": "stream",
     "text": [
      "100%|██████████████████████████████████████████████████████████████████████████████████| 20/20 [00:56<00:00,  2.83s/it]\n"
     ]
    },
    {
     "name": "stdout",
     "output_type": "stream",
     "text": [
      "TOTAL TRAINING FILES READ:: 4000\n",
      "\n",
      "====> GENERATING/LOADING IDFs...\n",
      "\n",
      "IDF VALUES CORRESPONDING TO 80:20 SPLIT LOADED...!!!\n",
      "LENGTH OF VOCABULARY:: 43283\n",
      "\n",
      "====> GENERATING TFs...\n",
      "\n"
     ]
    },
    {
     "name": "stderr",
     "output_type": "stream",
     "text": [
      "100%|████████████████████████████████████████████████████████████████████████████████████| 5/5 [00:00<00:00, 11.06it/s]\n"
     ]
    },
    {
     "name": "stdout",
     "output_type": "stream",
     "text": [
      "\n",
      "====> GENERATING TF-IDFS...\n",
      "\n"
     ]
    },
    {
     "name": "stderr",
     "output_type": "stream",
     "text": [
      "100%|████████████████████████████████████████████████████████████████████████████████████| 5/5 [00:00<00:00, 54.38it/s]\n"
     ]
    },
    {
     "name": "stdout",
     "output_type": "stream",
     "text": [
      "ENTER THE PERCENTAGE OF FEATURES TO BE SELECTED FROM EACH CLASS(ENTER 0.20 if 20%)::0.40\n",
      "\n",
      " GENERATING PREDICTIONS...\n",
      "\n"
     ]
    },
    {
     "name": "stderr",
     "output_type": "stream",
     "text": [
      "100%|██████████████████████████████████████████████████████████████████████████████| 1000/1000 [03:29<00:00,  4.76it/s]\n"
     ]
    },
    {
     "name": "stdout",
     "output_type": "stream",
     "text": [
      "ACCURACY ON TEST DATA::  82.3 %\n",
      "CONFUSION MATRIX ON TEST DATA:: \n"
     ]
    },
    {
     "data": {
      "text/html": [
       "<div>\n",
       "<style scoped>\n",
       "    .dataframe tbody tr th:only-of-type {\n",
       "        vertical-align: middle;\n",
       "    }\n",
       "\n",
       "    .dataframe tbody tr th {\n",
       "        vertical-align: top;\n",
       "    }\n",
       "\n",
       "    .dataframe thead th {\n",
       "        text-align: right;\n",
       "    }\n",
       "</style>\n",
       "<table border=\"1\" class=\"dataframe\">\n",
       "  <thead>\n",
       "    <tr style=\"text-align: right;\">\n",
       "      <th></th>\n",
       "      <th>comp.graphics</th>\n",
       "      <th>rec.sport.hockey</th>\n",
       "      <th>sci.med</th>\n",
       "      <th>sci.space</th>\n",
       "      <th>talk.politics.misc</th>\n",
       "    </tr>\n",
       "    <tr>\n",
       "      <th>True labels</th>\n",
       "      <th></th>\n",
       "      <th></th>\n",
       "      <th></th>\n",
       "      <th></th>\n",
       "      <th></th>\n",
       "    </tr>\n",
       "  </thead>\n",
       "  <tbody>\n",
       "    <tr>\n",
       "      <th>comp.graphics</th>\n",
       "      <td>203</td>\n",
       "      <td>1</td>\n",
       "      <td>0</td>\n",
       "      <td>1</td>\n",
       "      <td>0</td>\n",
       "    </tr>\n",
       "    <tr>\n",
       "      <th>rec.sport.hockey</th>\n",
       "      <td>0</td>\n",
       "      <td>194</td>\n",
       "      <td>0</td>\n",
       "      <td>0</td>\n",
       "      <td>0</td>\n",
       "    </tr>\n",
       "    <tr>\n",
       "      <th>sci.med</th>\n",
       "      <td>22</td>\n",
       "      <td>6</td>\n",
       "      <td>171</td>\n",
       "      <td>0</td>\n",
       "      <td>0</td>\n",
       "    </tr>\n",
       "    <tr>\n",
       "      <th>sci.space</th>\n",
       "      <td>25</td>\n",
       "      <td>4</td>\n",
       "      <td>1</td>\n",
       "      <td>166</td>\n",
       "      <td>0</td>\n",
       "    </tr>\n",
       "    <tr>\n",
       "      <th>talk.politics.misc</th>\n",
       "      <td>94</td>\n",
       "      <td>17</td>\n",
       "      <td>3</td>\n",
       "      <td>3</td>\n",
       "      <td>89</td>\n",
       "    </tr>\n",
       "  </tbody>\n",
       "</table>\n",
       "</div>"
      ],
      "text/plain": [
       "                    comp.graphics  rec.sport.hockey  sci.med  sci.space  \\\n",
       "True labels                                                               \n",
       "comp.graphics                 203                 1        0          1   \n",
       "rec.sport.hockey                0               194        0          0   \n",
       "sci.med                        22                 6      171          0   \n",
       "sci.space                      25                 4        1        166   \n",
       "talk.politics.misc             94                17        3          3   \n",
       "\n",
       "                    talk.politics.misc  \n",
       "True labels                             \n",
       "comp.graphics                        0  \n",
       "rec.sport.hockey                     0  \n",
       "sci.med                              0  \n",
       "sci.space                            0  \n",
       "talk.politics.misc                  89  "
      ]
     },
     "metadata": {},
     "output_type": "display_data"
    },
    {
     "name": "stdout",
     "output_type": "stream",
     "text": [
      "DO YOU WANT TO RE-RUN WITH OTHER PARAMETERS(Y/N)::y\n",
      "\n",
      "====> READING NAMES OF THE FILES...\n",
      "\n"
     ]
    },
    {
     "name": "stderr",
     "output_type": "stream",
     "text": [
      "100%|██████████████████████████████████████████████████████████████████████████████████| 20/20 [00:11<00:00,  1.73it/s]\n"
     ]
    },
    {
     "name": "stdout",
     "output_type": "stream",
     "text": [
      "ENTER THE PERCENTAGE OF TRAINING DATA TO BE CONSIDERED TO TRAIN THE MODEL(ENTER 0.50 IF 50%)::0.80\n",
      "COUNT OF TRAINING FILES CONSIDERED:: 4000\n",
      "COUNT OF TEST FILES CONSIDERED:: 1000\n",
      "\n",
      "====> READING DOCUMENTS...\n",
      "\n"
     ]
    },
    {
     "name": "stderr",
     "output_type": "stream",
     "text": [
      "100%|██████████████████████████████████████████████████████████████████████████████████| 20/20 [00:50<00:00,  2.54s/it]\n"
     ]
    },
    {
     "name": "stdout",
     "output_type": "stream",
     "text": [
      "TOTAL TRAINING FILES READ:: 4000\n",
      "\n",
      "====> GENERATING/LOADING IDFs...\n",
      "\n",
      "IDF VALUES CORRESPONDING TO 80:20 SPLIT LOADED...!!!\n",
      "LENGTH OF VOCABULARY:: 43283\n",
      "\n",
      "====> GENERATING TFs...\n",
      "\n"
     ]
    },
    {
     "name": "stderr",
     "output_type": "stream",
     "text": [
      "100%|████████████████████████████████████████████████████████████████████████████████████| 5/5 [00:00<00:00, 11.54it/s]\n"
     ]
    },
    {
     "name": "stdout",
     "output_type": "stream",
     "text": [
      "\n",
      "====> GENERATING TF-IDFS...\n",
      "\n"
     ]
    },
    {
     "name": "stderr",
     "output_type": "stream",
     "text": [
      "100%|████████████████████████████████████████████████████████████████████████████████████| 5/5 [00:00<00:00, 59.85it/s]\n"
     ]
    },
    {
     "name": "stdout",
     "output_type": "stream",
     "text": [
      "ENTER THE PERCENTAGE OF FEATURES TO BE SELECTED FROM EACH CLASS(ENTER 0.20 if 20%)::0.60\n",
      "\n",
      " GENERATING PREDICTIONS...\n",
      "\n"
     ]
    },
    {
     "name": "stderr",
     "output_type": "stream",
     "text": [
      "100%|██████████████████████████████████████████████████████████████████████████████| 1000/1000 [03:23<00:00,  4.91it/s]\n"
     ]
    },
    {
     "name": "stdout",
     "output_type": "stream",
     "text": [
      "ACCURACY ON TEST DATA::  87.9 %\n",
      "CONFUSION MATRIX ON TEST DATA:: \n"
     ]
    },
    {
     "data": {
      "text/html": [
       "<div>\n",
       "<style scoped>\n",
       "    .dataframe tbody tr th:only-of-type {\n",
       "        vertical-align: middle;\n",
       "    }\n",
       "\n",
       "    .dataframe tbody tr th {\n",
       "        vertical-align: top;\n",
       "    }\n",
       "\n",
       "    .dataframe thead th {\n",
       "        text-align: right;\n",
       "    }\n",
       "</style>\n",
       "<table border=\"1\" class=\"dataframe\">\n",
       "  <thead>\n",
       "    <tr style=\"text-align: right;\">\n",
       "      <th></th>\n",
       "      <th>comp.graphics</th>\n",
       "      <th>rec.sport.hockey</th>\n",
       "      <th>sci.med</th>\n",
       "      <th>sci.space</th>\n",
       "      <th>talk.politics.misc</th>\n",
       "    </tr>\n",
       "    <tr>\n",
       "      <th>True labels</th>\n",
       "      <th></th>\n",
       "      <th></th>\n",
       "      <th></th>\n",
       "      <th></th>\n",
       "      <th></th>\n",
       "    </tr>\n",
       "  </thead>\n",
       "  <tbody>\n",
       "    <tr>\n",
       "      <th>comp.graphics</th>\n",
       "      <td>202</td>\n",
       "      <td>3</td>\n",
       "      <td>0</td>\n",
       "      <td>0</td>\n",
       "      <td>0</td>\n",
       "    </tr>\n",
       "    <tr>\n",
       "      <th>rec.sport.hockey</th>\n",
       "      <td>0</td>\n",
       "      <td>194</td>\n",
       "      <td>0</td>\n",
       "      <td>0</td>\n",
       "      <td>0</td>\n",
       "    </tr>\n",
       "    <tr>\n",
       "      <th>sci.med</th>\n",
       "      <td>9</td>\n",
       "      <td>6</td>\n",
       "      <td>184</td>\n",
       "      <td>0</td>\n",
       "      <td>0</td>\n",
       "    </tr>\n",
       "    <tr>\n",
       "      <th>sci.space</th>\n",
       "      <td>15</td>\n",
       "      <td>5</td>\n",
       "      <td>2</td>\n",
       "      <td>174</td>\n",
       "      <td>0</td>\n",
       "    </tr>\n",
       "    <tr>\n",
       "      <th>talk.politics.misc</th>\n",
       "      <td>38</td>\n",
       "      <td>36</td>\n",
       "      <td>4</td>\n",
       "      <td>3</td>\n",
       "      <td>125</td>\n",
       "    </tr>\n",
       "  </tbody>\n",
       "</table>\n",
       "</div>"
      ],
      "text/plain": [
       "                    comp.graphics  rec.sport.hockey  sci.med  sci.space  \\\n",
       "True labels                                                               \n",
       "comp.graphics                 202                 3        0          0   \n",
       "rec.sport.hockey                0               194        0          0   \n",
       "sci.med                         9                 6      184          0   \n",
       "sci.space                      15                 5        2        174   \n",
       "talk.politics.misc             38                36        4          3   \n",
       "\n",
       "                    talk.politics.misc  \n",
       "True labels                             \n",
       "comp.graphics                        0  \n",
       "rec.sport.hockey                     0  \n",
       "sci.med                              0  \n",
       "sci.space                            0  \n",
       "talk.politics.misc                 125  "
      ]
     },
     "metadata": {},
     "output_type": "display_data"
    },
    {
     "name": "stdout",
     "output_type": "stream",
     "text": [
      "DO YOU WANT TO RE-RUN WITH OTHER PARAMETERS(Y/N)::n\n"
     ]
    }
   ],
   "source": [
    "path = \"C:\\\\Users\\\\Sai Kumar\\\\Desktop\\\\SEM-2\\\\IR\\\\20NEWS\\\\20_newsgroups\\\\*\"\n",
    "train_size=[]\n",
    "features=[]\n",
    "perf=[]\n",
    "dec = \"y\"\n",
    "while(dec == \"y\" or dec ==\"Y\"):\n",
    "    print(\"\\n====> READING NAMES OF THE FILES...\\n\")\n",
    "    files_df = read_names(path)\n",
    "    ratio = float(input(\"ENTER THE PERCENTAGE OF TRAINING DATA TO BE CONSIDERED TO TRAIN THE MODEL(ENTER 0.50 IF 50%)::\"))\n",
    "    train_files,test_files = split(ratio,files_df)\n",
    "    print(\"COUNT OF TRAINING FILES CONSIDERED::\",len(train_files))\n",
    "    print(\"COUNT OF TEST FILES CONSIDERED::\",len(test_files))\n",
    "    print(\"\\n====> READING DOCUMENTS...\\n\")\n",
    "    tfidfs_class_wise,tfs_class_wise,train_files_class_wise,test_preproc_dict,preproc_data_dict,voc_len,df_dict = readfiles(path,ratio,test_files)\n",
    "    feat_selection = float(input(\"ENTER THE PERCENTAGE OF FEATURES TO BE SELECTED FROM EACH CLASS(ENTER 0.20 if 20%)::\"))\n",
    "    #print(\"before feat selec::\",len(tfidfs_class_wise['comp.graphics']))\n",
    "    for i in tfidfs_class_wise:\n",
    "        tfidfs_class_wise[i] = dict(sorted(tfidfs_class_wise[i].items(),key=operator.itemgetter(1),reverse=True))\n",
    "        tfidfs_class_wise[i] = dict(itertools.islice(tfidfs_class_wise[i].items(),round(len(tfidfs_class_wise[i])*feat_selection)))\n",
    "    #print(\"after feat selec::\",len(tfidfs_class_wise['comp.graphics']))\n",
    "    test_files = list(test_preproc_dict.keys()) ## contains names of test files...\n",
    "    classes = list(train_files_class_wise.keys()) ## contains names of classes...\n",
    "    predictions=[]\n",
    "    ground_truth=[]\n",
    "    print(\"\\n GENERATING PREDICTIONS...\\n\")\n",
    "    for i in tqdm(test_files,leave=True,position=0):  ## sci.med_1234 etc..\n",
    "        ground_truth.append(i.split(\"_\")[0])\n",
    "        pred_temp={}\n",
    "        for j in classes: ## comp.graphics etc..\n",
    "            prob=math.log10(train_files_class_wise[j]/sum(train_files_class_wise.values()))\n",
    "            for k in test_preproc_dict[i].split():\n",
    "                if k in tfidfs_class_wise[j]:## if the \"term\" is in top-k features then computing its log-probs..otherwise\n",
    "                    \n",
    "                    prob = prob+math.log10((tfs_class_wise[j][k]+1)/(sum(tfs_class_wise[j].values())+voc_len))\n",
    "                else:                        ##doing add-one smoothing...\n",
    "                    prob = prob+math.log10(1/(sum(tfs_class_wise[j].values())+voc_len))\n",
    "            pred_temp[j]=prob\n",
    "        pred_temp = dict(sorted(pred_temp.items(),key=operator.itemgetter(1),reverse=True))\n",
    "        ##sorting in desc-order based on probs\n",
    "        ##print(pred_temp)\n",
    "        predictions.append(list(pred_temp.keys())[0]) ## appending 1st key value as prediction\n",
    "    acc=0\n",
    "    for i in range(len(test_files)):\n",
    "        if(predictions[i]==ground_truth[i]):\n",
    "            acc+=1\n",
    "    acc = acc/len(test_files)\n",
    "    print(\"ACCURACY ON TEST DATA:: \",acc*100,\"%\")\n",
    "    train_size.append(ratio)\n",
    "    features.append(feat_selection)\n",
    "    perf.append(acc)\n",
    "    print(\"CONFUSION MATRIX ON TEST DATA:: \")\n",
    "    #ref:https://stackoverflow.com/questions/50325786/sci-kit-learn-how-to-print-labels-for-confusion-matrix\n",
    "    conf_df = pd.DataFrame(confusion_matrix(ground_truth,predictions),columns=classes,index=classes)\n",
    "    conf_df.index.name = 'True labels'\n",
    "    display(conf_df)\n",
    "    dec = input(\"DO YOU WANT TO RE-RUN WITH OTHER PARAMETERS(Y/N)::\")"
   ]
  },
  {
   "cell_type": "markdown",
   "metadata": {},
   "source": [
    "## RESULTS"
   ]
  },
  {
   "cell_type": "code",
   "execution_count": 49,
   "metadata": {},
   "outputs": [
    {
     "name": "stdout",
     "output_type": "stream",
     "text": [
      "+-------------------------------+---------------------------------------------+---------------------+\n",
      "| % OF TRAINING DATA CONSIDERED | % OF FEATURES(TF-IDF BASED) SELECTED/CLASS  |       ACCURACY      |\n",
      "+-------------------------------+---------------------------------------------+---------------------+\n",
      "|              50 %             |                     10 %                    | 72.24000000000001 % |\n",
      "|              50 %             |                     20 %                    | 79.60000000000001 % |\n",
      "|              50 %             |                     40 %                    |       80.92 %       |\n",
      "|              50 %             |                     60 %                    |       87.24 %       |\n",
      "|              70 %             |                     10 %                    | 75.93333333333334 % |\n",
      "|              70 %             |                     20 %                    | 81.26666666666667 % |\n",
      "|              70 %             |                     40 %                    | 82.33333333333334 % |\n",
      "|              70 %             |                     60 %                    | 89.86666666666666 % |\n",
      "|              80 %             |                     10 %                    |        76.5 %       |\n",
      "|              80 %             |                     20 %                    |        81.6 %       |\n",
      "|              80 %             |                     40 %                    |        82.3 %       |\n",
      "|              80 %             |                     60 %                    |        87.9 %       |\n",
      "+-------------------------------+---------------------------------------------+---------------------+\n"
     ]
    }
   ],
   "source": [
    "res = PrettyTable()\n",
    "res.field_names = [\"% OF TRAINING DATA CONSIDERED\", \"% OF FEATURES(TF-IDF BASED) SELECTED/CLASS \",\"ACCURACY\"]\n",
    "for i in range(len(train_size)):\n",
    "    res.add_row([str(round(train_size[i]*100))+\" %\",str(round(features[i]*100))+\" %\", str(perf[i]*100)+\" %\"])\n",
    "print(res)"
   ]
  },
  {
   "cell_type": "markdown",
   "metadata": {},
   "source": [
    "## PERFOMANCE PLOTS"
   ]
  },
  {
   "cell_type": "code",
   "execution_count": 50,
   "metadata": {},
   "outputs": [
    {
     "data": {
      "image/png": "[encoded data removed]",
      "text/plain": [
       "<Figure size 432x288 with 1 Axes>"
      ]
     },
     "metadata": {
      "needs_background": "light"
     },
     "output_type": "display_data"
    }
   ],
   "source": [
    "plt.plot(features[0:4],perf[0:4])\n",
    "plt.xlabel(\"% OF FEATURES SELECTED FROM EVERY CLASS\")\n",
    "plt.ylabel(\"ACCURACY\")\n",
    "plt.title(\"FEATURE COUNT V/S ACCURACY WITH TRAIN-TEST SPLIT OF 50:50\")\n",
    "plt.show()"
   ]
  },
  {
   "cell_type": "code",
   "execution_count": 51,
   "metadata": {},
   "outputs": [
    {
     "data": {
      "image/png": "[encoded data removed]",
      "text/plain": [
       "<Figure size 432x288 with 1 Axes>"
      ]
     },
     "metadata": {
      "needs_background": "light"
     },
     "output_type": "display_data"
    }
   ],
   "source": [
    "plt.plot(features[4:8],perf[4:8])\n",
    "plt.xlabel(\"% OF FEATURES SELECTED\")\n",
    "plt.ylabel(\"ACCURACY\")\n",
    "plt.title(\"FEATURE COUNT V/S ACCURACY WITH TRAIN-TEST SPLIT OF 70:30\")\n",
    "plt.show()"
   ]
  },
  {
   "cell_type": "code",
   "execution_count": 52,
   "metadata": {},
   "outputs": [
    {
     "data": {
      "image/png": "[encoded data removed]",
      "text/plain": [
       "<Figure size 432x288 with 1 Axes>"
      ]
     },
     "metadata": {
      "needs_background": "light"
     },
     "output_type": "display_data"
    }
   ],
   "source": [
    "plt.plot(features[8:12],perf[8:12])\n",
    "plt.xlabel(\"% OF FEATURES SELECTED\")\n",
    "plt.ylabel(\"ACCURACY\")\n",
    "plt.title(\"FEATURE COUNT V/S ACCURACY WITH TRAIN-TEST SPLIT OF 80:20\")\n",
    "plt.show()"
   ]
  },
  {
   "cell_type": "code",
   "execution_count": 54,
   "metadata": {},
   "outputs": [
    {
     "data": {
      "image/png": "[encoded data removed]",
      "text/plain": [
       "<Figure size 432x288 with 1 Axes>"
      ]
     },
     "metadata": {
      "needs_background": "light"
     },
     "output_type": "display_data"
    }
   ],
   "source": [
    "plt.plot([train_size[0],train_size[4],train_size[8]],[perf[0]*100,perf[4]*100,perf[8]*100])\n",
    "plt.xlabel(\"FRACTION OF TRAINING DATA\")\n",
    "plt.ylabel(\"ACCURACY\")\n",
    "plt.title(\"FRACTION OF DATA CONSIDERED FOR TRAINING VS TEST-ACCURACY\")\n",
    "plt.show()"
   ]
  },
  {
   "cell_type": "code",
   "execution_count": null,
   "metadata": {},
   "outputs": [],
   "source": []
  }
 ],
 "metadata": {
  "kernelspec": {
   "display_name": "Python 3",
   "language": "python",
   "name": "python3"
  },
  "language_info": {
   "codemirror_mode": {
    "name": "ipython",
    "version": 3
   },
   "file_extension": ".py",
   "mimetype": "text/x-python",
   "name": "python",
   "nbconvert_exporter": "python",
   "pygments_lexer": "ipython3",
   "version": "3.7.1"
  }
 },
 "nbformat": 4,
 "nbformat_minor": 2
}
