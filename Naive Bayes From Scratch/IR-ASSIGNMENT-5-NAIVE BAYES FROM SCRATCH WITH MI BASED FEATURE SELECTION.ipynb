{
 "cells": [
  {
   "cell_type": "markdown",
   "metadata": {},
   "source": [
    "### NAIVE BAYES FROM SCRATCH WITH MUTUAL INFORMATION (MI) BASED FEATURE SELECTION"
   ]
  },
  {
   "cell_type": "markdown",
   "metadata": {},
   "source": [
    "### IMPORTING REQUIRED MODULES"
   ]
  },
  {
   "cell_type": "code",
   "execution_count": 3,
   "metadata": {},
   "outputs": [],
   "source": [
    "import re\n",
    "from nltk import word_tokenize\n",
    "import glob  \n",
    "from nltk.corpus import stopwords\n",
    "import time\n",
    "from nltk.stem import WordNetLemmatizer \n",
    "lemmatizer = WordNetLemmatizer() \n",
    "import os\n",
    "import sys \n",
    "from tqdm import tqdm\n",
    "import pickle\n",
    "from collections import Counter\n",
    "import operator\n",
    "import math\n",
    "import json\n",
    "import numpy as np\n",
    "import pandas as  pd\n",
    "from prettytable import PrettyTable\n",
    "import math\n",
    "import warnings\n",
    "warnings.filterwarnings('ignore')\n",
    "import matplotlib.pyplot as plt\n",
    "import seaborn as sns\n",
    "from sklearn.model_selection import train_test_split\n",
    "from scipy.spatial import distance\n",
    "from statistics import mode\n",
    "from sklearn.metrics import confusion_matrix\n",
    "import itertools\n",
    "import copy\n",
    "from IPython.display import display"
   ]
  },
  {
   "cell_type": "markdown",
   "metadata": {},
   "source": [
    "### DATA PRE-PROCESSING FUNCTION"
   ]
  },
  {
   "cell_type": "code",
   "execution_count": 311,
   "metadata": {},
   "outputs": [],
   "source": [
    "def preprocess(data):\n",
    "    stopword=\"\"\n",
    "    cleantext = \" \"\n",
    "    stopword = set(stopwords.words('english'))\n",
    "    for i in word_tokenize(data):\n",
    "        i=i.lower()\n",
    "        if i not in stopword and len(i)>2 and not(any(l.isdigit() for l in i)):\n",
    "            pattern1 = '[!.?$\\[\\]/\\}#=<>\"\\*:,|_~;()^\\']'\n",
    "            pattern2 = '[\\n\\n]+'\n",
    "            pattern3 = '[\\ \\ ]+'\n",
    "            wout_sc = re.sub(pattern1,'',i) #removing special characters\n",
    "            wout_el = re.sub(pattern2,'\\n',wout_sc) # removing empty lines (which are greater than 2)\n",
    "            wout_mspaces = re.sub(pattern3,' ',wout_el) # removing multiple spaces\n",
    "            cleaned_text = wout_mspaces.strip()\n",
    "            cleaned_text=lemmatizer.lemmatize(cleaned_text)\n",
    "            cleantext = cleantext+cleaned_text+\" \"\n",
    "    return cleantext.strip()"
   ]
  },
  {
   "cell_type": "code",
   "execution_count": 312,
   "metadata": {},
   "outputs": [],
   "source": [
    "def read_names(path):\n",
    "    i=0\n",
    "    df = pd.DataFrame(columns=['Doc_Name'])\n",
    "    folders = glob.glob(path)\n",
    "    for f in tqdm(folders,leave=True,position=0):\n",
    "        head,tail = os.path.split(f)\n",
    "        if(tail==\"comp.graphics\"or tail==\"sci.med\"or tail==\"talk.politics.misc\"or tail==\"rec.sport.hockey\"or tail==\"sci.space\"):\n",
    "            for file in glob.glob(f+\"\\*\"):\n",
    "                head1,tail1 = os.path.split(file)\n",
    "                df.loc[i] = tail+\"_\"+tail1\n",
    "                i=i+1\n",
    "    return df"
   ]
  },
  {
   "cell_type": "markdown",
   "metadata": {},
   "source": [
    "### TRAIN-TEST SPLIT (DECISION MAKING FOR A DOC TO BE TRAIN OR TEST)"
   ]
  },
  {
   "cell_type": "code",
   "execution_count": 313,
   "metadata": {},
   "outputs": [],
   "source": [
    "def split(ratio,data_frame):\n",
    "    data_frame_temp = data_frame.copy()\n",
    "    train_files,test_files = train_test_split(data_frame_temp,train_size=ratio,random_state=0)\n",
    "    return train_files,test_files"
   ]
  },
  {
   "cell_type": "markdown",
   "metadata": {},
   "source": [
    "### READING THE DATA, BUILDING TFs and DFs & BUILDING TF-IDFs FOR TRAINING SET \n",
    "### (WE CALCULATE TF IN THE CLASS AND DF ACROSS THE CLASSES)\n",
    "### CORPUS CONSIDERED :: \"20 news groups\"\n",
    "### FOLDERS CONSIDERED:\n",
    "### 1. comp.graphics\n",
    "### 2. sci.med\n",
    "### 3.talk.politics.misc\n",
    "### 4.rec.sport.hockey\n",
    "### 5.sci.space"
   ]
  },
  {
   "cell_type": "code",
   "execution_count": 314,
   "metadata": {},
   "outputs": [],
   "source": [
    "def readfiles(path,ratio,test_files):\n",
    "    folders = glob.glob(path)\n",
    "    preproc_data_dict={} ## key : file-name, value: pre-processed data\n",
    "    vocab={}\n",
    "    files_read=0\n",
    "    preproc_data_filewise={} ## only for training data files\n",
    "    train_files_class_wise={}\n",
    "    test_preproc_dict={}\n",
    "    doc_counts_classwise={}\n",
    "    tfs_class_wise={}\n",
    "    for f in tqdm(folders,leave=True,position=0):\n",
    "        head,tail = os.path.split(f)\n",
    "        if(tail==\"comp.graphics\"or tail==\"sci.med\"or tail==\"talk.politics.misc\"or tail==\"rec.sport.hockey\"or tail==\"sci.space\"):\n",
    "            for file in glob.glob(f+\"\\*\"):\n",
    "                flag=0\n",
    "                head1,tail1 = os.path.split(file)\n",
    "                with open(file) as newlinetest:   ## identifying the first new line in the data.. to remove meta-data\n",
    "                    indi = newlinetest.readlines()\n",
    "                for newline in range(len(indi)):\n",
    "                    if(indi[newline]!=\"\\n\"):\n",
    "                        continue\n",
    "                    break\n",
    "                filedata=[]\n",
    "                try:\n",
    "                    with open(file,\"r\") as data:  ## READING THE DATA ignoring the meta-data\n",
    "                        filedata.append(data.readlines()[newline+1:])\n",
    "                        for l in range(len(filedata)):\n",
    "                            inter_data = ' '.join(filedata[l])\n",
    "                    preproc_data = preprocess(inter_data)\n",
    "                    if(tail+\"_\"+tail1 not in list(test_files['Doc_Name'])): ## reading only the training data\n",
    "                        files_read+=1\n",
    "                        if tail not in train_files_class_wise:\n",
    "                            train_files_class_wise[tail]=1\n",
    "                        else:\n",
    "                            train_files_class_wise[tail]+=1\n",
    "                        preproc_data_filewise[tail+\"_\"+tail1] = preproc_data\n",
    "                        if tail not in preproc_data_dict: ## merging the data of all documents belonging to a single class..\n",
    "                            preproc_data_dict[tail] = preproc_data\n",
    "                        else:\n",
    "                            preproc_data_dict[tail] = preproc_data_dict[tail]+\" \"+preproc_data\n",
    "                    else:\n",
    "                        test_preproc_dict[tail+\"_\"+tail1] = preproc_data\n",
    "                    \n",
    "                except :\n",
    "                    print(\"EXCEPTION OCCURED..\")\n",
    "    for cls in preproc_data_dict: ## generating vocab w.r.t training data\n",
    "        for w in preproc_data_dict[cls].split():\n",
    "            if w not in vocab:\n",
    "                vocab[w]=1\n",
    "            else:\n",
    "                vocab[w]+=1\n",
    "    #print(\"VOCAB::\",vocab)\n",
    "    print(\"\\n====> GENERATING TFs...\\n\")\n",
    "    for d in tqdm(preproc_data_dict,leave=True,position=0): ## computing term-frequencies....\n",
    "        tf_dict={}\n",
    "        for w in preproc_data_dict[d].split():\n",
    "            if w not in tf_dict:\n",
    "                tf_dict[w]=1\n",
    "            else:\n",
    "                tf_dict[w]+=1\n",
    "        tfs_class_wise[d] = tf_dict\n",
    "    print(\"TOTAL TRAINING FILES READ::\",files_read)\n",
    "    print(\"LENGTH OF THE VOCABULARY::\",len(vocab))\n",
    "    classes = list(train_files_class_wise.keys())\n",
    "    classes.sort() ## sorting to maintain a uniform order throught...\n",
    "    for i in classes:\n",
    "        doc_counts_classwise[i]=0\n",
    "    df = pd.DataFrame(columns=[\"↓ term ; class ->\"]+classes)\n",
    "    df_row_count=0\n",
    "    print(\"\\n====> GENERATING/LOADING TABLE FOR MUTUAL INFORMATION CALCULATIONS...\\n\")\n",
    "    #for word in tqdm(vocab,leave=True,position=0): ## code to generate MI table (in comments since mi tables are pickled...)\n",
    "    #    counts=[]\n",
    "    #    counts.append(word) #preproc_data_filewise\n",
    "    #    for file in preproc_data_filewise:\n",
    "    #        class_ = file.split(\"_\")[0]\n",
    "    #        if word in preproc_data_filewise[file].split():\n",
    "    #            doc_counts_classwise[class_]+=1\n",
    "    #    doc_counts_classwise = dict(sorted(doc_counts_classwise.items()))\n",
    "    #    for i in doc_counts_classwise:\n",
    "    #        counts.append(doc_counts_classwise[i])\n",
    "    #        doc_counts_classwise[i]=0\n",
    "    #    df.loc[df_row_count] = counts\n",
    "    #    df_row_count=df_row_count+1\n",
    "        \n",
    "    ###LOADING THE DATAFRAMES OF MUTUAL INFORMATION TABLE FOR A PARTICULAR SPLIT...\n",
    "    if(ratio==0.50):\n",
    "        pickle_in = open(\"mi_table_5050\",\"rb\")\n",
    "        df = pickle.load(pickle_in)\n",
    "        print(\"MI TABLE CORRESPONDING TO 50:50 SPLIT LOADED...!!!\")\n",
    "    if(ratio==0.70):\n",
    "        pickle_in = open(\"mi_table_7030\",\"rb\")\n",
    "        df = pickle.load(pickle_in)\n",
    "        print(\"MI TABLE CORRESPONDING TO 70:30 SPLIT LOADED...!!!\")\n",
    "    if(ratio==0.80):\n",
    "        pickle_in = open(\"mi_table_8020\",\"rb\")\n",
    "        df = pickle.load(pickle_in)\n",
    "        print(\"MI TABLE CORRESPONDING TO 80:20 SPLIT LOADED...!!!\")\n",
    "    return test_preproc_dict,preproc_data_dict,df,train_files_class_wise,vocab,preproc_data_filewise,tfs_class_wise"
   ]
  },
  {
   "cell_type": "markdown",
   "metadata": {},
   "source": [
    "### CREATING THE PICKLE FILES FOR MUTUAL INFORMATIONS TABLE FOR RESPECTIVE SPLITS\n",
    "### (splits will be same because of the usage of random state during the split)"
   ]
  },
  {
   "cell_type": "code",
   "execution_count": 219,
   "metadata": {},
   "outputs": [],
   "source": [
    "'''pickle_out = open(\"mi_table_5050\",\"wb\")\n",
    "pickle.dump(mi_table, pickle_out)'''"
   ]
  },
  {
   "cell_type": "code",
   "execution_count": 236,
   "metadata": {},
   "outputs": [],
   "source": [
    "'''pickle_out = open(\"mi_table_7030\",\"wb\")\n",
    "pickle.dump(mi_table, pickle_out)'''"
   ]
  },
  {
   "cell_type": "code",
   "execution_count": 249,
   "metadata": {},
   "outputs": [],
   "source": [
    "'''pickle_out = open(\"mi_table_8020\",\"wb\")\n",
    "pickle.dump(mi_table, pickle_out)'''"
   ]
  },
  {
   "cell_type": "markdown",
   "metadata": {},
   "source": [
    "## CODE EXECUTION STARTS HERE..."
   ]
  },
  {
   "cell_type": "code",
   "execution_count": 316,
   "metadata": {
    "scrolled": false
   },
   "outputs": [
    {
     "name": "stdout",
     "output_type": "stream",
     "text": [
      "\n",
      "====> READING NAMES OF THE FILES...\n",
      "\n"
     ]
    },
    {
     "name": "stderr",
     "output_type": "stream",
     "text": [
      "100%|██████████████████████████████████████████████████████████████████████████████████| 20/20 [00:11<00:00,  1.72it/s]\n"
     ]
    },
    {
     "name": "stdout",
     "output_type": "stream",
     "text": [
      "ENTER THE PERCENTAGE OF TRAINING DATA TO BE CONSIDERED TO TRAIN THE MODEL(ENTER 0.50 IF 50%)::0.50\n",
      "COUNT OF TRAINING FILES CONSIDERED:: 2500\n",
      "COUNT OF TEST FILES CONSIDERED:: 2500\n",
      "\n",
      "====> READING DOCUMENTS AND GENERATING VOCABULARY...\n",
      "\n"
     ]
    },
    {
     "name": "stderr",
     "output_type": "stream",
     "text": [
      "100%|██████████████████████████████████████████████████████████████████████████████████| 20/20 [00:48<00:00,  2.42s/it]\n"
     ]
    },
    {
     "name": "stdout",
     "output_type": "stream",
     "text": [
      "\n",
      "====> GENERATING TFs...\n",
      "\n"
     ]
    },
    {
     "name": "stderr",
     "output_type": "stream",
     "text": [
      "100%|████████████████████████████████████████████████████████████████████████████████████| 5/5 [00:00<00:00, 12.49it/s]\n"
     ]
    },
    {
     "name": "stdout",
     "output_type": "stream",
     "text": [
      "TOTAL TRAINING FILES READ:: 2500\n",
      "LENGTH OF THE VOCABULARY:: 34414\n",
      "\n",
      "====> GENERATING/LOADING TABLE FOR MUTUAL INFORMATION CALCULATIONS...\n",
      "\n",
      "MI TABLE CORRESPONDING TO 50:50 SPLIT LOADED...!!!\n",
      "\n",
      "====> COMPUTING MUTUAL INFORMATIONS...\n",
      "\n"
     ]
    },
    {
     "name": "stderr",
     "output_type": "stream",
     "text": [
      "100%|████████████████████████████████████████████████████████████████████████████████████| 5/5 [00:39<00:00,  7.73s/it]\n"
     ]
    },
    {
     "name": "stdout",
     "output_type": "stream",
     "text": [
      "ENTER THE COUNT OF FEATURES TO BE SELECTED(FEATURE SELECTION) < LENGTH OF VOCAB::5000\n",
      "\n",
      "====> GENERATING PREDICTIONS...\n",
      "\n"
     ]
    },
    {
     "name": "stderr",
     "output_type": "stream",
     "text": [
      "100%|██████████████████████████████████████████████████████████████████████████████| 2500/2500 [07:07<00:00,  7.02it/s]\n"
     ]
    },
    {
     "name": "stdout",
     "output_type": "stream",
     "text": [
      "ACCURACY ON TEST DATA::  76.92 %\n",
      "CONFUSION MATRIX ON TEST DATA:: \n"
     ]
    },
    {
     "data": {
      "text/html": [
       "<div>\n",
       "<style scoped>\n",
       "    .dataframe tbody tr th:only-of-type {\n",
       "        vertical-align: middle;\n",
       "    }\n",
       "\n",
       "    .dataframe tbody tr th {\n",
       "        vertical-align: top;\n",
       "    }\n",
       "\n",
       "    .dataframe thead th {\n",
       "        text-align: right;\n",
       "    }\n",
       "</style>\n",
       "<table border=\"1\" class=\"dataframe\">\n",
       "  <thead>\n",
       "    <tr style=\"text-align: right;\">\n",
       "      <th></th>\n",
       "      <th>comp.graphics</th>\n",
       "      <th>rec.sport.hockey</th>\n",
       "      <th>sci.med</th>\n",
       "      <th>sci.space</th>\n",
       "      <th>talk.politics.misc</th>\n",
       "    </tr>\n",
       "    <tr>\n",
       "      <th>True labels</th>\n",
       "      <th></th>\n",
       "      <th></th>\n",
       "      <th></th>\n",
       "      <th></th>\n",
       "      <th></th>\n",
       "    </tr>\n",
       "  </thead>\n",
       "  <tbody>\n",
       "    <tr>\n",
       "      <th>comp.graphics</th>\n",
       "      <td>478</td>\n",
       "      <td>8</td>\n",
       "      <td>3</td>\n",
       "      <td>5</td>\n",
       "      <td>17</td>\n",
       "    </tr>\n",
       "    <tr>\n",
       "      <th>rec.sport.hockey</th>\n",
       "      <td>7</td>\n",
       "      <td>483</td>\n",
       "      <td>0</td>\n",
       "      <td>2</td>\n",
       "      <td>8</td>\n",
       "    </tr>\n",
       "    <tr>\n",
       "      <th>sci.med</th>\n",
       "      <td>81</td>\n",
       "      <td>45</td>\n",
       "      <td>217</td>\n",
       "      <td>8</td>\n",
       "      <td>144</td>\n",
       "    </tr>\n",
       "    <tr>\n",
       "      <th>sci.space</th>\n",
       "      <td>103</td>\n",
       "      <td>25</td>\n",
       "      <td>2</td>\n",
       "      <td>252</td>\n",
       "      <td>105</td>\n",
       "    </tr>\n",
       "    <tr>\n",
       "      <th>talk.politics.misc</th>\n",
       "      <td>8</td>\n",
       "      <td>5</td>\n",
       "      <td>0</td>\n",
       "      <td>1</td>\n",
       "      <td>493</td>\n",
       "    </tr>\n",
       "  </tbody>\n",
       "</table>\n",
       "</div>"
      ],
      "text/plain": [
       "                    comp.graphics  rec.sport.hockey  sci.med  sci.space  \\\n",
       "True labels                                                               \n",
       "comp.graphics                 478                 8        3          5   \n",
       "rec.sport.hockey                7               483        0          2   \n",
       "sci.med                        81                45      217          8   \n",
       "sci.space                     103                25        2        252   \n",
       "talk.politics.misc              8                 5        0          1   \n",
       "\n",
       "                    talk.politics.misc  \n",
       "True labels                             \n",
       "comp.graphics                       17  \n",
       "rec.sport.hockey                     8  \n",
       "sci.med                            144  \n",
       "sci.space                          105  \n",
       "talk.politics.misc                 493  "
      ]
     },
     "metadata": {},
     "output_type": "display_data"
    },
    {
     "name": "stdout",
     "output_type": "stream",
     "text": [
      "DO YOU WANT TO RE-RUN WITH OTHER PARAMETERS(Y/N)::y\n",
      "\n",
      "====> READING NAMES OF THE FILES...\n",
      "\n"
     ]
    },
    {
     "name": "stderr",
     "output_type": "stream",
     "text": [
      "100%|██████████████████████████████████████████████████████████████████████████████████| 20/20 [00:11<00:00,  1.71it/s]\n"
     ]
    },
    {
     "name": "stdout",
     "output_type": "stream",
     "text": [
      "ENTER THE PERCENTAGE OF TRAINING DATA TO BE CONSIDERED TO TRAIN THE MODEL(ENTER 0.50 IF 50%)::0.50\n",
      "COUNT OF TRAINING FILES CONSIDERED:: 2500\n",
      "COUNT OF TEST FILES CONSIDERED:: 2500\n",
      "\n",
      "====> READING DOCUMENTS AND GENERATING VOCABULARY...\n",
      "\n"
     ]
    },
    {
     "name": "stderr",
     "output_type": "stream",
     "text": [
      "100%|██████████████████████████████████████████████████████████████████████████████████| 20/20 [00:50<00:00,  2.55s/it]\n"
     ]
    },
    {
     "name": "stdout",
     "output_type": "stream",
     "text": [
      "\n",
      "====> GENERATING TFs...\n",
      "\n"
     ]
    },
    {
     "name": "stderr",
     "output_type": "stream",
     "text": [
      "100%|████████████████████████████████████████████████████████████████████████████████████| 5/5 [00:00<00:00, 20.15it/s]\n"
     ]
    },
    {
     "name": "stdout",
     "output_type": "stream",
     "text": [
      "TOTAL TRAINING FILES READ:: 2500\n",
      "LENGTH OF THE VOCABULARY:: 34414\n",
      "\n",
      "====> GENERATING/LOADING TABLE FOR MUTUAL INFORMATION CALCULATIONS...\n",
      "\n",
      "MI TABLE CORRESPONDING TO 50:50 SPLIT LOADED...!!!\n",
      "\n",
      "====> COMPUTING MUTUAL INFORMATIONS...\n",
      "\n"
     ]
    },
    {
     "name": "stderr",
     "output_type": "stream",
     "text": [
      "100%|████████████████████████████████████████████████████████████████████████████████████| 5/5 [00:35<00:00,  7.10s/it]\n"
     ]
    },
    {
     "name": "stdout",
     "output_type": "stream",
     "text": [
      "ENTER THE COUNT OF FEATURES TO BE SELECTED(FEATURE SELECTION) < LENGTH OF VOCAB::15000\n",
      "\n",
      "====> GENERATING PREDICTIONS...\n",
      "\n"
     ]
    },
    {
     "name": "stderr",
     "output_type": "stream",
     "text": [
      "100%|██████████████████████████████████████████████████████████████████████████████| 2500/2500 [07:10<00:00,  6.98it/s]\n"
     ]
    },
    {
     "name": "stdout",
     "output_type": "stream",
     "text": [
      "ACCURACY ON TEST DATA::  83.16 %\n",
      "CONFUSION MATRIX ON TEST DATA:: \n"
     ]
    },
    {
     "data": {
      "text/html": [
       "<div>\n",
       "<style scoped>\n",
       "    .dataframe tbody tr th:only-of-type {\n",
       "        vertical-align: middle;\n",
       "    }\n",
       "\n",
       "    .dataframe tbody tr th {\n",
       "        vertical-align: top;\n",
       "    }\n",
       "\n",
       "    .dataframe thead th {\n",
       "        text-align: right;\n",
       "    }\n",
       "</style>\n",
       "<table border=\"1\" class=\"dataframe\">\n",
       "  <thead>\n",
       "    <tr style=\"text-align: right;\">\n",
       "      <th></th>\n",
       "      <th>comp.graphics</th>\n",
       "      <th>rec.sport.hockey</th>\n",
       "      <th>sci.med</th>\n",
       "      <th>sci.space</th>\n",
       "      <th>talk.politics.misc</th>\n",
       "    </tr>\n",
       "    <tr>\n",
       "      <th>True labels</th>\n",
       "      <th></th>\n",
       "      <th></th>\n",
       "      <th></th>\n",
       "      <th></th>\n",
       "      <th></th>\n",
       "    </tr>\n",
       "  </thead>\n",
       "  <tbody>\n",
       "    <tr>\n",
       "      <th>comp.graphics</th>\n",
       "      <td>489</td>\n",
       "      <td>7</td>\n",
       "      <td>1</td>\n",
       "      <td>5</td>\n",
       "      <td>9</td>\n",
       "    </tr>\n",
       "    <tr>\n",
       "      <th>rec.sport.hockey</th>\n",
       "      <td>4</td>\n",
       "      <td>486</td>\n",
       "      <td>0</td>\n",
       "      <td>3</td>\n",
       "      <td>7</td>\n",
       "    </tr>\n",
       "    <tr>\n",
       "      <th>sci.med</th>\n",
       "      <td>68</td>\n",
       "      <td>22</td>\n",
       "      <td>296</td>\n",
       "      <td>8</td>\n",
       "      <td>101</td>\n",
       "    </tr>\n",
       "    <tr>\n",
       "      <th>sci.space</th>\n",
       "      <td>79</td>\n",
       "      <td>19</td>\n",
       "      <td>1</td>\n",
       "      <td>317</td>\n",
       "      <td>71</td>\n",
       "    </tr>\n",
       "    <tr>\n",
       "      <th>talk.politics.misc</th>\n",
       "      <td>7</td>\n",
       "      <td>4</td>\n",
       "      <td>3</td>\n",
       "      <td>2</td>\n",
       "      <td>491</td>\n",
       "    </tr>\n",
       "  </tbody>\n",
       "</table>\n",
       "</div>"
      ],
      "text/plain": [
       "                    comp.graphics  rec.sport.hockey  sci.med  sci.space  \\\n",
       "True labels                                                               \n",
       "comp.graphics                 489                 7        1          5   \n",
       "rec.sport.hockey                4               486        0          3   \n",
       "sci.med                        68                22      296          8   \n",
       "sci.space                      79                19        1        317   \n",
       "talk.politics.misc              7                 4        3          2   \n",
       "\n",
       "                    talk.politics.misc  \n",
       "True labels                             \n",
       "comp.graphics                        9  \n",
       "rec.sport.hockey                     7  \n",
       "sci.med                            101  \n",
       "sci.space                           71  \n",
       "talk.politics.misc                 491  "
      ]
     },
     "metadata": {},
     "output_type": "display_data"
    },
    {
     "name": "stdout",
     "output_type": "stream",
     "text": [
      "DO YOU WANT TO RE-RUN WITH OTHER PARAMETERS(Y/N)::y\n",
      "\n",
      "====> READING NAMES OF THE FILES...\n",
      "\n"
     ]
    },
    {
     "name": "stderr",
     "output_type": "stream",
     "text": [
      "100%|██████████████████████████████████████████████████████████████████████████████████| 20/20 [00:11<00:00,  1.73it/s]\n"
     ]
    },
    {
     "name": "stdout",
     "output_type": "stream",
     "text": [
      "ENTER THE PERCENTAGE OF TRAINING DATA TO BE CONSIDERED TO TRAIN THE MODEL(ENTER 0.50 IF 50%)::0.50\n",
      "COUNT OF TRAINING FILES CONSIDERED:: 2500\n",
      "COUNT OF TEST FILES CONSIDERED:: 2500\n",
      "\n",
      "====> READING DOCUMENTS AND GENERATING VOCABULARY...\n",
      "\n"
     ]
    },
    {
     "name": "stderr",
     "output_type": "stream",
     "text": [
      "100%|██████████████████████████████████████████████████████████████████████████████████| 20/20 [00:50<00:00,  2.51s/it]\n"
     ]
    },
    {
     "name": "stdout",
     "output_type": "stream",
     "text": [
      "\n",
      "====> GENERATING TFs...\n",
      "\n"
     ]
    },
    {
     "name": "stderr",
     "output_type": "stream",
     "text": [
      "100%|████████████████████████████████████████████████████████████████████████████████████| 5/5 [00:00<00:00, 20.05it/s]\n"
     ]
    },
    {
     "name": "stdout",
     "output_type": "stream",
     "text": [
      "TOTAL TRAINING FILES READ:: 2500\n",
      "LENGTH OF THE VOCABULARY:: 34414\n",
      "\n",
      "====> GENERATING/LOADING TABLE FOR MUTUAL INFORMATION CALCULATIONS...\n",
      "\n",
      "MI TABLE CORRESPONDING TO 50:50 SPLIT LOADED...!!!\n",
      "\n",
      "====> COMPUTING MUTUAL INFORMATIONS...\n",
      "\n"
     ]
    },
    {
     "name": "stderr",
     "output_type": "stream",
     "text": [
      "100%|████████████████████████████████████████████████████████████████████████████████████| 5/5 [00:35<00:00,  7.19s/it]\n"
     ]
    },
    {
     "name": "stdout",
     "output_type": "stream",
     "text": [
      "ENTER THE COUNT OF FEATURES TO BE SELECTED(FEATURE SELECTION) < LENGTH OF VOCAB::25000\n",
      "\n",
      "====> GENERATING PREDICTIONS...\n",
      "\n"
     ]
    },
    {
     "name": "stderr",
     "output_type": "stream",
     "text": [
      "100%|██████████████████████████████████████████████████████████████████████████████| 2500/2500 [07:07<00:00,  6.08it/s]\n"
     ]
    },
    {
     "name": "stdout",
     "output_type": "stream",
     "text": [
      "ACCURACY ON TEST DATA::  87.24 %\n",
      "CONFUSION MATRIX ON TEST DATA:: \n"
     ]
    },
    {
     "data": {
      "text/html": [
       "<div>\n",
       "<style scoped>\n",
       "    .dataframe tbody tr th:only-of-type {\n",
       "        vertical-align: middle;\n",
       "    }\n",
       "\n",
       "    .dataframe tbody tr th {\n",
       "        vertical-align: top;\n",
       "    }\n",
       "\n",
       "    .dataframe thead th {\n",
       "        text-align: right;\n",
       "    }\n",
       "</style>\n",
       "<table border=\"1\" class=\"dataframe\">\n",
       "  <thead>\n",
       "    <tr style=\"text-align: right;\">\n",
       "      <th></th>\n",
       "      <th>comp.graphics</th>\n",
       "      <th>rec.sport.hockey</th>\n",
       "      <th>sci.med</th>\n",
       "      <th>sci.space</th>\n",
       "      <th>talk.politics.misc</th>\n",
       "    </tr>\n",
       "    <tr>\n",
       "      <th>True labels</th>\n",
       "      <th></th>\n",
       "      <th></th>\n",
       "      <th></th>\n",
       "      <th></th>\n",
       "      <th></th>\n",
       "    </tr>\n",
       "  </thead>\n",
       "  <tbody>\n",
       "    <tr>\n",
       "      <th>comp.graphics</th>\n",
       "      <td>488</td>\n",
       "      <td>5</td>\n",
       "      <td>2</td>\n",
       "      <td>8</td>\n",
       "      <td>8</td>\n",
       "    </tr>\n",
       "    <tr>\n",
       "      <th>rec.sport.hockey</th>\n",
       "      <td>4</td>\n",
       "      <td>487</td>\n",
       "      <td>0</td>\n",
       "      <td>2</td>\n",
       "      <td>7</td>\n",
       "    </tr>\n",
       "    <tr>\n",
       "      <th>sci.med</th>\n",
       "      <td>47</td>\n",
       "      <td>18</td>\n",
       "      <td>348</td>\n",
       "      <td>10</td>\n",
       "      <td>72</td>\n",
       "    </tr>\n",
       "    <tr>\n",
       "      <th>sci.space</th>\n",
       "      <td>53</td>\n",
       "      <td>11</td>\n",
       "      <td>3</td>\n",
       "      <td>368</td>\n",
       "      <td>52</td>\n",
       "    </tr>\n",
       "    <tr>\n",
       "      <th>talk.politics.misc</th>\n",
       "      <td>6</td>\n",
       "      <td>6</td>\n",
       "      <td>2</td>\n",
       "      <td>3</td>\n",
       "      <td>490</td>\n",
       "    </tr>\n",
       "  </tbody>\n",
       "</table>\n",
       "</div>"
      ],
      "text/plain": [
       "                    comp.graphics  rec.sport.hockey  sci.med  sci.space  \\\n",
       "True labels                                                               \n",
       "comp.graphics                 488                 5        2          8   \n",
       "rec.sport.hockey                4               487        0          2   \n",
       "sci.med                        47                18      348         10   \n",
       "sci.space                      53                11        3        368   \n",
       "talk.politics.misc              6                 6        2          3   \n",
       "\n",
       "                    talk.politics.misc  \n",
       "True labels                             \n",
       "comp.graphics                        8  \n",
       "rec.sport.hockey                     7  \n",
       "sci.med                             72  \n",
       "sci.space                           52  \n",
       "talk.politics.misc                 490  "
      ]
     },
     "metadata": {},
     "output_type": "display_data"
    },
    {
     "name": "stdout",
     "output_type": "stream",
     "text": [
      "DO YOU WANT TO RE-RUN WITH OTHER PARAMETERS(Y/N)::y\n",
      "\n",
      "====> READING NAMES OF THE FILES...\n",
      "\n"
     ]
    },
    {
     "name": "stderr",
     "output_type": "stream",
     "text": [
      "100%|██████████████████████████████████████████████████████████████████████████████████| 20/20 [00:11<00:00,  1.72it/s]\n"
     ]
    },
    {
     "name": "stdout",
     "output_type": "stream",
     "text": [
      "ENTER THE PERCENTAGE OF TRAINING DATA TO BE CONSIDERED TO TRAIN THE MODEL(ENTER 0.50 IF 50%)::0.70\n",
      "COUNT OF TRAINING FILES CONSIDERED:: 3500\n",
      "COUNT OF TEST FILES CONSIDERED:: 1500\n",
      "\n",
      "====> READING DOCUMENTS AND GENERATING VOCABULARY...\n",
      "\n"
     ]
    },
    {
     "name": "stderr",
     "output_type": "stream",
     "text": [
      "100%|██████████████████████████████████████████████████████████████████████████████████| 20/20 [00:49<00:00,  2.48s/it]\n"
     ]
    },
    {
     "name": "stdout",
     "output_type": "stream",
     "text": [
      "\n",
      "====> GENERATING TFs...\n",
      "\n"
     ]
    },
    {
     "name": "stderr",
     "output_type": "stream",
     "text": [
      "100%|████████████████████████████████████████████████████████████████████████████████████| 5/5 [00:00<00:00, 13.56it/s]\n"
     ]
    },
    {
     "name": "stdout",
     "output_type": "stream",
     "text": [
      "TOTAL TRAINING FILES READ:: 3500\n",
      "LENGTH OF THE VOCABULARY:: 40658\n",
      "\n",
      "====> GENERATING/LOADING TABLE FOR MUTUAL INFORMATION CALCULATIONS...\n",
      "\n",
      "MI TABLE CORRESPONDING TO 70:30 SPLIT LOADED...!!!\n",
      "\n",
      "====> COMPUTING MUTUAL INFORMATIONS...\n",
      "\n"
     ]
    },
    {
     "name": "stderr",
     "output_type": "stream",
     "text": [
      "100%|████████████████████████████████████████████████████████████████████████████████████| 5/5 [00:41<00:00,  8.38s/it]\n"
     ]
    },
    {
     "name": "stdout",
     "output_type": "stream",
     "text": [
      "ENTER THE COUNT OF FEATURES TO BE SELECTED(FEATURE SELECTION) < LENGTH OF VOCAB::5000\n",
      "\n",
      "====> GENERATING PREDICTIONS...\n",
      "\n"
     ]
    },
    {
     "name": "stderr",
     "output_type": "stream",
     "text": [
      "100%|██████████████████████████████████████████████████████████████████████████████| 1500/1500 [04:54<00:00,  5.09it/s]\n"
     ]
    },
    {
     "name": "stdout",
     "output_type": "stream",
     "text": [
      "ACCURACY ON TEST DATA::  78.60000000000001 %\n",
      "CONFUSION MATRIX ON TEST DATA:: \n"
     ]
    },
    {
     "data": {
      "text/html": [
       "<div>\n",
       "<style scoped>\n",
       "    .dataframe tbody tr th:only-of-type {\n",
       "        vertical-align: middle;\n",
       "    }\n",
       "\n",
       "    .dataframe tbody tr th {\n",
       "        vertical-align: top;\n",
       "    }\n",
       "\n",
       "    .dataframe thead th {\n",
       "        text-align: right;\n",
       "    }\n",
       "</style>\n",
       "<table border=\"1\" class=\"dataframe\">\n",
       "  <thead>\n",
       "    <tr style=\"text-align: right;\">\n",
       "      <th></th>\n",
       "      <th>comp.graphics</th>\n",
       "      <th>rec.sport.hockey</th>\n",
       "      <th>sci.med</th>\n",
       "      <th>sci.space</th>\n",
       "      <th>talk.politics.misc</th>\n",
       "    </tr>\n",
       "    <tr>\n",
       "      <th>True labels</th>\n",
       "      <th></th>\n",
       "      <th></th>\n",
       "      <th></th>\n",
       "      <th></th>\n",
       "      <th></th>\n",
       "    </tr>\n",
       "  </thead>\n",
       "  <tbody>\n",
       "    <tr>\n",
       "      <th>comp.graphics</th>\n",
       "      <td>253</td>\n",
       "      <td>2</td>\n",
       "      <td>4</td>\n",
       "      <td>10</td>\n",
       "      <td>15</td>\n",
       "    </tr>\n",
       "    <tr>\n",
       "      <th>rec.sport.hockey</th>\n",
       "      <td>11</td>\n",
       "      <td>265</td>\n",
       "      <td>0</td>\n",
       "      <td>1</td>\n",
       "      <td>22</td>\n",
       "    </tr>\n",
       "    <tr>\n",
       "      <th>sci.med</th>\n",
       "      <td>52</td>\n",
       "      <td>3</td>\n",
       "      <td>165</td>\n",
       "      <td>3</td>\n",
       "      <td>73</td>\n",
       "    </tr>\n",
       "    <tr>\n",
       "      <th>sci.space</th>\n",
       "      <td>44</td>\n",
       "      <td>2</td>\n",
       "      <td>0</td>\n",
       "      <td>180</td>\n",
       "      <td>71</td>\n",
       "    </tr>\n",
       "    <tr>\n",
       "      <th>talk.politics.misc</th>\n",
       "      <td>3</td>\n",
       "      <td>2</td>\n",
       "      <td>0</td>\n",
       "      <td>3</td>\n",
       "      <td>316</td>\n",
       "    </tr>\n",
       "  </tbody>\n",
       "</table>\n",
       "</div>"
      ],
      "text/plain": [
       "                    comp.graphics  rec.sport.hockey  sci.med  sci.space  \\\n",
       "True labels                                                               \n",
       "comp.graphics                 253                 2        4         10   \n",
       "rec.sport.hockey               11               265        0          1   \n",
       "sci.med                        52                 3      165          3   \n",
       "sci.space                      44                 2        0        180   \n",
       "talk.politics.misc              3                 2        0          3   \n",
       "\n",
       "                    talk.politics.misc  \n",
       "True labels                             \n",
       "comp.graphics                       15  \n",
       "rec.sport.hockey                    22  \n",
       "sci.med                             73  \n",
       "sci.space                           71  \n",
       "talk.politics.misc                 316  "
      ]
     },
     "metadata": {},
     "output_type": "display_data"
    },
    {
     "name": "stdout",
     "output_type": "stream",
     "text": [
      "DO YOU WANT TO RE-RUN WITH OTHER PARAMETERS(Y/N)::y\n",
      "\n",
      "====> READING NAMES OF THE FILES...\n",
      "\n"
     ]
    },
    {
     "name": "stderr",
     "output_type": "stream",
     "text": [
      "100%|██████████████████████████████████████████████████████████████████████████████████| 20/20 [00:12<00:00,  1.57it/s]\n"
     ]
    },
    {
     "name": "stdout",
     "output_type": "stream",
     "text": [
      "ENTER THE PERCENTAGE OF TRAINING DATA TO BE CONSIDERED TO TRAIN THE MODEL(ENTER 0.50 IF 50%)::0.70\n",
      "COUNT OF TRAINING FILES CONSIDERED:: 3500\n",
      "COUNT OF TEST FILES CONSIDERED:: 1500\n",
      "\n",
      "====> READING DOCUMENTS AND GENERATING VOCABULARY...\n",
      "\n"
     ]
    },
    {
     "name": "stderr",
     "output_type": "stream",
     "text": [
      "100%|██████████████████████████████████████████████████████████████████████████████████| 20/20 [00:49<00:00,  2.47s/it]\n"
     ]
    },
    {
     "name": "stdout",
     "output_type": "stream",
     "text": [
      "\n",
      "====> GENERATING TFs...\n",
      "\n"
     ]
    },
    {
     "name": "stderr",
     "output_type": "stream",
     "text": [
      "100%|████████████████████████████████████████████████████████████████████████████████████| 5/5 [00:00<00:00, 13.41it/s]\n"
     ]
    },
    {
     "name": "stdout",
     "output_type": "stream",
     "text": [
      "TOTAL TRAINING FILES READ:: 3500\n",
      "LENGTH OF THE VOCABULARY:: 40658\n",
      "\n",
      "====> GENERATING/LOADING TABLE FOR MUTUAL INFORMATION CALCULATIONS...\n",
      "\n",
      "MI TABLE CORRESPONDING TO 70:30 SPLIT LOADED...!!!\n",
      "\n",
      "====> COMPUTING MUTUAL INFORMATIONS...\n",
      "\n"
     ]
    },
    {
     "name": "stderr",
     "output_type": "stream",
     "text": [
      "100%|████████████████████████████████████████████████████████████████████████████████████| 5/5 [00:41<00:00,  8.28s/it]\n"
     ]
    },
    {
     "name": "stdout",
     "output_type": "stream",
     "text": [
      "ENTER THE COUNT OF FEATURES TO BE SELECTED(FEATURE SELECTION) < LENGTH OF VOCAB::15000\n",
      "\n",
      "====> GENERATING PREDICTIONS...\n",
      "\n"
     ]
    },
    {
     "name": "stderr",
     "output_type": "stream",
     "text": [
      "100%|██████████████████████████████████████████████████████████████████████████████| 1500/1500 [04:56<00:00,  5.06it/s]\n"
     ]
    },
    {
     "name": "stdout",
     "output_type": "stream",
     "text": [
      "ACCURACY ON TEST DATA::  81.26666666666667 %\n",
      "CONFUSION MATRIX ON TEST DATA:: \n"
     ]
    },
    {
     "data": {
      "text/html": [
       "<div>\n",
       "<style scoped>\n",
       "    .dataframe tbody tr th:only-of-type {\n",
       "        vertical-align: middle;\n",
       "    }\n",
       "\n",
       "    .dataframe tbody tr th {\n",
       "        vertical-align: top;\n",
       "    }\n",
       "\n",
       "    .dataframe thead th {\n",
       "        text-align: right;\n",
       "    }\n",
       "</style>\n",
       "<table border=\"1\" class=\"dataframe\">\n",
       "  <thead>\n",
       "    <tr style=\"text-align: right;\">\n",
       "      <th></th>\n",
       "      <th>comp.graphics</th>\n",
       "      <th>rec.sport.hockey</th>\n",
       "      <th>sci.med</th>\n",
       "      <th>sci.space</th>\n",
       "      <th>talk.politics.misc</th>\n",
       "    </tr>\n",
       "    <tr>\n",
       "      <th>True labels</th>\n",
       "      <th></th>\n",
       "      <th></th>\n",
       "      <th></th>\n",
       "      <th></th>\n",
       "      <th></th>\n",
       "    </tr>\n",
       "  </thead>\n",
       "  <tbody>\n",
       "    <tr>\n",
       "      <th>comp.graphics</th>\n",
       "      <td>269</td>\n",
       "      <td>2</td>\n",
       "      <td>0</td>\n",
       "      <td>7</td>\n",
       "      <td>6</td>\n",
       "    </tr>\n",
       "    <tr>\n",
       "      <th>rec.sport.hockey</th>\n",
       "      <td>4</td>\n",
       "      <td>290</td>\n",
       "      <td>0</td>\n",
       "      <td>1</td>\n",
       "      <td>4</td>\n",
       "    </tr>\n",
       "    <tr>\n",
       "      <th>sci.med</th>\n",
       "      <td>44</td>\n",
       "      <td>9</td>\n",
       "      <td>167</td>\n",
       "      <td>1</td>\n",
       "      <td>75</td>\n",
       "    </tr>\n",
       "    <tr>\n",
       "      <th>sci.space</th>\n",
       "      <td>53</td>\n",
       "      <td>5</td>\n",
       "      <td>0</td>\n",
       "      <td>179</td>\n",
       "      <td>60</td>\n",
       "    </tr>\n",
       "    <tr>\n",
       "      <th>talk.politics.misc</th>\n",
       "      <td>7</td>\n",
       "      <td>1</td>\n",
       "      <td>1</td>\n",
       "      <td>1</td>\n",
       "      <td>314</td>\n",
       "    </tr>\n",
       "  </tbody>\n",
       "</table>\n",
       "</div>"
      ],
      "text/plain": [
       "                    comp.graphics  rec.sport.hockey  sci.med  sci.space  \\\n",
       "True labels                                                               \n",
       "comp.graphics                 269                 2        0          7   \n",
       "rec.sport.hockey                4               290        0          1   \n",
       "sci.med                        44                 9      167          1   \n",
       "sci.space                      53                 5        0        179   \n",
       "talk.politics.misc              7                 1        1          1   \n",
       "\n",
       "                    talk.politics.misc  \n",
       "True labels                             \n",
       "comp.graphics                        6  \n",
       "rec.sport.hockey                     4  \n",
       "sci.med                             75  \n",
       "sci.space                           60  \n",
       "talk.politics.misc                 314  "
      ]
     },
     "metadata": {},
     "output_type": "display_data"
    },
    {
     "name": "stdout",
     "output_type": "stream",
     "text": [
      "DO YOU WANT TO RE-RUN WITH OTHER PARAMETERS(Y/N)::y\n",
      "\n",
      "====> READING NAMES OF THE FILES...\n",
      "\n"
     ]
    },
    {
     "name": "stderr",
     "output_type": "stream",
     "text": [
      "100%|██████████████████████████████████████████████████████████████████████████████████| 20/20 [00:11<00:00,  1.78it/s]\n"
     ]
    },
    {
     "name": "stdout",
     "output_type": "stream",
     "text": [
      "ENTER THE PERCENTAGE OF TRAINING DATA TO BE CONSIDERED TO TRAIN THE MODEL(ENTER 0.50 IF 50%)::0.70\n",
      "COUNT OF TRAINING FILES CONSIDERED:: 3500\n",
      "COUNT OF TEST FILES CONSIDERED:: 1500\n",
      "\n",
      "====> READING DOCUMENTS AND GENERATING VOCABULARY...\n",
      "\n"
     ]
    },
    {
     "name": "stderr",
     "output_type": "stream",
     "text": [
      "100%|██████████████████████████████████████████████████████████████████████████████████| 20/20 [00:50<00:00,  2.52s/it]\n"
     ]
    },
    {
     "name": "stdout",
     "output_type": "stream",
     "text": [
      "\n",
      "====> GENERATING TFs...\n",
      "\n"
     ]
    },
    {
     "name": "stderr",
     "output_type": "stream",
     "text": [
      "100%|████████████████████████████████████████████████████████████████████████████████████| 5/5 [00:00<00:00, 13.55it/s]\n"
     ]
    },
    {
     "name": "stdout",
     "output_type": "stream",
     "text": [
      "TOTAL TRAINING FILES READ:: 3500\n",
      "LENGTH OF THE VOCABULARY:: 40658\n",
      "\n",
      "====> GENERATING/LOADING TABLE FOR MUTUAL INFORMATION CALCULATIONS...\n",
      "\n",
      "MI TABLE CORRESPONDING TO 70:30 SPLIT LOADED...!!!\n",
      "\n",
      "====> COMPUTING MUTUAL INFORMATIONS...\n",
      "\n"
     ]
    },
    {
     "name": "stderr",
     "output_type": "stream",
     "text": [
      "100%|████████████████████████████████████████████████████████████████████████████████████| 5/5 [00:45<00:00,  8.98s/it]\n"
     ]
    },
    {
     "name": "stdout",
     "output_type": "stream",
     "text": [
      "ENTER THE COUNT OF FEATURES TO BE SELECTED(FEATURE SELECTION) < LENGTH OF VOCAB::25000\n",
      "\n",
      "====> GENERATING PREDICTIONS...\n",
      "\n"
     ]
    },
    {
     "name": "stderr",
     "output_type": "stream",
     "text": [
      "100%|██████████████████████████████████████████████████████████████████████████████| 1500/1500 [04:56<00:00,  5.06it/s]\n"
     ]
    },
    {
     "name": "stdout",
     "output_type": "stream",
     "text": [
      "ACCURACY ON TEST DATA::  88.6 %\n",
      "CONFUSION MATRIX ON TEST DATA:: \n"
     ]
    },
    {
     "data": {
      "text/html": [
       "<div>\n",
       "<style scoped>\n",
       "    .dataframe tbody tr th:only-of-type {\n",
       "        vertical-align: middle;\n",
       "    }\n",
       "\n",
       "    .dataframe tbody tr th {\n",
       "        vertical-align: top;\n",
       "    }\n",
       "\n",
       "    .dataframe thead th {\n",
       "        text-align: right;\n",
       "    }\n",
       "</style>\n",
       "<table border=\"1\" class=\"dataframe\">\n",
       "  <thead>\n",
       "    <tr style=\"text-align: right;\">\n",
       "      <th></th>\n",
       "      <th>comp.graphics</th>\n",
       "      <th>rec.sport.hockey</th>\n",
       "      <th>sci.med</th>\n",
       "      <th>sci.space</th>\n",
       "      <th>talk.politics.misc</th>\n",
       "    </tr>\n",
       "    <tr>\n",
       "      <th>True labels</th>\n",
       "      <th></th>\n",
       "      <th></th>\n",
       "      <th></th>\n",
       "      <th></th>\n",
       "      <th></th>\n",
       "    </tr>\n",
       "  </thead>\n",
       "  <tbody>\n",
       "    <tr>\n",
       "      <th>comp.graphics</th>\n",
       "      <td>274</td>\n",
       "      <td>3</td>\n",
       "      <td>0</td>\n",
       "      <td>2</td>\n",
       "      <td>5</td>\n",
       "    </tr>\n",
       "    <tr>\n",
       "      <th>rec.sport.hockey</th>\n",
       "      <td>5</td>\n",
       "      <td>292</td>\n",
       "      <td>0</td>\n",
       "      <td>1</td>\n",
       "      <td>1</td>\n",
       "    </tr>\n",
       "    <tr>\n",
       "      <th>sci.med</th>\n",
       "      <td>22</td>\n",
       "      <td>4</td>\n",
       "      <td>230</td>\n",
       "      <td>3</td>\n",
       "      <td>37</td>\n",
       "    </tr>\n",
       "    <tr>\n",
       "      <th>sci.space</th>\n",
       "      <td>28</td>\n",
       "      <td>5</td>\n",
       "      <td>2</td>\n",
       "      <td>221</td>\n",
       "      <td>41</td>\n",
       "    </tr>\n",
       "    <tr>\n",
       "      <th>talk.politics.misc</th>\n",
       "      <td>4</td>\n",
       "      <td>4</td>\n",
       "      <td>2</td>\n",
       "      <td>2</td>\n",
       "      <td>312</td>\n",
       "    </tr>\n",
       "  </tbody>\n",
       "</table>\n",
       "</div>"
      ],
      "text/plain": [
       "                    comp.graphics  rec.sport.hockey  sci.med  sci.space  \\\n",
       "True labels                                                               \n",
       "comp.graphics                 274                 3        0          2   \n",
       "rec.sport.hockey                5               292        0          1   \n",
       "sci.med                        22                 4      230          3   \n",
       "sci.space                      28                 5        2        221   \n",
       "talk.politics.misc              4                 4        2          2   \n",
       "\n",
       "                    talk.politics.misc  \n",
       "True labels                             \n",
       "comp.graphics                        5  \n",
       "rec.sport.hockey                     1  \n",
       "sci.med                             37  \n",
       "sci.space                           41  \n",
       "talk.politics.misc                 312  "
      ]
     },
     "metadata": {},
     "output_type": "display_data"
    },
    {
     "name": "stdout",
     "output_type": "stream",
     "text": [
      "DO YOU WANT TO RE-RUN WITH OTHER PARAMETERS(Y/N)::y\n",
      "\n",
      "====> READING NAMES OF THE FILES...\n",
      "\n"
     ]
    },
    {
     "name": "stderr",
     "output_type": "stream",
     "text": [
      "100%|██████████████████████████████████████████████████████████████████████████████████| 20/20 [00:05<00:00,  3.57it/s]\n"
     ]
    },
    {
     "name": "stdout",
     "output_type": "stream",
     "text": [
      "ENTER THE PERCENTAGE OF TRAINING DATA TO BE CONSIDERED TO TRAIN THE MODEL(ENTER 0.50 IF 50%)::0.80\n",
      "COUNT OF TRAINING FILES CONSIDERED:: 4000\n",
      "COUNT OF TEST FILES CONSIDERED:: 1000\n",
      "\n",
      "====> READING DOCUMENTS AND GENERATING VOCABULARY...\n",
      "\n"
     ]
    },
    {
     "name": "stderr",
     "output_type": "stream",
     "text": [
      "100%|██████████████████████████████████████████████████████████████████████████████████| 20/20 [00:24<00:00,  1.25s/it]\n"
     ]
    },
    {
     "name": "stdout",
     "output_type": "stream",
     "text": [
      "\n",
      "====> GENERATING TFs...\n",
      "\n"
     ]
    },
    {
     "name": "stderr",
     "output_type": "stream",
     "text": [
      "100%|████████████████████████████████████████████████████████████████████████████████████| 5/5 [00:00<00:00, 10.99it/s]\n"
     ]
    },
    {
     "name": "stdout",
     "output_type": "stream",
     "text": [
      "TOTAL TRAINING FILES READ:: 4000\n",
      "LENGTH OF THE VOCABULARY:: 43283\n",
      "\n",
      "====> GENERATING/LOADING TABLE FOR MUTUAL INFORMATION CALCULATIONS...\n",
      "\n",
      "MI TABLE CORRESPONDING TO 80:20 SPLIT LOADED...!!!\n",
      "\n",
      "====> COMPUTING MUTUAL INFORMATIONS...\n",
      "\n"
     ]
    },
    {
     "name": "stderr",
     "output_type": "stream",
     "text": [
      "100%|████████████████████████████████████████████████████████████████████████████████████| 5/5 [00:24<00:00,  5.05s/it]\n"
     ]
    },
    {
     "name": "stdout",
     "output_type": "stream",
     "text": [
      "ENTER THE COUNT OF FEATURES TO BE SELECTED(FEATURE SELECTION) < LENGTH OF VOCAB::5000\n",
      "\n",
      "====> GENERATING PREDICTIONS...\n",
      "\n"
     ]
    },
    {
     "name": "stderr",
     "output_type": "stream",
     "text": [
      "100%|██████████████████████████████████████████████████████████████████████████████| 1000/1000 [02:01<00:00,  8.20it/s]\n"
     ]
    },
    {
     "name": "stdout",
     "output_type": "stream",
     "text": [
      "ACCURACY ON TEST DATA::  77.60000000000001 %\n",
      "CONFUSION MATRIX ON TEST DATA:: \n"
     ]
    },
    {
     "data": {
      "text/html": [
       "<div>\n",
       "<style scoped>\n",
       "    .dataframe tbody tr th:only-of-type {\n",
       "        vertical-align: middle;\n",
       "    }\n",
       "\n",
       "    .dataframe tbody tr th {\n",
       "        vertical-align: top;\n",
       "    }\n",
       "\n",
       "    .dataframe thead th {\n",
       "        text-align: right;\n",
       "    }\n",
       "</style>\n",
       "<table border=\"1\" class=\"dataframe\">\n",
       "  <thead>\n",
       "    <tr style=\"text-align: right;\">\n",
       "      <th></th>\n",
       "      <th>comp.graphics</th>\n",
       "      <th>rec.sport.hockey</th>\n",
       "      <th>sci.med</th>\n",
       "      <th>sci.space</th>\n",
       "      <th>talk.politics.misc</th>\n",
       "    </tr>\n",
       "    <tr>\n",
       "      <th>True labels</th>\n",
       "      <th></th>\n",
       "      <th></th>\n",
       "      <th></th>\n",
       "      <th></th>\n",
       "      <th></th>\n",
       "    </tr>\n",
       "  </thead>\n",
       "  <tbody>\n",
       "    <tr>\n",
       "      <th>comp.graphics</th>\n",
       "      <td>181</td>\n",
       "      <td>3</td>\n",
       "      <td>2</td>\n",
       "      <td>7</td>\n",
       "      <td>12</td>\n",
       "    </tr>\n",
       "    <tr>\n",
       "      <th>rec.sport.hockey</th>\n",
       "      <td>6</td>\n",
       "      <td>179</td>\n",
       "      <td>0</td>\n",
       "      <td>1</td>\n",
       "      <td>8</td>\n",
       "    </tr>\n",
       "    <tr>\n",
       "      <th>sci.med</th>\n",
       "      <td>46</td>\n",
       "      <td>8</td>\n",
       "      <td>97</td>\n",
       "      <td>3</td>\n",
       "      <td>45</td>\n",
       "    </tr>\n",
       "    <tr>\n",
       "      <th>sci.space</th>\n",
       "      <td>33</td>\n",
       "      <td>2</td>\n",
       "      <td>0</td>\n",
       "      <td>119</td>\n",
       "      <td>42</td>\n",
       "    </tr>\n",
       "    <tr>\n",
       "      <th>talk.politics.misc</th>\n",
       "      <td>5</td>\n",
       "      <td>1</td>\n",
       "      <td>0</td>\n",
       "      <td>0</td>\n",
       "      <td>200</td>\n",
       "    </tr>\n",
       "  </tbody>\n",
       "</table>\n",
       "</div>"
      ],
      "text/plain": [
       "                    comp.graphics  rec.sport.hockey  sci.med  sci.space  \\\n",
       "True labels                                                               \n",
       "comp.graphics                 181                 3        2          7   \n",
       "rec.sport.hockey                6               179        0          1   \n",
       "sci.med                        46                 8       97          3   \n",
       "sci.space                      33                 2        0        119   \n",
       "talk.politics.misc              5                 1        0          0   \n",
       "\n",
       "                    talk.politics.misc  \n",
       "True labels                             \n",
       "comp.graphics                       12  \n",
       "rec.sport.hockey                     8  \n",
       "sci.med                             45  \n",
       "sci.space                           42  \n",
       "talk.politics.misc                 200  "
      ]
     },
     "metadata": {},
     "output_type": "display_data"
    },
    {
     "name": "stdout",
     "output_type": "stream",
     "text": [
      "DO YOU WANT TO RE-RUN WITH OTHER PARAMETERS(Y/N)::y\n",
      "\n",
      "====> READING NAMES OF THE FILES...\n",
      "\n"
     ]
    },
    {
     "name": "stderr",
     "output_type": "stream",
     "text": [
      "100%|██████████████████████████████████████████████████████████████████████████████████| 20/20 [00:06<00:00,  2.91it/s]\n"
     ]
    },
    {
     "name": "stdout",
     "output_type": "stream",
     "text": [
      "ENTER THE PERCENTAGE OF TRAINING DATA TO BE CONSIDERED TO TRAIN THE MODEL(ENTER 0.50 IF 50%)::0.80\n",
      "COUNT OF TRAINING FILES CONSIDERED:: 4000\n",
      "COUNT OF TEST FILES CONSIDERED:: 1000\n",
      "\n",
      "====> READING DOCUMENTS AND GENERATING VOCABULARY...\n",
      "\n"
     ]
    },
    {
     "name": "stderr",
     "output_type": "stream",
     "text": [
      "100%|██████████████████████████████████████████████████████████████████████████████████| 20/20 [00:38<00:00,  1.94s/it]\n"
     ]
    },
    {
     "name": "stdout",
     "output_type": "stream",
     "text": [
      "\n",
      "====> GENERATING TFs...\n",
      "\n"
     ]
    },
    {
     "name": "stderr",
     "output_type": "stream",
     "text": [
      "100%|████████████████████████████████████████████████████████████████████████████████████| 5/5 [00:00<00:00, 19.96it/s]\n"
     ]
    },
    {
     "name": "stdout",
     "output_type": "stream",
     "text": [
      "TOTAL TRAINING FILES READ:: 4000\n",
      "LENGTH OF THE VOCABULARY:: 43283\n",
      "\n",
      "====> GENERATING/LOADING TABLE FOR MUTUAL INFORMATION CALCULATIONS...\n",
      "\n",
      "MI TABLE CORRESPONDING TO 80:20 SPLIT LOADED...!!!\n",
      "\n",
      "====> COMPUTING MUTUAL INFORMATIONS...\n",
      "\n"
     ]
    },
    {
     "name": "stderr",
     "output_type": "stream",
     "text": [
      "100%|████████████████████████████████████████████████████████████████████████████████████| 5/5 [00:27<00:00,  5.59s/it]\n"
     ]
    },
    {
     "name": "stdout",
     "output_type": "stream",
     "text": [
      "ENTER THE COUNT OF FEATURES TO BE SELECTED(FEATURE SELECTION) < LENGTH OF VOCAB::15000\n",
      "\n",
      "====> GENERATING PREDICTIONS...\n",
      "\n"
     ]
    },
    {
     "name": "stderr",
     "output_type": "stream",
     "text": [
      "100%|██████████████████████████████████████████████████████████████████████████████| 1000/1000 [02:06<00:00,  9.86it/s]\n"
     ]
    },
    {
     "name": "stdout",
     "output_type": "stream",
     "text": [
      "ACCURACY ON TEST DATA::  82.1 %\n",
      "CONFUSION MATRIX ON TEST DATA:: \n"
     ]
    },
    {
     "data": {
      "text/html": [
       "<div>\n",
       "<style scoped>\n",
       "    .dataframe tbody tr th:only-of-type {\n",
       "        vertical-align: middle;\n",
       "    }\n",
       "\n",
       "    .dataframe tbody tr th {\n",
       "        vertical-align: top;\n",
       "    }\n",
       "\n",
       "    .dataframe thead th {\n",
       "        text-align: right;\n",
       "    }\n",
       "</style>\n",
       "<table border=\"1\" class=\"dataframe\">\n",
       "  <thead>\n",
       "    <tr style=\"text-align: right;\">\n",
       "      <th></th>\n",
       "      <th>comp.graphics</th>\n",
       "      <th>rec.sport.hockey</th>\n",
       "      <th>sci.med</th>\n",
       "      <th>sci.space</th>\n",
       "      <th>talk.politics.misc</th>\n",
       "    </tr>\n",
       "    <tr>\n",
       "      <th>True labels</th>\n",
       "      <th></th>\n",
       "      <th></th>\n",
       "      <th></th>\n",
       "      <th></th>\n",
       "      <th></th>\n",
       "    </tr>\n",
       "  </thead>\n",
       "  <tbody>\n",
       "    <tr>\n",
       "      <th>comp.graphics</th>\n",
       "      <td>196</td>\n",
       "      <td>3</td>\n",
       "      <td>0</td>\n",
       "      <td>3</td>\n",
       "      <td>3</td>\n",
       "    </tr>\n",
       "    <tr>\n",
       "      <th>rec.sport.hockey</th>\n",
       "      <td>2</td>\n",
       "      <td>191</td>\n",
       "      <td>0</td>\n",
       "      <td>0</td>\n",
       "      <td>1</td>\n",
       "    </tr>\n",
       "    <tr>\n",
       "      <th>sci.med</th>\n",
       "      <td>41</td>\n",
       "      <td>7</td>\n",
       "      <td>114</td>\n",
       "      <td>3</td>\n",
       "      <td>34</td>\n",
       "    </tr>\n",
       "    <tr>\n",
       "      <th>sci.space</th>\n",
       "      <td>37</td>\n",
       "      <td>2</td>\n",
       "      <td>0</td>\n",
       "      <td>123</td>\n",
       "      <td>34</td>\n",
       "    </tr>\n",
       "    <tr>\n",
       "      <th>talk.politics.misc</th>\n",
       "      <td>5</td>\n",
       "      <td>1</td>\n",
       "      <td>2</td>\n",
       "      <td>1</td>\n",
       "      <td>197</td>\n",
       "    </tr>\n",
       "  </tbody>\n",
       "</table>\n",
       "</div>"
      ],
      "text/plain": [
       "                    comp.graphics  rec.sport.hockey  sci.med  sci.space  \\\n",
       "True labels                                                               \n",
       "comp.graphics                 196                 3        0          3   \n",
       "rec.sport.hockey                2               191        0          0   \n",
       "sci.med                        41                 7      114          3   \n",
       "sci.space                      37                 2        0        123   \n",
       "talk.politics.misc              5                 1        2          1   \n",
       "\n",
       "                    talk.politics.misc  \n",
       "True labels                             \n",
       "comp.graphics                        3  \n",
       "rec.sport.hockey                     1  \n",
       "sci.med                             34  \n",
       "sci.space                           34  \n",
       "talk.politics.misc                 197  "
      ]
     },
     "metadata": {},
     "output_type": "display_data"
    },
    {
     "name": "stdout",
     "output_type": "stream",
     "text": [
      "DO YOU WANT TO RE-RUN WITH OTHER PARAMETERS(Y/N)::y\n",
      "\n",
      "====> READING NAMES OF THE FILES...\n",
      "\n"
     ]
    },
    {
     "name": "stderr",
     "output_type": "stream",
     "text": [
      "100%|██████████████████████████████████████████████████████████████████████████████████| 20/20 [00:05<00:00,  3.62it/s]\n"
     ]
    },
    {
     "name": "stdout",
     "output_type": "stream",
     "text": [
      "ENTER THE PERCENTAGE OF TRAINING DATA TO BE CONSIDERED TO TRAIN THE MODEL(ENTER 0.50 IF 50%)::0.80\n",
      "COUNT OF TRAINING FILES CONSIDERED:: 4000\n",
      "COUNT OF TEST FILES CONSIDERED:: 1000\n",
      "\n",
      "====> READING DOCUMENTS AND GENERATING VOCABULARY...\n",
      "\n"
     ]
    },
    {
     "name": "stderr",
     "output_type": "stream",
     "text": [
      "100%|██████████████████████████████████████████████████████████████████████████████████| 20/20 [00:35<00:00,  1.80s/it]\n"
     ]
    },
    {
     "name": "stdout",
     "output_type": "stream",
     "text": [
      "\n",
      "====> GENERATING TFs...\n",
      "\n"
     ]
    },
    {
     "name": "stderr",
     "output_type": "stream",
     "text": [
      "100%|████████████████████████████████████████████████████████████████████████████████████| 5/5 [00:00<00:00, 19.76it/s]\n"
     ]
    },
    {
     "name": "stdout",
     "output_type": "stream",
     "text": [
      "TOTAL TRAINING FILES READ:: 4000\n",
      "LENGTH OF THE VOCABULARY:: 43283\n",
      "\n",
      "====> GENERATING/LOADING TABLE FOR MUTUAL INFORMATION CALCULATIONS...\n",
      "\n",
      "MI TABLE CORRESPONDING TO 80:20 SPLIT LOADED...!!!\n",
      "\n",
      "====> COMPUTING MUTUAL INFORMATIONS...\n",
      "\n"
     ]
    },
    {
     "name": "stderr",
     "output_type": "stream",
     "text": [
      "100%|████████████████████████████████████████████████████████████████████████████████████| 5/5 [00:27<00:00,  5.59s/it]\n"
     ]
    },
    {
     "name": "stdout",
     "output_type": "stream",
     "text": [
      "ENTER THE COUNT OF FEATURES TO BE SELECTED(FEATURE SELECTION) < LENGTH OF VOCAB::25000\n",
      "\n",
      "====> GENERATING PREDICTIONS...\n",
      "\n"
     ]
    },
    {
     "name": "stderr",
     "output_type": "stream",
     "text": [
      "100%|██████████████████████████████████████████████████████████████████████████████| 1000/1000 [02:11<00:00,  7.58it/s]\n"
     ]
    },
    {
     "name": "stdout",
     "output_type": "stream",
     "text": [
      "ACCURACY ON TEST DATA::  88.7 %\n",
      "CONFUSION MATRIX ON TEST DATA:: \n"
     ]
    },
    {
     "data": {
      "text/html": [
       "<div>\n",
       "<style scoped>\n",
       "    .dataframe tbody tr th:only-of-type {\n",
       "        vertical-align: middle;\n",
       "    }\n",
       "\n",
       "    .dataframe tbody tr th {\n",
       "        vertical-align: top;\n",
       "    }\n",
       "\n",
       "    .dataframe thead th {\n",
       "        text-align: right;\n",
       "    }\n",
       "</style>\n",
       "<table border=\"1\" class=\"dataframe\">\n",
       "  <thead>\n",
       "    <tr style=\"text-align: right;\">\n",
       "      <th></th>\n",
       "      <th>comp.graphics</th>\n",
       "      <th>rec.sport.hockey</th>\n",
       "      <th>sci.med</th>\n",
       "      <th>sci.space</th>\n",
       "      <th>talk.politics.misc</th>\n",
       "    </tr>\n",
       "    <tr>\n",
       "      <th>True labels</th>\n",
       "      <th></th>\n",
       "      <th></th>\n",
       "      <th></th>\n",
       "      <th></th>\n",
       "      <th></th>\n",
       "    </tr>\n",
       "  </thead>\n",
       "  <tbody>\n",
       "    <tr>\n",
       "      <th>comp.graphics</th>\n",
       "      <td>190</td>\n",
       "      <td>5</td>\n",
       "      <td>1</td>\n",
       "      <td>5</td>\n",
       "      <td>4</td>\n",
       "    </tr>\n",
       "    <tr>\n",
       "      <th>rec.sport.hockey</th>\n",
       "      <td>1</td>\n",
       "      <td>191</td>\n",
       "      <td>0</td>\n",
       "      <td>0</td>\n",
       "      <td>2</td>\n",
       "    </tr>\n",
       "    <tr>\n",
       "      <th>sci.med</th>\n",
       "      <td>10</td>\n",
       "      <td>10</td>\n",
       "      <td>147</td>\n",
       "      <td>7</td>\n",
       "      <td>25</td>\n",
       "    </tr>\n",
       "    <tr>\n",
       "      <th>sci.space</th>\n",
       "      <td>12</td>\n",
       "      <td>4</td>\n",
       "      <td>1</td>\n",
       "      <td>162</td>\n",
       "      <td>17</td>\n",
       "    </tr>\n",
       "    <tr>\n",
       "      <th>talk.politics.misc</th>\n",
       "      <td>5</td>\n",
       "      <td>2</td>\n",
       "      <td>1</td>\n",
       "      <td>1</td>\n",
       "      <td>197</td>\n",
       "    </tr>\n",
       "  </tbody>\n",
       "</table>\n",
       "</div>"
      ],
      "text/plain": [
       "                    comp.graphics  rec.sport.hockey  sci.med  sci.space  \\\n",
       "True labels                                                               \n",
       "comp.graphics                 190                 5        1          5   \n",
       "rec.sport.hockey                1               191        0          0   \n",
       "sci.med                        10                10      147          7   \n",
       "sci.space                      12                 4        1        162   \n",
       "talk.politics.misc              5                 2        1          1   \n",
       "\n",
       "                    talk.politics.misc  \n",
       "True labels                             \n",
       "comp.graphics                        4  \n",
       "rec.sport.hockey                     2  \n",
       "sci.med                             25  \n",
       "sci.space                           17  \n",
       "talk.politics.misc                 197  "
      ]
     },
     "metadata": {},
     "output_type": "display_data"
    },
    {
     "name": "stdout",
     "output_type": "stream",
     "text": [
      "DO YOU WANT TO RE-RUN WITH OTHER PARAMETERS(Y/N)::n\n"
     ]
    }
   ],
   "source": [
    "path = \"C:\\\\Users\\\\Sai Kumar\\\\Desktop\\\\SEM-2\\\\IR\\\\20NEWS\\\\20_newsgroups\\\\*\"\n",
    "dec = \"y\"\n",
    "train_size=[]\n",
    "features=[]\n",
    "perf=[]\n",
    "while(dec==\"y\" or dec==\"Y\"):\n",
    "    print(\"\\n====> READING NAMES OF THE FILES...\\n\")\n",
    "    files_df = read_names(path)\n",
    "    ratio = float(input(\"ENTER THE PERCENTAGE OF TRAINING DATA TO BE CONSIDERED TO TRAIN THE MODEL(ENTER 0.50 IF 50%)::\"))\n",
    "    train_files,test_files = split(ratio,files_df)\n",
    "    print(\"COUNT OF TRAINING FILES CONSIDERED::\",len(train_files))\n",
    "    print(\"COUNT OF TEST FILES CONSIDERED::\",len(test_files))\n",
    "    print(\"\\n====> READING DOCUMENTS AND GENERATING VOCABULARY...\\n\")\n",
    "    test_preproc_dict,preproc_data_dict,mi_table,train_files_class_wise,vocab,preproc_data_filewise,tfs_class_wise = readfiles(path,ratio,test_files)\n",
    "    ##returns testing files data,class wise data, MI table,count of training files(class wise),vocabulary,ppdata filewise\n",
    "    classes = list(train_files_class_wise.keys())\n",
    "    classes.sort()\n",
    "    print(\"\\n====> COMPUTING MUTUAL INFORMATIONS...\\n\")\n",
    "    mis_cls_and_term_wise={}\n",
    "    col_count=0\n",
    "    for i in tqdm(classes,leave=True,position=0):\n",
    "        col_count+=1\n",
    "        temp_dict={}\n",
    "        for j in range(len(list(mi_table['↓ term ; class ->']))):\n",
    "            values = {\"N_00\":0,\"N_01\":0,\"N_10\":0,\"N_11\":0,\"N\":0}\n",
    "            term = mi_table.iloc[j,0]\n",
    "            #print(\"term::\",term)\n",
    "            #print(\"mi_table.iloc[j,1]::\",mi_table.iloc[j,1])\n",
    "            values[\"N_11\"] = mi_table.iloc[j,col_count]\n",
    "            values[\"N_10\"] = mi_table.values[j:j+1,1:].sum(axis =1)-values[\"N_11\"]\n",
    "            values[\"N_01\"] = train_files_class_wise[i]-values[\"N_11\"]\n",
    "            values[\"N_00\"] = sum(train_files_class_wise.values())-train_files_class_wise[i]-values[\"N_10\"]\n",
    "                                                 ##total_docs - docs_of_current_iter_class - N_10\n",
    "            values[\"N\"] = values[\"N_11\"]+values[\"N_10\"]+values[\"N_01\"]+values[\"N_00\"] \n",
    "            try:\n",
    "                t1 = (values[\"N_11\"]/values[\"N\"])*math.log2(values[\"N\"]*values[\"N_11\"]/((values[\"N_11\"]+values[\"N_10\"])*(values[\"N_01\"]+values[\"N_11\"])))\n",
    "            except:\n",
    "                t1=0\n",
    "            try:\n",
    "                t2 = (values[\"N_01\"]/values[\"N\"])*math.log2(values[\"N\"]*values[\"N_01\"]/((values[\"N_00\"]+values[\"N_01\"])*(values[\"N_01\"]+values[\"N_11\"])))\n",
    "            except:\n",
    "                t2=0\n",
    "            try:\n",
    "                t3 = (values[\"N_10\"]/values[\"N\"])*math.log2(values[\"N\"]*values[\"N_10\"]/((values[\"N_11\"]+values[\"N_10\"])*(values[\"N_00\"]+values[\"N_10\"])))\n",
    "            except:\n",
    "                t3=0\n",
    "            try:\n",
    "                t4 = (values[\"N_00\"]/values[\"N\"])*math.log2(values[\"N\"]*values[\"N_00\"]/((values[\"N_00\"]+values[\"N_01\"])*(values[\"N_00\"]+values[\"N_10\"])))\n",
    "            except:\n",
    "                t4=0\n",
    "            mi = t1+t2+t3+t4\n",
    "            temp_dict[term] = mi[0]\n",
    "        mis_cls_and_term_wise[i] = temp_dict\n",
    "    feat_selection = int(input(\"ENTER THE COUNT OF FEATURES TO BE SELECTED(FEATURE SELECTION) < LENGTH OF VOCAB::\"))\n",
    "    for i in mis_cls_and_term_wise:\n",
    "            mis_cls_and_term_wise[i] = dict(sorted(mis_cls_and_term_wise[i].items(),key=operator.itemgetter(1),reverse=True))\n",
    "            mis_cls_and_term_wise[i] = dict(itertools.islice(mis_cls_and_term_wise[i].items(),feat_selection))\n",
    "    test_files = list(test_preproc_dict.keys()) ## contains names of test files...\n",
    "    predictions=[]\n",
    "    ground_truth=[]\n",
    "    print(\"\\n====> GENERATING PREDICTIONS...\\n\")\n",
    "    for i in tqdm(test_files,leave=True,position=0):  ## sci.med_1234 etc..\n",
    "        ground_truth.append(i.split(\"_\")[0])\n",
    "        pred_temp={}\n",
    "        for j in classes: ## comp.graphics etc..\n",
    "            prob=math.log10(train_files_class_wise[j]/sum(train_files_class_wise.values()))\n",
    "            for k in test_preproc_dict[i].split():\n",
    "                if k in mis_cls_and_term_wise[j]:\n",
    "                  ## checking whether the test word is in top-selected features\n",
    "                    if k in tfs_class_wise[j]:\n",
    "                  ## checking whether the words is present in that class.(beacuse Mi selection is not class-wise it is doc-wise)\n",
    "                        prob = prob+math.log10((tfs_class_wise[j][k]+1)/(sum(tfs_class_wise[j].values())+len(vocab)))\n",
    "                    else:\n",
    "                        ## performing add-1 smoothing if feature is absent in class..\n",
    "                        prob = prob+math.log10(1/(sum(tfs_class_wise[j].values())+len(vocab)))    \n",
    "                else:\n",
    "                    ## performing add-1 smoothing if test word is not present in top-k features \n",
    "                    prob = prob+math.log10(1/(sum(tfs_class_wise[j].values())+len(vocab)))\n",
    "            pred_temp[j]=prob\n",
    "        pred_temp = dict(sorted(pred_temp.items(),key=operator.itemgetter(1),reverse=True))\n",
    "        ##sorting the class_names in desc-order based on probs\n",
    "        ##print(pred_temp)\n",
    "        predictions.append(list(pred_temp.keys())[0]) ## appending 1st key value as prediction\n",
    "    acc=0\n",
    "    for i in range(len(test_files)):\n",
    "        if(predictions[i]==ground_truth[i]):\n",
    "            acc+=1\n",
    "    acc = acc/len(test_files)\n",
    "    print(\"ACCURACY ON TEST DATA:: \",acc*100,\"%\")\n",
    "    train_size.append(ratio)\n",
    "    features.append(feat_selection)\n",
    "    perf.append(acc)\n",
    "    print(\"CONFUSION MATRIX ON TEST DATA:: \")\n",
    "    #ref:https://stackoverflow.com/questions/50325786/sci-kit-learn-how-to-print-labels-for-confusion-matrix\n",
    "    conf_df = pd.DataFrame(confusion_matrix(ground_truth,predictions),columns=classes,index=classes)\n",
    "    conf_df.index.name = 'True labels'\n",
    "    display(conf_df)\n",
    "    dec = input(\"DO YOU WANT TO RE-RUN WITH OTHER PARAMETERS(Y/N)::\")"
   ]
  },
  {
   "cell_type": "markdown",
   "metadata": {},
   "source": [
    "# RESULTS"
   ]
  },
  {
   "cell_type": "code",
   "execution_count": 317,
   "metadata": {},
   "outputs": [
    {
     "name": "stdout",
     "output_type": "stream",
     "text": [
      "+-------------------------------+------------------------+--------------------+\n",
      "| % OF TRAINING DATA CONSIDERED | FEATURE SELECTION (MI) |      ACCURACY      |\n",
      "+-------------------------------+------------------------+--------------------+\n",
      "|              50%              |          5000          |       76.92%       |\n",
      "|              50%              |         15000          |       83.16%       |\n",
      "|              50%              |         25000          |       87.24%       |\n",
      "|              70%              |          5000          | 78.60000000000001% |\n",
      "|              70%              |         15000          | 81.26666666666667% |\n",
      "|              70%              |         25000          |       88.6%        |\n",
      "|              80%              |          5000          | 77.60000000000001% |\n",
      "|              80%              |         15000          |       82.1%        |\n",
      "|              80%              |         25000          |       88.7%        |\n",
      "+-------------------------------+------------------------+--------------------+\n"
     ]
    }
   ],
   "source": [
    "res = PrettyTable()\n",
    "res.field_names = [\"% OF TRAINING DATA CONSIDERED\", \"FEATURE SELECTION (MI)\",\"ACCURACY\"]\n",
    "for i in range(len(train_size)):\n",
    "    res.add_row([str(round(train_size[i]*100))+\"%\", features[i], str(perf[i]*100)+\"%\"])\n",
    "print(res)"
   ]
  },
  {
   "cell_type": "markdown",
   "metadata": {},
   "source": [
    "## PERFOMANCE PLOTS"
   ]
  },
  {
   "cell_type": "code",
   "execution_count": 318,
   "metadata": {},
   "outputs": [
    {
     "data": {
      "image/png": "[encoded data removed]",
      "text/plain": [
       "<Figure size 432x288 with 1 Axes>"
      ]
     },
     "metadata": {
      "needs_background": "light"
     },
     "output_type": "display_data"
    }
   ],
   "source": [
    "plt.plot(features[0:3],perf[0:3])\n",
    "plt.xlabel(\"COUNT OF FEATURES SELECTED\")\n",
    "plt.ylabel(\"ACCURACY\")\n",
    "plt.title(\"FEATURE COUNT V/S ACCURACY WITH TRAIN-TEST SPLIT OF 50:50\")\n",
    "plt.show()"
   ]
  },
  {
   "cell_type": "code",
   "execution_count": 319,
   "metadata": {},
   "outputs": [
    {
     "data": {
      "image/png": "[encoded data removed]",
      "text/plain": [
       "<Figure size 432x288 with 1 Axes>"
      ]
     },
     "metadata": {
      "needs_background": "light"
     },
     "output_type": "display_data"
    }
   ],
   "source": [
    "plt.plot(features[3:6],perf[3:6])\n",
    "plt.xlabel(\"COUNT OF FEATURES SELECTED\")\n",
    "plt.ylabel(\"ACCURACY\")\n",
    "plt.title(\"FEATURE COUNT V/S ACCURACY WITH TRAIN-TEST SPLIT OF 70:30\")\n",
    "plt.show()"
   ]
  },
  {
   "cell_type": "code",
   "execution_count": 320,
   "metadata": {},
   "outputs": [
    {
     "data": {
      "image/png": "[encoded data removed]",
      "text/plain": [
       "<Figure size 432x288 with 1 Axes>"
      ]
     },
     "metadata": {
      "needs_background": "light"
     },
     "output_type": "display_data"
    }
   ],
   "source": [
    "plt.plot(features[6:9],perf[6:9])\n",
    "plt.xlabel(\"COUNT OF FEATURES SELECTED\")\n",
    "plt.ylabel(\"ACCURACY\")\n",
    "plt.title(\"FEATURE COUNT V/S ACCURACY WITH TRAIN-TEST SPLIT OF 80:20\")\n",
    "plt.show()"
   ]
  },
  {
   "cell_type": "code",
   "execution_count": 321,
   "metadata": {},
   "outputs": [
    {
     "data": {
      "image/png": "[encoded data removed]",
      "text/plain": [
       "<Figure size 432x288 with 1 Axes>"
      ]
     },
     "metadata": {
      "needs_background": "light"
     },
     "output_type": "display_data"
    }
   ],
   "source": [
    "plt.plot([train_size[2],train_size[5],train_size[8]],[perf[2]*100,perf[5]*100,perf[8]*100])\n",
    "plt.xlabel(\"FRACTION OF TRAINING DATA CONSIDERED\")\n",
    "plt.ylabel(\"ACCURACY\")\n",
    "plt.title(\"FRACTION OF DATA CONSIDERED FOR TRAINING VS TEST-ACCURACY\")\n",
    "plt.show()"
   ]
  },
  {
   "cell_type": "code",
   "execution_count": null,
   "metadata": {},
   "outputs": [],
   "source": []
  }
 ],
 "metadata": {
  "kernelspec": {
   "display_name": "Python 3",
   "language": "python",
   "name": "python3"
  },
  "language_info": {
   "codemirror_mode": {
    "name": "ipython",
    "version": 3
   },
   "file_extension": ".py",
   "mimetype": "text/x-python",
   "name": "python",
   "nbconvert_exporter": "python",
   "pygments_lexer": "ipython3",
   "version": "3.7.1"
  }
 },
 "nbformat": 4,
 "nbformat_minor": 2
}
